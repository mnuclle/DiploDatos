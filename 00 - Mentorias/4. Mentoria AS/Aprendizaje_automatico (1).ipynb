{
 "cells": [
  {
   "cell_type": "markdown",
   "metadata": {},
   "source": [
    "# Proyecto: Análisis del mercado inmobiliario de la Ciudad de Buenos Aires"
   ]
  },
  {
   "cell_type": "markdown",
   "metadata": {},
   "source": [
    "Mentor: Javier Lezama."
   ]
  },
  {
   "cell_type": "markdown",
   "metadata": {},
   "source": [
    "javitolez@gmail.com"
   ]
  },
  {
   "cell_type": "markdown",
   "metadata": {},
   "source": [
    "En este proyecto vamos a trabajar con un dataset de propiedades en venta publicadas en el portal www.Properati.com.ar."
   ]
  },
  {
   "cell_type": "markdown",
   "metadata": {},
   "source": [
    "# El dataset: propiedades en venta en Ciudad de Buenos Aires."
   ]
  },
  {
   "cell_type": "markdown",
   "metadata": {},
   "source": [
    "En este proyecto, trabajaremos con una muestra del conjunto de datos de propiedades en venta mencionado. En este dataset, cada fila es una propiedad en venta. \n",
    "\n",
    "#Los atributos\n",
    "\n",
    "A continuación vamos a describir los atributos que consideramos en esta muestra:\n",
    "* id: id de la propiedad\n",
    "* created_on: fecha en la que la propiedad ingresó al sitio\n",
    "* operation: alquiler (rent) o venta (sell)\n",
    "* property_type: tipo de propiedad (casa, departamento, ph, etcétera)\n",
    "* place_with_parent_names: nombre del lugar donde se encuentra la propiedad según el publicador\n",
    "* lat-lon: coordenadas concatenadas\n",
    "* lat: latitud\n",
    "* lon: longitud\n",
    "* price: precio en la moneda especificada en currency\n",
    "* currency: divisa en la que está expresada la publicación\n",
    "* price_aprox_usd: precio aproximado en dólares estadounidenses\n",
    "* surface_total_in_m2: superficie total (en metros cuadrados)\n",
    "* surface_covered_in_m2: superficie cubierta (en metros cuadrados)\n",
    "* price_usd_per_m2: precio por metro cuadrado en dólares (precio dólares / superficie)\n",
    "* floor: número de piso (si corresponde)\n",
    "* rooms: cantidad de ambientes\n",
    "* expenses: expensas (si corresponde)\n",
    "* barrio: barrio según cartografía oficial\n",
    "* properati_url: url de la publicación en Properati"
   ]
  },
  {
   "cell_type": "markdown",
   "metadata": {},
   "source": [
    "Objetivos del practico aprendizaje automático:\n",
    "\n",
    "El objetivo de este práctico es trabajar con el mismo dateset trabajado en el práctico dos, trabajar con diferentes modelos de regresión no trabajados antes y lo visto en el módulo de clases.\n",
    "Para eso trabajaremos con el dataset resultante del practico dos para armar diferentes modelos para predecir el precio de las propiedades en dólares."
   ]
  },
  {
   "cell_type": "markdown",
   "metadata": {},
   "source": [
    "# Manos a la obra\n"
   ]
  },
  {
   "cell_type": "markdown",
   "metadata": {},
   "source": [
    "Partiremos con el dataset resultante del práctico dos."
   ]
  },
  {
   "cell_type": "code",
   "execution_count": 116,
   "metadata": {},
   "outputs": [],
   "source": [
    "# Import the required packages\n",
    "import os\n",
    "\n",
    "import numpy as np\n",
    "import pandas as pd\n",
    "import seaborn as sns\n",
    "import matplotlib.pyplot as plt\n",
    "\n",
    "\n",
    "#from ml.visualization import plot_confusion_matrix, plot_learning_curve\n",
    "from sklearn.datasets import load_wine\n",
    "from sklearn.linear_model import SGDClassifier\n",
    "from sklearn.model_selection import train_test_split\n",
    "from sklearn.metrics import accuracy_score, classification_report, confusion_matrix\n",
    "from sklearn.model_selection import GridSearchCV, train_test_split\n",
    "\n",
    "np.random.seed(1234) # Para mayor determinismo\n",
    "\n"
   ]
  },
  {
   "cell_type": "code",
   "execution_count": 2,
   "metadata": {},
   "outputs": [
    {
     "name": "stdout",
     "output_type": "stream",
     "text": [
      "<class 'pandas.core.frame.DataFrame'>\n",
      "RangeIndex: 7716 entries, 0 to 7715\n",
      "Data columns (total 79 columns):\n",
      "Unnamed: 0                                                                       7716 non-null int64\n",
      "created_on                                                                       7716 non-null object\n",
      "operation                                                                        7716 non-null object\n",
      "property_type                                                                    7716 non-null int64\n",
      "place_with_parent_names                                                          7716 non-null object\n",
      "lat-lon                                                                          7716 non-null object\n",
      "lat                                                                              7716 non-null float64\n",
      "lon                                                                              7716 non-null float64\n",
      "price_aprox_usd                                                                  7716 non-null float64\n",
      "surface_total_in_m2                                                              7716 non-null float64\n",
      "surface_covered_in_m2                                                            7716 non-null float64\n",
      "price_usd_per_m2                                                                 7716 non-null float64\n",
      "rooms                                                                            7716 non-null float64\n",
      "properati_url                                                                    7716 non-null object\n",
      "comuna                                                                           7716 non-null float64\n",
      "barrio_cod                                                                       7716 non-null int64\n",
      "rooms_mean                                                                       7716 non-null float64\n",
      "operation_sell                                                                   7716 non-null int64\n",
      "place_with_parent_names_|Argentina|Capital Federal|                              7716 non-null int64\n",
      "place_with_parent_names_|Argentina|Capital Federal|Abasto|                       7716 non-null int64\n",
      "place_with_parent_names_|Argentina|Capital Federal|Agronomía|                    7716 non-null int64\n",
      "place_with_parent_names_|Argentina|Capital Federal|Almagro|                      7716 non-null int64\n",
      "place_with_parent_names_|Argentina|Capital Federal|Balvanera|                    7716 non-null int64\n",
      "place_with_parent_names_|Argentina|Capital Federal|Barracas|                     7716 non-null int64\n",
      "place_with_parent_names_|Argentina|Capital Federal|Barrio Norte|                 7716 non-null int64\n",
      "place_with_parent_names_|Argentina|Capital Federal|Belgrano|                     7716 non-null int64\n",
      "place_with_parent_names_|Argentina|Capital Federal|Boca|                         7716 non-null int64\n",
      "place_with_parent_names_|Argentina|Capital Federal|Boedo|                        7716 non-null int64\n",
      "place_with_parent_names_|Argentina|Capital Federal|Caballito|                    7716 non-null int64\n",
      "place_with_parent_names_|Argentina|Capital Federal|Catalinas|                    7716 non-null int64\n",
      "place_with_parent_names_|Argentina|Capital Federal|Centro / Microcentro|         7716 non-null int64\n",
      "place_with_parent_names_|Argentina|Capital Federal|Chacarita|                    7716 non-null int64\n",
      "place_with_parent_names_|Argentina|Capital Federal|Coghlan|                      7716 non-null int64\n",
      "place_with_parent_names_|Argentina|Capital Federal|Colegiales|                   7716 non-null int64\n",
      "place_with_parent_names_|Argentina|Capital Federal|Congreso|                     7716 non-null int64\n",
      "place_with_parent_names_|Argentina|Capital Federal|Constitución|                 7716 non-null int64\n",
      "place_with_parent_names_|Argentina|Capital Federal|Floresta|                     7716 non-null int64\n",
      "place_with_parent_names_|Argentina|Capital Federal|Flores|                       7716 non-null int64\n",
      "place_with_parent_names_|Argentina|Capital Federal|Las Cañitas|                  7716 non-null int64\n",
      "place_with_parent_names_|Argentina|Capital Federal|Liniers|                      7716 non-null int64\n",
      "place_with_parent_names_|Argentina|Capital Federal|Mataderos|                    7716 non-null int64\n",
      "place_with_parent_names_|Argentina|Capital Federal|Monserrat|                    7716 non-null int64\n",
      "place_with_parent_names_|Argentina|Capital Federal|Monte Castro|                 7716 non-null int64\n",
      "place_with_parent_names_|Argentina|Capital Federal|Nuñez|                        7716 non-null int64\n",
      "place_with_parent_names_|Argentina|Capital Federal|Once|                         7716 non-null int64\n",
      "place_with_parent_names_|Argentina|Capital Federal|Palermo|                      7716 non-null int64\n",
      "place_with_parent_names_|Argentina|Capital Federal|Palermo|Palermo Chico|        7716 non-null int64\n",
      "place_with_parent_names_|Argentina|Capital Federal|Palermo|Palermo Hollywood|    7716 non-null int64\n",
      "place_with_parent_names_|Argentina|Capital Federal|Palermo|Palermo Soho|         7716 non-null int64\n",
      "place_with_parent_names_|Argentina|Capital Federal|Palermo|Palermo Viejo|        7716 non-null int64\n",
      "place_with_parent_names_|Argentina|Capital Federal|Parque Avellaneda|            7716 non-null int64\n",
      "place_with_parent_names_|Argentina|Capital Federal|Parque Centenario|            7716 non-null int64\n",
      "place_with_parent_names_|Argentina|Capital Federal|Parque Chacabuco|             7716 non-null int64\n",
      "place_with_parent_names_|Argentina|Capital Federal|Parque Chas|                  7716 non-null int64\n",
      "place_with_parent_names_|Argentina|Capital Federal|Parque Patricios|             7716 non-null int64\n",
      "place_with_parent_names_|Argentina|Capital Federal|Paternal|                     7716 non-null int64\n",
      "place_with_parent_names_|Argentina|Capital Federal|Pompeya|                      7716 non-null int64\n",
      "place_with_parent_names_|Argentina|Capital Federal|Puerto Madero|                7716 non-null int64\n",
      "place_with_parent_names_|Argentina|Capital Federal|Recoleta|                     7716 non-null int64\n",
      "place_with_parent_names_|Argentina|Capital Federal|Retiro|                       7716 non-null int64\n",
      "place_with_parent_names_|Argentina|Capital Federal|Saavedra|                     7716 non-null int64\n",
      "place_with_parent_names_|Argentina|Capital Federal|San Cristobal|                7716 non-null int64\n",
      "place_with_parent_names_|Argentina|Capital Federal|San Nicolás|                  7716 non-null int64\n",
      "place_with_parent_names_|Argentina|Capital Federal|San Telmo|                    7716 non-null int64\n",
      "place_with_parent_names_|Argentina|Capital Federal|Tribunales|                   7716 non-null int64\n",
      "place_with_parent_names_|Argentina|Capital Federal|Velez Sarsfield|              7716 non-null int64\n",
      "place_with_parent_names_|Argentina|Capital Federal|Versalles|                    7716 non-null int64\n",
      "place_with_parent_names_|Argentina|Capital Federal|Villa Crespo|                 7716 non-null int64\n",
      "place_with_parent_names_|Argentina|Capital Federal|Villa Devoto|                 7716 non-null int64\n",
      "place_with_parent_names_|Argentina|Capital Federal|Villa General Mitre|          7716 non-null int64\n",
      "place_with_parent_names_|Argentina|Capital Federal|Villa Lugano|                 7716 non-null int64\n",
      "place_with_parent_names_|Argentina|Capital Federal|Villa Luro|                   7716 non-null int64\n",
      "place_with_parent_names_|Argentina|Capital Federal|Villa Ortuzar|                7716 non-null int64\n",
      "place_with_parent_names_|Argentina|Capital Federal|Villa Pueyrredón|             7716 non-null int64\n",
      "place_with_parent_names_|Argentina|Capital Federal|Villa Real|                   7716 non-null int64\n",
      "place_with_parent_names_|Argentina|Capital Federal|Villa Santa Rita|             7716 non-null int64\n",
      "place_with_parent_names_|Argentina|Capital Federal|Villa Urquiza|                7716 non-null int64\n",
      "place_with_parent_names_|Argentina|Capital Federal|Villa del Parque|             7716 non-null int64\n",
      "price_m2                                                                         7716 non-null float64\n",
      "dtypes: float64(10), int64(64), object(5)\n",
      "memory usage: 4.7+ MB\n"
     ]
    }
   ],
   "source": [
    "df_prop = pd.read_csv('df_bin.csv')\n",
    "df_prop.info()"
   ]
  },
  {
   "cell_type": "code",
   "execution_count": 3,
   "metadata": {
    "scrolled": true
   },
   "outputs": [
    {
     "data": {
      "text/html": [
       "<div>\n",
       "<style scoped>\n",
       "    .dataframe tbody tr th:only-of-type {\n",
       "        vertical-align: middle;\n",
       "    }\n",
       "\n",
       "    .dataframe tbody tr th {\n",
       "        vertical-align: top;\n",
       "    }\n",
       "\n",
       "    .dataframe thead th {\n",
       "        text-align: right;\n",
       "    }\n",
       "</style>\n",
       "<table border=\"1\" class=\"dataframe\">\n",
       "  <thead>\n",
       "    <tr style=\"text-align: right;\">\n",
       "      <th></th>\n",
       "      <th>Unnamed: 0</th>\n",
       "      <th>created_on</th>\n",
       "      <th>operation</th>\n",
       "      <th>property_type</th>\n",
       "      <th>place_with_parent_names</th>\n",
       "      <th>lat-lon</th>\n",
       "      <th>lat</th>\n",
       "      <th>lon</th>\n",
       "      <th>price_aprox_usd</th>\n",
       "      <th>surface_total_in_m2</th>\n",
       "      <th>...</th>\n",
       "      <th>place_with_parent_names_|Argentina|Capital Federal|Villa General Mitre|</th>\n",
       "      <th>place_with_parent_names_|Argentina|Capital Federal|Villa Lugano|</th>\n",
       "      <th>place_with_parent_names_|Argentina|Capital Federal|Villa Luro|</th>\n",
       "      <th>place_with_parent_names_|Argentina|Capital Federal|Villa Ortuzar|</th>\n",
       "      <th>place_with_parent_names_|Argentina|Capital Federal|Villa Pueyrredón|</th>\n",
       "      <th>place_with_parent_names_|Argentina|Capital Federal|Villa Real|</th>\n",
       "      <th>place_with_parent_names_|Argentina|Capital Federal|Villa Santa Rita|</th>\n",
       "      <th>place_with_parent_names_|Argentina|Capital Federal|Villa Urquiza|</th>\n",
       "      <th>place_with_parent_names_|Argentina|Capital Federal|Villa del Parque|</th>\n",
       "      <th>price_m2</th>\n",
       "    </tr>\n",
       "  </thead>\n",
       "  <tbody>\n",
       "    <tr>\n",
       "      <th>0</th>\n",
       "      <td>18</td>\n",
       "      <td>2017-08-29</td>\n",
       "      <td>sell</td>\n",
       "      <td>1</td>\n",
       "      <td>|Argentina|Capital Federal|Palermo|</td>\n",
       "      <td>-34.588912403,-58.4134942185</td>\n",
       "      <td>-34.588912</td>\n",
       "      <td>-58.413494</td>\n",
       "      <td>340000.0</td>\n",
       "      <td>130.0</td>\n",
       "      <td>...</td>\n",
       "      <td>0</td>\n",
       "      <td>0</td>\n",
       "      <td>0</td>\n",
       "      <td>0</td>\n",
       "      <td>0</td>\n",
       "      <td>0</td>\n",
       "      <td>0</td>\n",
       "      <td>0</td>\n",
       "      <td>0</td>\n",
       "      <td>2615.384615</td>\n",
       "    </tr>\n",
       "    <tr>\n",
       "      <th>1</th>\n",
       "      <td>20</td>\n",
       "      <td>2017-08-29</td>\n",
       "      <td>sell</td>\n",
       "      <td>1</td>\n",
       "      <td>|Argentina|Capital Federal|Palermo|</td>\n",
       "      <td>-34.5950139,-58.4273915</td>\n",
       "      <td>-34.595014</td>\n",
       "      <td>-58.427392</td>\n",
       "      <td>180000.0</td>\n",
       "      <td>70.0</td>\n",
       "      <td>...</td>\n",
       "      <td>0</td>\n",
       "      <td>0</td>\n",
       "      <td>0</td>\n",
       "      <td>0</td>\n",
       "      <td>0</td>\n",
       "      <td>0</td>\n",
       "      <td>0</td>\n",
       "      <td>0</td>\n",
       "      <td>0</td>\n",
       "      <td>2571.428571</td>\n",
       "    </tr>\n",
       "    <tr>\n",
       "      <th>2</th>\n",
       "      <td>22</td>\n",
       "      <td>2017-08-30</td>\n",
       "      <td>sell</td>\n",
       "      <td>2</td>\n",
       "      <td>|Argentina|Capital Federal|Palermo|Palermo Hol...</td>\n",
       "      <td>-34.5793535,-58.4364489</td>\n",
       "      <td>-34.579353</td>\n",
       "      <td>-58.436449</td>\n",
       "      <td>1200000.0</td>\n",
       "      <td>532.0</td>\n",
       "      <td>...</td>\n",
       "      <td>0</td>\n",
       "      <td>0</td>\n",
       "      <td>0</td>\n",
       "      <td>0</td>\n",
       "      <td>0</td>\n",
       "      <td>0</td>\n",
       "      <td>0</td>\n",
       "      <td>0</td>\n",
       "      <td>0</td>\n",
       "      <td>2255.639098</td>\n",
       "    </tr>\n",
       "    <tr>\n",
       "      <th>3</th>\n",
       "      <td>25</td>\n",
       "      <td>2017-08-30</td>\n",
       "      <td>sell</td>\n",
       "      <td>0</td>\n",
       "      <td>|Argentina|Capital Federal|Palermo|Palermo Soho|</td>\n",
       "      <td>-34.5897765,-58.428558</td>\n",
       "      <td>-34.589776</td>\n",
       "      <td>-58.428558</td>\n",
       "      <td>219000.0</td>\n",
       "      <td>72.0</td>\n",
       "      <td>...</td>\n",
       "      <td>0</td>\n",
       "      <td>0</td>\n",
       "      <td>0</td>\n",
       "      <td>0</td>\n",
       "      <td>0</td>\n",
       "      <td>0</td>\n",
       "      <td>0</td>\n",
       "      <td>0</td>\n",
       "      <td>0</td>\n",
       "      <td>3041.666667</td>\n",
       "    </tr>\n",
       "  </tbody>\n",
       "</table>\n",
       "<p>4 rows × 79 columns</p>\n",
       "</div>"
      ],
      "text/plain": [
       "   Unnamed: 0  created_on operation  property_type  \\\n",
       "0          18  2017-08-29      sell              1   \n",
       "1          20  2017-08-29      sell              1   \n",
       "2          22  2017-08-30      sell              2   \n",
       "3          25  2017-08-30      sell              0   \n",
       "\n",
       "                             place_with_parent_names  \\\n",
       "0                |Argentina|Capital Federal|Palermo|   \n",
       "1                |Argentina|Capital Federal|Palermo|   \n",
       "2  |Argentina|Capital Federal|Palermo|Palermo Hol...   \n",
       "3   |Argentina|Capital Federal|Palermo|Palermo Soho|   \n",
       "\n",
       "                        lat-lon        lat        lon  price_aprox_usd  \\\n",
       "0  -34.588912403,-58.4134942185 -34.588912 -58.413494         340000.0   \n",
       "1       -34.5950139,-58.4273915 -34.595014 -58.427392         180000.0   \n",
       "2       -34.5793535,-58.4364489 -34.579353 -58.436449        1200000.0   \n",
       "3        -34.5897765,-58.428558 -34.589776 -58.428558         219000.0   \n",
       "\n",
       "   surface_total_in_m2     ...       \\\n",
       "0                130.0     ...        \n",
       "1                 70.0     ...        \n",
       "2                532.0     ...        \n",
       "3                 72.0     ...        \n",
       "\n",
       "   place_with_parent_names_|Argentina|Capital Federal|Villa General Mitre|  \\\n",
       "0                                                  0                         \n",
       "1                                                  0                         \n",
       "2                                                  0                         \n",
       "3                                                  0                         \n",
       "\n",
       "   place_with_parent_names_|Argentina|Capital Federal|Villa Lugano|  \\\n",
       "0                                                  0                  \n",
       "1                                                  0                  \n",
       "2                                                  0                  \n",
       "3                                                  0                  \n",
       "\n",
       "   place_with_parent_names_|Argentina|Capital Federal|Villa Luro|  \\\n",
       "0                                                  0                \n",
       "1                                                  0                \n",
       "2                                                  0                \n",
       "3                                                  0                \n",
       "\n",
       "  place_with_parent_names_|Argentina|Capital Federal|Villa Ortuzar|  \\\n",
       "0                                                  0                  \n",
       "1                                                  0                  \n",
       "2                                                  0                  \n",
       "3                                                  0                  \n",
       "\n",
       "   place_with_parent_names_|Argentina|Capital Federal|Villa Pueyrredón|  \\\n",
       "0                                                  0                      \n",
       "1                                                  0                      \n",
       "2                                                  0                      \n",
       "3                                                  0                      \n",
       "\n",
       "   place_with_parent_names_|Argentina|Capital Federal|Villa Real|  \\\n",
       "0                                                  0                \n",
       "1                                                  0                \n",
       "2                                                  0                \n",
       "3                                                  0                \n",
       "\n",
       "   place_with_parent_names_|Argentina|Capital Federal|Villa Santa Rita|  \\\n",
       "0                                                  0                      \n",
       "1                                                  0                      \n",
       "2                                                  0                      \n",
       "3                                                  0                      \n",
       "\n",
       "   place_with_parent_names_|Argentina|Capital Federal|Villa Urquiza|  \\\n",
       "0                                                  0                   \n",
       "1                                                  0                   \n",
       "2                                                  0                   \n",
       "3                                                  0                   \n",
       "\n",
       "   place_with_parent_names_|Argentina|Capital Federal|Villa del Parque|  \\\n",
       "0                                                  0                      \n",
       "1                                                  0                      \n",
       "2                                                  0                      \n",
       "3                                                  0                      \n",
       "\n",
       "      price_m2  \n",
       "0  2615.384615  \n",
       "1  2571.428571  \n",
       "2  2255.639098  \n",
       "3  3041.666667  \n",
       "\n",
       "[4 rows x 79 columns]"
      ]
     },
     "execution_count": 3,
     "metadata": {},
     "output_type": "execute_result"
    }
   ],
   "source": [
    "df_prop.head(4)"
   ]
  },
  {
   "cell_type": "code",
   "execution_count": 4,
   "metadata": {},
   "outputs": [
    {
     "data": {
      "text/html": [
       "<div>\n",
       "<style scoped>\n",
       "    .dataframe tbody tr th:only-of-type {\n",
       "        vertical-align: middle;\n",
       "    }\n",
       "\n",
       "    .dataframe tbody tr th {\n",
       "        vertical-align: top;\n",
       "    }\n",
       "\n",
       "    .dataframe thead th {\n",
       "        text-align: right;\n",
       "    }\n",
       "</style>\n",
       "<table border=\"1\" class=\"dataframe\">\n",
       "  <thead>\n",
       "    <tr style=\"text-align: right;\">\n",
       "      <th></th>\n",
       "      <th>surface_total_in_m2</th>\n",
       "      <th>barrio_cod</th>\n",
       "      <th>property_type</th>\n",
       "      <th>rooms</th>\n",
       "      <th>surface_covered_in_m2</th>\n",
       "      <th>price_aprox_usd</th>\n",
       "    </tr>\n",
       "  </thead>\n",
       "  <tbody>\n",
       "    <tr>\n",
       "      <th>0</th>\n",
       "      <td>130.0</td>\n",
       "      <td>20</td>\n",
       "      <td>1</td>\n",
       "      <td>4.000000</td>\n",
       "      <td>120.0</td>\n",
       "      <td>340000.00</td>\n",
       "    </tr>\n",
       "    <tr>\n",
       "      <th>1</th>\n",
       "      <td>70.0</td>\n",
       "      <td>20</td>\n",
       "      <td>1</td>\n",
       "      <td>2.422019</td>\n",
       "      <td>70.0</td>\n",
       "      <td>180000.00</td>\n",
       "    </tr>\n",
       "    <tr>\n",
       "      <th>2</th>\n",
       "      <td>532.0</td>\n",
       "      <td>20</td>\n",
       "      <td>2</td>\n",
       "      <td>6.000000</td>\n",
       "      <td>334.0</td>\n",
       "      <td>1200000.00</td>\n",
       "    </tr>\n",
       "    <tr>\n",
       "      <th>3</th>\n",
       "      <td>72.0</td>\n",
       "      <td>20</td>\n",
       "      <td>0</td>\n",
       "      <td>3.000000</td>\n",
       "      <td>72.0</td>\n",
       "      <td>219000.00</td>\n",
       "    </tr>\n",
       "    <tr>\n",
       "      <th>4</th>\n",
       "      <td>40.0</td>\n",
       "      <td>20</td>\n",
       "      <td>1</td>\n",
       "      <td>1.000000</td>\n",
       "      <td>36.0</td>\n",
       "      <td>119124.77</td>\n",
       "    </tr>\n",
       "  </tbody>\n",
       "</table>\n",
       "</div>"
      ],
      "text/plain": [
       "   surface_total_in_m2  barrio_cod  property_type     rooms  \\\n",
       "0                130.0          20              1  4.000000   \n",
       "1                 70.0          20              1  2.422019   \n",
       "2                532.0          20              2  6.000000   \n",
       "3                 72.0          20              0  3.000000   \n",
       "4                 40.0          20              1  1.000000   \n",
       "\n",
       "   surface_covered_in_m2  price_aprox_usd  \n",
       "0                  120.0        340000.00  \n",
       "1                   70.0        180000.00  \n",
       "2                  334.0       1200000.00  \n",
       "3                   72.0        219000.00  \n",
       "4                   36.0        119124.77  "
      ]
     },
     "execution_count": 4,
     "metadata": {},
     "output_type": "execute_result"
    }
   ],
   "source": [
    "df_prop = df_prop[['surface_total_in_m2','barrio_cod','property_type','rooms','surface_covered_in_m2','price_aprox_usd']]\n",
    "df_prop.head()"
   ]
  },
  {
   "cell_type": "markdown",
   "metadata": {},
   "source": [
    "# Ejercicio 1: División de datos en conjuntos de entrenamiento y evaluación."
   ]
  },
  {
   "cell_type": "markdown",
   "metadata": {},
   "source": [
    "La primer tarea consiste en dividir el conjunto de datos cargados en el apartado anterior en conjuntos de entrenamiento (o training) y evaluación (o test)."
   ]
  },
  {
   "cell_type": "markdown",
   "metadata": {},
   "source": [
    "Se separa el set de datos tomando el 80% para entrenamiento y el 20% para validación"
   ]
  },
  {
   "cell_type": "code",
   "execution_count": 5,
   "metadata": {},
   "outputs": [],
   "source": [
    "#x es el conjunto de features\n",
    "X = df_prop.drop('price_aprox_usd', axis=1)\n",
    "\n",
    "#y es la columna target que se desea predecir\n",
    "y = df_prop.price_aprox_usd\n",
    "\n",
    "from sklearn.model_selection import train_test_split\n",
    "#Random state sirve para sembrar una \"Seed\" de como se distribuyen los datos para el algoritmo\n",
    "X_train, X_valid, y_train, y_valid = train_test_split(X, y, test_size=0.2, random_state=42)\n",
    "\n",
    "#x_train tiene el 80% de los features (x)\n",
    "#x_valid tiene el 20% de los features (xx)\n",
    "#y_train tiene el 80% de la columna de target (y)\n",
    "#y_valid tiene el 20% de la columna de target (yy)"
   ]
  },
  {
   "cell_type": "code",
   "execution_count": 6,
   "metadata": {
    "scrolled": true
   },
   "outputs": [
    {
     "data": {
      "text/html": [
       "<div>\n",
       "<style scoped>\n",
       "    .dataframe tbody tr th:only-of-type {\n",
       "        vertical-align: middle;\n",
       "    }\n",
       "\n",
       "    .dataframe tbody tr th {\n",
       "        vertical-align: top;\n",
       "    }\n",
       "\n",
       "    .dataframe thead th {\n",
       "        text-align: right;\n",
       "    }\n",
       "</style>\n",
       "<table border=\"1\" class=\"dataframe\">\n",
       "  <thead>\n",
       "    <tr style=\"text-align: right;\">\n",
       "      <th></th>\n",
       "      <th>surface_total_in_m2</th>\n",
       "      <th>barrio_cod</th>\n",
       "      <th>property_type</th>\n",
       "      <th>rooms</th>\n",
       "      <th>surface_covered_in_m2</th>\n",
       "    </tr>\n",
       "  </thead>\n",
       "  <tbody>\n",
       "    <tr>\n",
       "      <th>0</th>\n",
       "      <td>130.0</td>\n",
       "      <td>20</td>\n",
       "      <td>1</td>\n",
       "      <td>4.000000</td>\n",
       "      <td>120.0</td>\n",
       "    </tr>\n",
       "    <tr>\n",
       "      <th>1</th>\n",
       "      <td>70.0</td>\n",
       "      <td>20</td>\n",
       "      <td>1</td>\n",
       "      <td>2.422019</td>\n",
       "      <td>70.0</td>\n",
       "    </tr>\n",
       "    <tr>\n",
       "      <th>2</th>\n",
       "      <td>532.0</td>\n",
       "      <td>20</td>\n",
       "      <td>2</td>\n",
       "      <td>6.000000</td>\n",
       "      <td>334.0</td>\n",
       "    </tr>\n",
       "    <tr>\n",
       "      <th>3</th>\n",
       "      <td>72.0</td>\n",
       "      <td>20</td>\n",
       "      <td>0</td>\n",
       "      <td>3.000000</td>\n",
       "      <td>72.0</td>\n",
       "    </tr>\n",
       "  </tbody>\n",
       "</table>\n",
       "</div>"
      ],
      "text/plain": [
       "   surface_total_in_m2  barrio_cod  property_type     rooms  \\\n",
       "0                130.0          20              1  4.000000   \n",
       "1                 70.0          20              1  2.422019   \n",
       "2                532.0          20              2  6.000000   \n",
       "3                 72.0          20              0  3.000000   \n",
       "\n",
       "   surface_covered_in_m2  \n",
       "0                  120.0  \n",
       "1                   70.0  \n",
       "2                  334.0  \n",
       "3                   72.0  "
      ]
     },
     "execution_count": 6,
     "metadata": {},
     "output_type": "execute_result"
    }
   ],
   "source": [
    "X.head(4)"
   ]
  },
  {
   "cell_type": "code",
   "execution_count": 6,
   "metadata": {},
   "outputs": [
    {
     "data": {
      "text/plain": [
       "5433     93000.0\n",
       "755     126000.0\n",
       "291      87000.0\n",
       "5890    349250.0\n",
       "Name: price_aprox_usd, dtype: float64"
      ]
     },
     "execution_count": 6,
     "metadata": {},
     "output_type": "execute_result"
    }
   ],
   "source": [
    "y_train.head(4)"
   ]
  },
  {
   "cell_type": "markdown",
   "metadata": {},
   "source": [
    "# Ejercicio 2: Árboles de decisión."
   ]
  },
  {
   "cell_type": "markdown",
   "metadata": {},
   "source": [
    "Entrenar un arbol de decisión de regresión para predecir el precio de las propiedades en dolares, variando sus hiperparametros tales como la profundidad, función de coste, etc."
   ]
  },
  {
   "cell_type": "code",
   "execution_count": 7,
   "metadata": {
    "scrolled": false
   },
   "outputs": [
    {
     "data": {
      "text/html": [
       "<div>\n",
       "<style scoped>\n",
       "    .dataframe tbody tr th:only-of-type {\n",
       "        vertical-align: middle;\n",
       "    }\n",
       "\n",
       "    .dataframe tbody tr th {\n",
       "        vertical-align: top;\n",
       "    }\n",
       "\n",
       "    .dataframe thead th {\n",
       "        text-align: right;\n",
       "    }\n",
       "</style>\n",
       "<table border=\"1\" class=\"dataframe\">\n",
       "  <thead>\n",
       "    <tr style=\"text-align: right;\">\n",
       "      <th></th>\n",
       "      <th>surface_total_in_m2</th>\n",
       "      <th>barrio_cod</th>\n",
       "      <th>property_type</th>\n",
       "      <th>rooms</th>\n",
       "      <th>surface_covered_in_m2</th>\n",
       "    </tr>\n",
       "  </thead>\n",
       "  <tbody>\n",
       "    <tr>\n",
       "      <th>5433</th>\n",
       "      <td>31.0</td>\n",
       "      <td>47</td>\n",
       "      <td>1</td>\n",
       "      <td>1.0</td>\n",
       "      <td>29.0</td>\n",
       "    </tr>\n",
       "    <tr>\n",
       "      <th>755</th>\n",
       "      <td>40.0</td>\n",
       "      <td>20</td>\n",
       "      <td>1</td>\n",
       "      <td>2.0</td>\n",
       "      <td>40.0</td>\n",
       "    </tr>\n",
       "    <tr>\n",
       "      <th>291</th>\n",
       "      <td>30.0</td>\n",
       "      <td>20</td>\n",
       "      <td>1</td>\n",
       "      <td>2.0</td>\n",
       "      <td>30.0</td>\n",
       "    </tr>\n",
       "    <tr>\n",
       "      <th>5890</th>\n",
       "      <td>157.0</td>\n",
       "      <td>1</td>\n",
       "      <td>0</td>\n",
       "      <td>4.0</td>\n",
       "      <td>107.0</td>\n",
       "    </tr>\n",
       "  </tbody>\n",
       "</table>\n",
       "</div>"
      ],
      "text/plain": [
       "      surface_total_in_m2  barrio_cod  property_type  rooms  \\\n",
       "5433                 31.0          47              1    1.0   \n",
       "755                  40.0          20              1    2.0   \n",
       "291                  30.0          20              1    2.0   \n",
       "5890                157.0           1              0    4.0   \n",
       "\n",
       "      surface_covered_in_m2  \n",
       "5433                   29.0  \n",
       "755                    40.0  \n",
       "291                    30.0  \n",
       "5890                  107.0  "
      ]
     },
     "execution_count": 7,
     "metadata": {},
     "output_type": "execute_result"
    }
   ],
   "source": [
    "X_train.head(4)"
   ]
  },
  {
   "cell_type": "code",
   "execution_count": 117,
   "metadata": {},
   "outputs": [],
   "source": [
    "from sklearn import tree\n",
    "from sklearn.metrics import accuracy_score\n",
    "from sklearn.model_selection import RandomizedSearchCV\n",
    "from sklearn.model_selection import GridSearchCV\n",
    "from sklearn.tree import DecisionTreeRegressor\n",
    "from sklearn.metrics import r2_score, mean_squared_error"
   ]
  },
  {
   "cell_type": "markdown",
   "metadata": {},
   "source": [
    "- Se plantea a mano la prueba de parámetros para analizar impacto en la función de costo"
   ]
  },
  {
   "cell_type": "code",
   "execution_count": 49,
   "metadata": {
    "scrolled": true
   },
   "outputs": [
    {
     "data": {
      "text/html": [
       "<div>\n",
       "<style scoped>\n",
       "    .dataframe tbody tr th:only-of-type {\n",
       "        vertical-align: middle;\n",
       "    }\n",
       "\n",
       "    .dataframe tbody tr th {\n",
       "        vertical-align: top;\n",
       "    }\n",
       "\n",
       "    .dataframe thead th {\n",
       "        text-align: right;\n",
       "    }\n",
       "</style>\n",
       "<table border=\"1\" class=\"dataframe\">\n",
       "  <thead>\n",
       "    <tr style=\"text-align: right;\">\n",
       "      <th></th>\n",
       "      <th>RMSE</th>\n",
       "      <th>Splitter</th>\n",
       "      <th>Max_depth</th>\n",
       "      <th>Min_samples_leaf</th>\n",
       "      <th>Min_samples_split</th>\n",
       "    </tr>\n",
       "  </thead>\n",
       "  <tbody>\n",
       "  </tbody>\n",
       "</table>\n",
       "</div>"
      ],
      "text/plain": [
       "Empty DataFrame\n",
       "Columns: [RMSE, Splitter, Max_depth, Min_samples_leaf, Min_samples_split]\n",
       "Index: []"
      ]
     },
     "execution_count": 49,
     "metadata": {},
     "output_type": "execute_result"
    }
   ],
   "source": [
    "rmse_dt_reg = {'RMSE': [], 'Splitter': [], 'Max_depth':[],'Min_samples_leaf':[],'Min_samples_split':[]}\n",
    "df_rmse = pd.DataFrame(data=rmse_dt_reg)\n",
    "df_rmse"
   ]
  },
  {
   "cell_type": "code",
   "execution_count": 50,
   "metadata": {},
   "outputs": [],
   "source": [
    "def insert_row(dict_to_apped):\n",
    "    return df_rmse.append(dict_to_apped, ignore_index=True)"
   ]
  },
  {
   "cell_type": "code",
   "execution_count": 95,
   "metadata": {},
   "outputs": [
    {
     "data": {
      "text/plain": [
       "{'RMSE': 1340883101.1200995,\n",
       " 'Splitter': 'random',\n",
       " 'Max_depth': 35,\n",
       " 'Min_samples_leaf': 4,\n",
       " 'Min_samples_split': 2}"
      ]
     },
     "execution_count": 95,
     "metadata": {},
     "output_type": "execute_result"
    }
   ],
   "source": [
    "splitter = 'random'\n",
    "max_depth = 35\n",
    "min_samples_leaf = 4\n",
    "min_samples_split = 2\n",
    "\n",
    "\n",
    "dt_regressor = DecisionTreeRegressor(criterion='mse', max_depth=max_depth, min_samples_leaf=min_samples_leaf,\n",
    "           min_samples_split=min_samples_split, random_state=42, splitter=splitter)\n",
    "\n",
    "dt_regressor.fit(X_train, y_train)\n",
    "\n",
    "y_dt_pred = dt_regressor.predict(X_train)\n",
    "\n",
    "rms = mean_squared_error(y_train,y_dt_pred)\n",
    "param_dict = rmse_dt_reg = {'RMSE': rms, 'Splitter':splitter, 'Max_depth':max_depth,'Min_samples_leaf':min_samples_leaf,'Min_samples_split':min_samples_split}\n",
    "param_dict"
   ]
  },
  {
   "cell_type": "code",
   "execution_count": 110,
   "metadata": {},
   "outputs": [
    {
     "data": {
      "text/html": [
       "<div>\n",
       "<style scoped>\n",
       "    .dataframe tbody tr th:only-of-type {\n",
       "        vertical-align: middle;\n",
       "    }\n",
       "\n",
       "    .dataframe tbody tr th {\n",
       "        vertical-align: top;\n",
       "    }\n",
       "\n",
       "    .dataframe thead th {\n",
       "        text-align: right;\n",
       "    }\n",
       "</style>\n",
       "<table border=\"1\" class=\"dataframe\">\n",
       "  <thead>\n",
       "    <tr style=\"text-align: right;\">\n",
       "      <th></th>\n",
       "      <th>RMSE</th>\n",
       "      <th>Splitter</th>\n",
       "      <th>Max_depth</th>\n",
       "      <th>Min_samples_leaf</th>\n",
       "      <th>Min_samples_split</th>\n",
       "    </tr>\n",
       "  </thead>\n",
       "  <tbody>\n",
       "    <tr>\n",
       "      <th>0</th>\n",
       "      <td>7.773728e+08</td>\n",
       "      <td>best</td>\n",
       "      <td>10.0</td>\n",
       "      <td>4.0</td>\n",
       "      <td>2.0</td>\n",
       "    </tr>\n",
       "    <tr>\n",
       "      <th>1</th>\n",
       "      <td>7.263828e+08</td>\n",
       "      <td>best</td>\n",
       "      <td>11.0</td>\n",
       "      <td>4.0</td>\n",
       "      <td>2.0</td>\n",
       "    </tr>\n",
       "    <tr>\n",
       "      <th>2</th>\n",
       "      <td>6.835591e+08</td>\n",
       "      <td>best</td>\n",
       "      <td>12.0</td>\n",
       "      <td>4.0</td>\n",
       "      <td>2.0</td>\n",
       "    </tr>\n",
       "    <tr>\n",
       "      <th>3</th>\n",
       "      <td>6.587420e+08</td>\n",
       "      <td>best</td>\n",
       "      <td>13.0</td>\n",
       "      <td>4.0</td>\n",
       "      <td>2.0</td>\n",
       "    </tr>\n",
       "    <tr>\n",
       "      <th>4</th>\n",
       "      <td>6.461303e+08</td>\n",
       "      <td>best</td>\n",
       "      <td>14.0</td>\n",
       "      <td>4.0</td>\n",
       "      <td>2.0</td>\n",
       "    </tr>\n",
       "    <tr>\n",
       "      <th>5</th>\n",
       "      <td>6.325218e+08</td>\n",
       "      <td>best</td>\n",
       "      <td>20.0</td>\n",
       "      <td>4.0</td>\n",
       "      <td>2.0</td>\n",
       "    </tr>\n",
       "    <tr>\n",
       "      <th>6</th>\n",
       "      <td>6.326457e+08</td>\n",
       "      <td>best</td>\n",
       "      <td>30.0</td>\n",
       "      <td>4.0</td>\n",
       "      <td>2.0</td>\n",
       "    </tr>\n",
       "    <tr>\n",
       "      <th>7</th>\n",
       "      <td>6.326457e+08</td>\n",
       "      <td>best</td>\n",
       "      <td>35.0</td>\n",
       "      <td>4.0</td>\n",
       "      <td>2.0</td>\n",
       "    </tr>\n",
       "    <tr>\n",
       "      <th>8</th>\n",
       "      <td>8.470345e+08</td>\n",
       "      <td>best</td>\n",
       "      <td>10.0</td>\n",
       "      <td>5.0</td>\n",
       "      <td>2.0</td>\n",
       "    </tr>\n",
       "    <tr>\n",
       "      <th>9</th>\n",
       "      <td>1.006202e+09</td>\n",
       "      <td>best</td>\n",
       "      <td>10.0</td>\n",
       "      <td>6.0</td>\n",
       "      <td>2.0</td>\n",
       "    </tr>\n",
       "    <tr>\n",
       "      <th>10</th>\n",
       "      <td>7.509792e+08</td>\n",
       "      <td>best</td>\n",
       "      <td>10.0</td>\n",
       "      <td>3.0</td>\n",
       "      <td>2.0</td>\n",
       "    </tr>\n",
       "    <tr>\n",
       "      <th>11</th>\n",
       "      <td>7.773728e+08</td>\n",
       "      <td>best</td>\n",
       "      <td>10.0</td>\n",
       "      <td>4.0</td>\n",
       "      <td>3.0</td>\n",
       "    </tr>\n",
       "    <tr>\n",
       "      <th>12</th>\n",
       "      <td>1.340883e+09</td>\n",
       "      <td>random</td>\n",
       "      <td>30.0</td>\n",
       "      <td>4.0</td>\n",
       "      <td>2.0</td>\n",
       "    </tr>\n",
       "    <tr>\n",
       "      <th>13</th>\n",
       "      <td>1.917282e+09</td>\n",
       "      <td>random</td>\n",
       "      <td>20.0</td>\n",
       "      <td>4.0</td>\n",
       "      <td>2.0</td>\n",
       "    </tr>\n",
       "    <tr>\n",
       "      <th>14</th>\n",
       "      <td>1.253604e+09</td>\n",
       "      <td>random</td>\n",
       "      <td>10.0</td>\n",
       "      <td>4.0</td>\n",
       "      <td>2.0</td>\n",
       "    </tr>\n",
       "    <tr>\n",
       "      <th>15</th>\n",
       "      <td>1.859247e+09</td>\n",
       "      <td>random</td>\n",
       "      <td>11.0</td>\n",
       "      <td>4.0</td>\n",
       "      <td>2.0</td>\n",
       "    </tr>\n",
       "    <tr>\n",
       "      <th>16</th>\n",
       "      <td>1.074825e+09</td>\n",
       "      <td>random</td>\n",
       "      <td>12.0</td>\n",
       "      <td>4.0</td>\n",
       "      <td>2.0</td>\n",
       "    </tr>\n",
       "    <tr>\n",
       "      <th>17</th>\n",
       "      <td>1.603657e+09</td>\n",
       "      <td>random</td>\n",
       "      <td>13.0</td>\n",
       "      <td>4.0</td>\n",
       "      <td>2.0</td>\n",
       "    </tr>\n",
       "    <tr>\n",
       "      <th>18</th>\n",
       "      <td>1.072114e+09</td>\n",
       "      <td>random</td>\n",
       "      <td>14.0</td>\n",
       "      <td>4.0</td>\n",
       "      <td>2.0</td>\n",
       "    </tr>\n",
       "    <tr>\n",
       "      <th>19</th>\n",
       "      <td>1.340883e+09</td>\n",
       "      <td>random</td>\n",
       "      <td>35.0</td>\n",
       "      <td>4.0</td>\n",
       "      <td>2.0</td>\n",
       "    </tr>\n",
       "  </tbody>\n",
       "</table>\n",
       "</div>"
      ],
      "text/plain": [
       "            RMSE Splitter  Max_depth  Min_samples_leaf  Min_samples_split\n",
       "0   7.773728e+08     best       10.0               4.0                2.0\n",
       "1   7.263828e+08     best       11.0               4.0                2.0\n",
       "2   6.835591e+08     best       12.0               4.0                2.0\n",
       "3   6.587420e+08     best       13.0               4.0                2.0\n",
       "4   6.461303e+08     best       14.0               4.0                2.0\n",
       "5   6.325218e+08     best       20.0               4.0                2.0\n",
       "6   6.326457e+08     best       30.0               4.0                2.0\n",
       "7   6.326457e+08     best       35.0               4.0                2.0\n",
       "8   8.470345e+08     best       10.0               5.0                2.0\n",
       "9   1.006202e+09     best       10.0               6.0                2.0\n",
       "10  7.509792e+08     best       10.0               3.0                2.0\n",
       "11  7.773728e+08     best       10.0               4.0                3.0\n",
       "12  1.340883e+09   random       30.0               4.0                2.0\n",
       "13  1.917282e+09   random       20.0               4.0                2.0\n",
       "14  1.253604e+09   random       10.0               4.0                2.0\n",
       "15  1.859247e+09   random       11.0               4.0                2.0\n",
       "16  1.074825e+09   random       12.0               4.0                2.0\n",
       "17  1.603657e+09   random       13.0               4.0                2.0\n",
       "18  1.072114e+09   random       14.0               4.0                2.0\n",
       "19  1.340883e+09   random       35.0               4.0                2.0"
      ]
     },
     "execution_count": 110,
     "metadata": {},
     "output_type": "execute_result"
    }
   ],
   "source": [
    "#df_rmse = insert_row(param_dict)\n",
    "df_rmse"
   ]
  },
  {
   "cell_type": "markdown",
   "metadata": {},
   "source": [
    "Se grafica la variación de la función de costo agrupando por el parámetro \"Splitter\":"
   ]
  },
  {
   "cell_type": "code",
   "execution_count": 126,
   "metadata": {},
   "outputs": [
    {
     "name": "stderr",
     "output_type": "stream",
     "text": [
      "C:\\Users\\Gabriel H\\.conda\\envs\\diplodatos\\lib\\site-packages\\ipykernel_launcher.py:2: UserWarning: Boolean Series key will be reindexed to match DataFrame index.\n",
      "  \n"
     ]
    },
    {
     "data": {
      "text/plain": [
       "Text(0.5, 1.0, 'RMSE vs Max_Depth')"
      ]
     },
     "execution_count": 126,
     "metadata": {},
     "output_type": "execute_result"
    },
    {
     "data": {
      "image/png": "[encoded data removed]",
      "text/plain": [
       "<Figure size 432x288 with 1 Axes>"
      ]
     },
     "metadata": {
      "needs_background": "light"
     },
     "output_type": "display_data"
    }
   ],
   "source": [
    "df_rmse_graf = df_rmse[df_rmse.Min_samples_leaf== 4]\n",
    "df_rmse_graf = df_rmse_graf[df_rmse.Min_samples_split==2]\n",
    "\n",
    "grafo_rmse_dt = df_rmse_graf[['RMSE','Splitter','Max_depth']] \n",
    "\n",
    "sns.lineplot(x = 'Max_depth', y = 'RMSE',hue='Splitter', data=grafo_rmse_dt, )\n",
    "plt.title(\"RMSE vs Max_Depth\")"
   ]
  },
  {
   "cell_type": "markdown",
   "metadata": {},
   "source": [
    "Se puede ver en el gráfico como con el splitter = 'random', el RMSE es muy variable entre disintos valores de profundidad. En cambio, cuando el parámetro splitter = 'best' se puede ver como se reduce el RMSE a medida que se aumenta la profundidad del árbol."
   ]
  },
  {
   "cell_type": "code",
   "execution_count": 128,
   "metadata": {},
   "outputs": [
    {
     "data": {
      "text/plain": [
       "[10, 20, 30, 40, 50, 60, 70, 80, 90, 100, 110]"
      ]
     },
     "execution_count": 128,
     "metadata": {},
     "output_type": "execute_result"
    }
   ],
   "source": [
    "max_depth = [int(x) for x in np.linspace(10, 110, num = 11)]\n",
    "max_depth"
   ]
  },
  {
   "cell_type": "markdown",
   "metadata": {},
   "source": [
    "Se plantea el modelo del decision tree regressor aplicando GSearch CV para algunos de sus parámetros."
   ]
  },
  {
   "cell_type": "code",
   "execution_count": 133,
   "metadata": {
    "scrolled": true
   },
   "outputs": [
    {
     "name": "stdout",
     "output_type": "stream",
     "text": [
      "Fitting 3 folds for each of 2376 candidates, totalling 7128 fits\n"
     ]
    },
    {
     "name": "stderr",
     "output_type": "stream",
     "text": [
      "[Parallel(n_jobs=2)]: Using backend LokyBackend with 2 concurrent workers.\n",
      "[Parallel(n_jobs=2)]: Done 780 tasks      | elapsed:    4.0s\n",
      "[Parallel(n_jobs=2)]: Done 2715 tasks      | elapsed:   40.4s\n",
      "[Parallel(n_jobs=2)]: Done 3035 tasks      | elapsed:  1.1min\n",
      "[Parallel(n_jobs=2)]: Done 3483 tasks      | elapsed:  1.7min\n",
      "[Parallel(n_jobs=2)]: Done 4059 tasks      | elapsed:  2.5min\n",
      "[Parallel(n_jobs=2)]: Done 4763 tasks      | elapsed:  3.5min\n"
     ]
    },
    {
     "name": "stdout",
     "output_type": "stream",
     "text": [
      "Mejor conjunto de parámetros:\n",
      "{'criterion': 'mse', 'max_depth': 10, 'max_features': 'auto', 'min_samples_leaf': 4, 'min_samples_split': 2, 'splitter': 'best'}\n",
      "\n",
      "Mejor Estimador:\n",
      "DecisionTreeRegressor(criterion='mse', max_depth=10, max_features='auto',\n",
      "           max_leaf_nodes=None, min_impurity_decrease=0.0,\n",
      "           min_impurity_split=None, min_samples_leaf=4,\n",
      "           min_samples_split=2, min_weight_fraction_leaf=0.0,\n",
      "           presort=False, random_state=42, splitter='best')\n",
      "\n",
      "Mejor RMSE Score:\n",
      "777372768.9117999\n",
      "\n",
      "Mejor R2 Score:\n",
      "0.9776252732071621\n",
      "\n"
     ]
    },
    {
     "name": "stderr",
     "output_type": "stream",
     "text": [
      "[Parallel(n_jobs=2)]: Done 7125 out of 7128 | elapsed:  3.7min remaining:    0.0s\n",
      "[Parallel(n_jobs=2)]: Done 7128 out of 7128 | elapsed:  3.7min finished\n"
     ]
    }
   ],
   "source": [
    "criterion = ['mse','mae','friedman_mse']\n",
    "splitter = ['best','random']\n",
    "# Maximum number of levels in tree\n",
    "max_depth = [int(x) for x in np.linspace(10, 110, num = 11)]\n",
    "# Minimum number of samples required to split a node\n",
    "min_samples_split = [2,3,5, 10]\n",
    "# Minimum number of samples required at each leaf node\n",
    "min_samples_leaf = [1, 2, 4]\n",
    "\n",
    "random_grid_dtr = {'criterion': criterion,\n",
    "               'splitter': splitter,\n",
    "               'max_features': max_features,\n",
    "               'max_depth': max_depth,\n",
    "               'min_samples_split': min_samples_split,\n",
    "               'min_samples_leaf': min_samples_leaf}\n",
    "\n",
    "\n",
    "dtr=DecisionTreeRegressor(random_state=42)\n",
    "\n",
    "dtr_random = GridSearchCV(dtr, \n",
    "                          random_grid_dtr, \n",
    "                          cv = 3,\n",
    "                          verbose=3,\n",
    "                          n_jobs =2)\n",
    "\n",
    "# Fit the random search model\n",
    "dtr_random.fit(X_train, y_train)\n",
    "\n",
    "  \n",
    "print(\"Mejor conjunto de parámetros:\")\n",
    "print(dtr_random.best_params_, end=\"\\n\\n\")\n",
    "    \n",
    "print(\"Mejor Estimador:\")\n",
    "print(dtr_random.best_estimator_, end=\"\\n\\n\")\n",
    "    \n",
    "print(\"Mejor RMSE Score:\")\n",
    "print( mean_squared_error(y_train,dtr_random.predict(X_train)), end=\"\\n\\n\")\n",
    "print(\"Mejor R2 Score:\")\n",
    "print(r2_score(y_train,dtr_random.predict(X_train)), end=\"\\n\\n\")\n",
    "\n",
    "\n"
   ]
  },
  {
   "cell_type": "markdown",
   "metadata": {},
   "source": [
    "-- "
   ]
  },
  {
   "cell_type": "markdown",
   "metadata": {},
   "source": [
    "No incluiría esta parte de abajo hasta el paso de los KNN\n",
    "---------------"
   ]
  },
  {
   "cell_type": "code",
   "execution_count": 10,
   "metadata": {},
   "outputs": [
    {
     "data": {
      "text/plain": [
       "0.9776252732071621"
      ]
     },
     "execution_count": 10,
     "metadata": {},
     "output_type": "execute_result"
    }
   ],
   "source": [
    "from sklearn.metrics import r2_score\n",
    "r2_score(y_train,dtr_random.predict(X_train))\n"
   ]
  },
  {
   "cell_type": "code",
   "execution_count": 11,
   "metadata": {
    "scrolled": true
   },
   "outputs": [
    {
     "name": "stdout",
     "output_type": "stream",
     "text": [
      "Fitting 3 folds for each of 100 candidates, totalling 300 fits\n"
     ]
    },
    {
     "name": "stderr",
     "output_type": "stream",
     "text": [
      "[Parallel(n_jobs=-1)]: Using backend LokyBackend with 4 concurrent workers.\n",
      "[Parallel(n_jobs=-1)]: Done  33 tasks      | elapsed:  2.7min\n",
      "[Parallel(n_jobs=-1)]: Done 154 tasks      | elapsed: 12.4min\n",
      "[Parallel(n_jobs=-1)]: Done 300 out of 300 | elapsed: 23.7min finished\n"
     ]
    },
    {
     "ename": "KeyboardInterrupt",
     "evalue": "",
     "output_type": "error",
     "traceback": [
      "\u001b[1;31m---------------------------------------------------------------------------\u001b[0m",
      "\u001b[1;31mKeyboardInterrupt\u001b[0m                         Traceback (most recent call last)",
      "\u001b[1;32m<ipython-input-11-18a8f4ff9bd5>\u001b[0m in \u001b[0;36m<module>\u001b[1;34m\u001b[0m\n\u001b[0;32m     30\u001b[0m \u001b[0mrf_random\u001b[0m \u001b[1;33m=\u001b[0m \u001b[0mRandomizedSearchCV\u001b[0m\u001b[1;33m(\u001b[0m\u001b[0mestimator\u001b[0m \u001b[1;33m=\u001b[0m \u001b[0mrf\u001b[0m\u001b[1;33m,\u001b[0m \u001b[0mparam_distributions\u001b[0m \u001b[1;33m=\u001b[0m \u001b[0mrandom_grid\u001b[0m\u001b[1;33m,\u001b[0m \u001b[0mn_iter\u001b[0m \u001b[1;33m=\u001b[0m \u001b[1;36m100\u001b[0m\u001b[1;33m,\u001b[0m \u001b[0mcv\u001b[0m \u001b[1;33m=\u001b[0m \u001b[1;36m3\u001b[0m\u001b[1;33m,\u001b[0m \u001b[0mverbose\u001b[0m\u001b[1;33m=\u001b[0m\u001b[1;36m2\u001b[0m\u001b[1;33m,\u001b[0m \u001b[0mrandom_state\u001b[0m\u001b[1;33m=\u001b[0m\u001b[1;36m42\u001b[0m\u001b[1;33m,\u001b[0m \u001b[0mn_jobs\u001b[0m \u001b[1;33m=\u001b[0m \u001b[1;33m-\u001b[0m\u001b[1;36m1\u001b[0m\u001b[1;33m)\u001b[0m\u001b[1;33m\u001b[0m\u001b[1;33m\u001b[0m\u001b[0m\n\u001b[0;32m     31\u001b[0m \u001b[1;31m# Fit the random search model\u001b[0m\u001b[1;33m\u001b[0m\u001b[1;33m\u001b[0m\u001b[1;33m\u001b[0m\u001b[0m\n\u001b[1;32m---> 32\u001b[1;33m \u001b[0mrf_random\u001b[0m\u001b[1;33m.\u001b[0m\u001b[0mfit\u001b[0m\u001b[1;33m(\u001b[0m\u001b[0mX_train\u001b[0m\u001b[1;33m,\u001b[0m \u001b[0my_train\u001b[0m\u001b[1;33m)\u001b[0m\u001b[1;33m\u001b[0m\u001b[1;33m\u001b[0m\u001b[0m\n\u001b[0m\u001b[0;32m     33\u001b[0m \u001b[1;33m\u001b[0m\u001b[0m\n\u001b[0;32m     34\u001b[0m \u001b[1;33m\u001b[0m\u001b[0m\n",
      "\u001b[1;32m~\\.conda\\envs\\diplodatos\\lib\\site-packages\\sklearn\\model_selection\\_search.py\u001b[0m in \u001b[0;36mfit\u001b[1;34m(self, X, y, groups, **fit_params)\u001b[0m\n\u001b[0;32m    738\u001b[0m             \u001b[0mrefit_start_time\u001b[0m \u001b[1;33m=\u001b[0m \u001b[0mtime\u001b[0m\u001b[1;33m.\u001b[0m\u001b[0mtime\u001b[0m\u001b[1;33m(\u001b[0m\u001b[1;33m)\u001b[0m\u001b[1;33m\u001b[0m\u001b[1;33m\u001b[0m\u001b[0m\n\u001b[0;32m    739\u001b[0m             \u001b[1;32mif\u001b[0m \u001b[0my\u001b[0m \u001b[1;32mis\u001b[0m \u001b[1;32mnot\u001b[0m \u001b[1;32mNone\u001b[0m\u001b[1;33m:\u001b[0m\u001b[1;33m\u001b[0m\u001b[1;33m\u001b[0m\u001b[0m\n\u001b[1;32m--> 740\u001b[1;33m                 \u001b[0mself\u001b[0m\u001b[1;33m.\u001b[0m\u001b[0mbest_estimator_\u001b[0m\u001b[1;33m.\u001b[0m\u001b[0mfit\u001b[0m\u001b[1;33m(\u001b[0m\u001b[0mX\u001b[0m\u001b[1;33m,\u001b[0m \u001b[0my\u001b[0m\u001b[1;33m,\u001b[0m \u001b[1;33m**\u001b[0m\u001b[0mfit_params\u001b[0m\u001b[1;33m)\u001b[0m\u001b[1;33m\u001b[0m\u001b[1;33m\u001b[0m\u001b[0m\n\u001b[0m\u001b[0;32m    741\u001b[0m             \u001b[1;32melse\u001b[0m\u001b[1;33m:\u001b[0m\u001b[1;33m\u001b[0m\u001b[1;33m\u001b[0m\u001b[0m\n\u001b[0;32m    742\u001b[0m                 \u001b[0mself\u001b[0m\u001b[1;33m.\u001b[0m\u001b[0mbest_estimator_\u001b[0m\u001b[1;33m.\u001b[0m\u001b[0mfit\u001b[0m\u001b[1;33m(\u001b[0m\u001b[0mX\u001b[0m\u001b[1;33m,\u001b[0m \u001b[1;33m**\u001b[0m\u001b[0mfit_params\u001b[0m\u001b[1;33m)\u001b[0m\u001b[1;33m\u001b[0m\u001b[1;33m\u001b[0m\u001b[0m\n",
      "\u001b[1;32m~\\.conda\\envs\\diplodatos\\lib\\site-packages\\sklearn\\ensemble\\forest.py\u001b[0m in \u001b[0;36mfit\u001b[1;34m(self, X, y, sample_weight)\u001b[0m\n\u001b[0;32m    331\u001b[0m                     \u001b[0mt\u001b[0m\u001b[1;33m,\u001b[0m \u001b[0mself\u001b[0m\u001b[1;33m,\u001b[0m \u001b[0mX\u001b[0m\u001b[1;33m,\u001b[0m \u001b[0my\u001b[0m\u001b[1;33m,\u001b[0m \u001b[0msample_weight\u001b[0m\u001b[1;33m,\u001b[0m \u001b[0mi\u001b[0m\u001b[1;33m,\u001b[0m \u001b[0mlen\u001b[0m\u001b[1;33m(\u001b[0m\u001b[0mtrees\u001b[0m\u001b[1;33m)\u001b[0m\u001b[1;33m,\u001b[0m\u001b[1;33m\u001b[0m\u001b[1;33m\u001b[0m\u001b[0m\n\u001b[0;32m    332\u001b[0m                     verbose=self.verbose, class_weight=self.class_weight)\n\u001b[1;32m--> 333\u001b[1;33m                 for i, t in enumerate(trees))\n\u001b[0m\u001b[0;32m    334\u001b[0m \u001b[1;33m\u001b[0m\u001b[0m\n\u001b[0;32m    335\u001b[0m             \u001b[1;31m# Collect newly grown trees\u001b[0m\u001b[1;33m\u001b[0m\u001b[1;33m\u001b[0m\u001b[1;33m\u001b[0m\u001b[0m\n",
      "\u001b[1;32m~\\.conda\\envs\\diplodatos\\lib\\site-packages\\sklearn\\externals\\joblib\\parallel.py\u001b[0m in \u001b[0;36m__call__\u001b[1;34m(self, iterable)\u001b[0m\n\u001b[0;32m    918\u001b[0m                 \u001b[0mself\u001b[0m\u001b[1;33m.\u001b[0m\u001b[0m_iterating\u001b[0m \u001b[1;33m=\u001b[0m \u001b[0mself\u001b[0m\u001b[1;33m.\u001b[0m\u001b[0m_original_iterator\u001b[0m \u001b[1;32mis\u001b[0m \u001b[1;32mnot\u001b[0m \u001b[1;32mNone\u001b[0m\u001b[1;33m\u001b[0m\u001b[1;33m\u001b[0m\u001b[0m\n\u001b[0;32m    919\u001b[0m \u001b[1;33m\u001b[0m\u001b[0m\n\u001b[1;32m--> 920\u001b[1;33m             \u001b[1;32mwhile\u001b[0m \u001b[0mself\u001b[0m\u001b[1;33m.\u001b[0m\u001b[0mdispatch_one_batch\u001b[0m\u001b[1;33m(\u001b[0m\u001b[0miterator\u001b[0m\u001b[1;33m)\u001b[0m\u001b[1;33m:\u001b[0m\u001b[1;33m\u001b[0m\u001b[1;33m\u001b[0m\u001b[0m\n\u001b[0m\u001b[0;32m    921\u001b[0m                 \u001b[1;32mpass\u001b[0m\u001b[1;33m\u001b[0m\u001b[1;33m\u001b[0m\u001b[0m\n\u001b[0;32m    922\u001b[0m \u001b[1;33m\u001b[0m\u001b[0m\n",
      "\u001b[1;32m~\\.conda\\envs\\diplodatos\\lib\\site-packages\\sklearn\\externals\\joblib\\parallel.py\u001b[0m in \u001b[0;36mdispatch_one_batch\u001b[1;34m(self, iterator)\u001b[0m\n\u001b[0;32m    757\u001b[0m                 \u001b[1;32mreturn\u001b[0m \u001b[1;32mFalse\u001b[0m\u001b[1;33m\u001b[0m\u001b[1;33m\u001b[0m\u001b[0m\n\u001b[0;32m    758\u001b[0m             \u001b[1;32melse\u001b[0m\u001b[1;33m:\u001b[0m\u001b[1;33m\u001b[0m\u001b[1;33m\u001b[0m\u001b[0m\n\u001b[1;32m--> 759\u001b[1;33m                 \u001b[0mself\u001b[0m\u001b[1;33m.\u001b[0m\u001b[0m_dispatch\u001b[0m\u001b[1;33m(\u001b[0m\u001b[0mtasks\u001b[0m\u001b[1;33m)\u001b[0m\u001b[1;33m\u001b[0m\u001b[1;33m\u001b[0m\u001b[0m\n\u001b[0m\u001b[0;32m    760\u001b[0m                 \u001b[1;32mreturn\u001b[0m \u001b[1;32mTrue\u001b[0m\u001b[1;33m\u001b[0m\u001b[1;33m\u001b[0m\u001b[0m\n\u001b[0;32m    761\u001b[0m \u001b[1;33m\u001b[0m\u001b[0m\n",
      "\u001b[1;32m~\\.conda\\envs\\diplodatos\\lib\\site-packages\\sklearn\\externals\\joblib\\parallel.py\u001b[0m in \u001b[0;36m_dispatch\u001b[1;34m(self, batch)\u001b[0m\n\u001b[0;32m    714\u001b[0m         \u001b[1;32mwith\u001b[0m \u001b[0mself\u001b[0m\u001b[1;33m.\u001b[0m\u001b[0m_lock\u001b[0m\u001b[1;33m:\u001b[0m\u001b[1;33m\u001b[0m\u001b[1;33m\u001b[0m\u001b[0m\n\u001b[0;32m    715\u001b[0m             \u001b[0mjob_idx\u001b[0m \u001b[1;33m=\u001b[0m \u001b[0mlen\u001b[0m\u001b[1;33m(\u001b[0m\u001b[0mself\u001b[0m\u001b[1;33m.\u001b[0m\u001b[0m_jobs\u001b[0m\u001b[1;33m)\u001b[0m\u001b[1;33m\u001b[0m\u001b[1;33m\u001b[0m\u001b[0m\n\u001b[1;32m--> 716\u001b[1;33m             \u001b[0mjob\u001b[0m \u001b[1;33m=\u001b[0m \u001b[0mself\u001b[0m\u001b[1;33m.\u001b[0m\u001b[0m_backend\u001b[0m\u001b[1;33m.\u001b[0m\u001b[0mapply_async\u001b[0m\u001b[1;33m(\u001b[0m\u001b[0mbatch\u001b[0m\u001b[1;33m,\u001b[0m \u001b[0mcallback\u001b[0m\u001b[1;33m=\u001b[0m\u001b[0mcb\u001b[0m\u001b[1;33m)\u001b[0m\u001b[1;33m\u001b[0m\u001b[1;33m\u001b[0m\u001b[0m\n\u001b[0m\u001b[0;32m    717\u001b[0m             \u001b[1;31m# A job can complete so quickly than its callback is\u001b[0m\u001b[1;33m\u001b[0m\u001b[1;33m\u001b[0m\u001b[1;33m\u001b[0m\u001b[0m\n\u001b[0;32m    718\u001b[0m             \u001b[1;31m# called before we get here, causing self._jobs to\u001b[0m\u001b[1;33m\u001b[0m\u001b[1;33m\u001b[0m\u001b[1;33m\u001b[0m\u001b[0m\n",
      "\u001b[1;32m~\\.conda\\envs\\diplodatos\\lib\\site-packages\\sklearn\\externals\\joblib\\_parallel_backends.py\u001b[0m in \u001b[0;36mapply_async\u001b[1;34m(self, func, callback)\u001b[0m\n\u001b[0;32m    180\u001b[0m     \u001b[1;32mdef\u001b[0m \u001b[0mapply_async\u001b[0m\u001b[1;33m(\u001b[0m\u001b[0mself\u001b[0m\u001b[1;33m,\u001b[0m \u001b[0mfunc\u001b[0m\u001b[1;33m,\u001b[0m \u001b[0mcallback\u001b[0m\u001b[1;33m=\u001b[0m\u001b[1;32mNone\u001b[0m\u001b[1;33m)\u001b[0m\u001b[1;33m:\u001b[0m\u001b[1;33m\u001b[0m\u001b[1;33m\u001b[0m\u001b[0m\n\u001b[0;32m    181\u001b[0m         \u001b[1;34m\"\"\"Schedule a func to be run\"\"\"\u001b[0m\u001b[1;33m\u001b[0m\u001b[1;33m\u001b[0m\u001b[0m\n\u001b[1;32m--> 182\u001b[1;33m         \u001b[0mresult\u001b[0m \u001b[1;33m=\u001b[0m \u001b[0mImmediateResult\u001b[0m\u001b[1;33m(\u001b[0m\u001b[0mfunc\u001b[0m\u001b[1;33m)\u001b[0m\u001b[1;33m\u001b[0m\u001b[1;33m\u001b[0m\u001b[0m\n\u001b[0m\u001b[0;32m    183\u001b[0m         \u001b[1;32mif\u001b[0m \u001b[0mcallback\u001b[0m\u001b[1;33m:\u001b[0m\u001b[1;33m\u001b[0m\u001b[1;33m\u001b[0m\u001b[0m\n\u001b[0;32m    184\u001b[0m             \u001b[0mcallback\u001b[0m\u001b[1;33m(\u001b[0m\u001b[0mresult\u001b[0m\u001b[1;33m)\u001b[0m\u001b[1;33m\u001b[0m\u001b[1;33m\u001b[0m\u001b[0m\n",
      "\u001b[1;32m~\\.conda\\envs\\diplodatos\\lib\\site-packages\\sklearn\\externals\\joblib\\_parallel_backends.py\u001b[0m in \u001b[0;36m__init__\u001b[1;34m(self, batch)\u001b[0m\n\u001b[0;32m    547\u001b[0m         \u001b[1;31m# Don't delay the application, to avoid keeping the input\u001b[0m\u001b[1;33m\u001b[0m\u001b[1;33m\u001b[0m\u001b[1;33m\u001b[0m\u001b[0m\n\u001b[0;32m    548\u001b[0m         \u001b[1;31m# arguments in memory\u001b[0m\u001b[1;33m\u001b[0m\u001b[1;33m\u001b[0m\u001b[1;33m\u001b[0m\u001b[0m\n\u001b[1;32m--> 549\u001b[1;33m         \u001b[0mself\u001b[0m\u001b[1;33m.\u001b[0m\u001b[0mresults\u001b[0m \u001b[1;33m=\u001b[0m \u001b[0mbatch\u001b[0m\u001b[1;33m(\u001b[0m\u001b[1;33m)\u001b[0m\u001b[1;33m\u001b[0m\u001b[1;33m\u001b[0m\u001b[0m\n\u001b[0m\u001b[0;32m    550\u001b[0m \u001b[1;33m\u001b[0m\u001b[0m\n\u001b[0;32m    551\u001b[0m     \u001b[1;32mdef\u001b[0m \u001b[0mget\u001b[0m\u001b[1;33m(\u001b[0m\u001b[0mself\u001b[0m\u001b[1;33m)\u001b[0m\u001b[1;33m:\u001b[0m\u001b[1;33m\u001b[0m\u001b[1;33m\u001b[0m\u001b[0m\n",
      "\u001b[1;32m~\\.conda\\envs\\diplodatos\\lib\\site-packages\\sklearn\\externals\\joblib\\parallel.py\u001b[0m in \u001b[0;36m__call__\u001b[1;34m(self)\u001b[0m\n\u001b[0;32m    223\u001b[0m         \u001b[1;32mwith\u001b[0m \u001b[0mparallel_backend\u001b[0m\u001b[1;33m(\u001b[0m\u001b[0mself\u001b[0m\u001b[1;33m.\u001b[0m\u001b[0m_backend\u001b[0m\u001b[1;33m,\u001b[0m \u001b[0mn_jobs\u001b[0m\u001b[1;33m=\u001b[0m\u001b[0mself\u001b[0m\u001b[1;33m.\u001b[0m\u001b[0m_n_jobs\u001b[0m\u001b[1;33m)\u001b[0m\u001b[1;33m:\u001b[0m\u001b[1;33m\u001b[0m\u001b[1;33m\u001b[0m\u001b[0m\n\u001b[0;32m    224\u001b[0m             return [func(*args, **kwargs)\n\u001b[1;32m--> 225\u001b[1;33m                     for func, args, kwargs in self.items]\n\u001b[0m\u001b[0;32m    226\u001b[0m \u001b[1;33m\u001b[0m\u001b[0m\n\u001b[0;32m    227\u001b[0m     \u001b[1;32mdef\u001b[0m \u001b[0m__len__\u001b[0m\u001b[1;33m(\u001b[0m\u001b[0mself\u001b[0m\u001b[1;33m)\u001b[0m\u001b[1;33m:\u001b[0m\u001b[1;33m\u001b[0m\u001b[1;33m\u001b[0m\u001b[0m\n",
      "\u001b[1;32m~\\.conda\\envs\\diplodatos\\lib\\site-packages\\sklearn\\externals\\joblib\\parallel.py\u001b[0m in \u001b[0;36m<listcomp>\u001b[1;34m(.0)\u001b[0m\n\u001b[0;32m    223\u001b[0m         \u001b[1;32mwith\u001b[0m \u001b[0mparallel_backend\u001b[0m\u001b[1;33m(\u001b[0m\u001b[0mself\u001b[0m\u001b[1;33m.\u001b[0m\u001b[0m_backend\u001b[0m\u001b[1;33m,\u001b[0m \u001b[0mn_jobs\u001b[0m\u001b[1;33m=\u001b[0m\u001b[0mself\u001b[0m\u001b[1;33m.\u001b[0m\u001b[0m_n_jobs\u001b[0m\u001b[1;33m)\u001b[0m\u001b[1;33m:\u001b[0m\u001b[1;33m\u001b[0m\u001b[1;33m\u001b[0m\u001b[0m\n\u001b[0;32m    224\u001b[0m             return [func(*args, **kwargs)\n\u001b[1;32m--> 225\u001b[1;33m                     for func, args, kwargs in self.items]\n\u001b[0m\u001b[0;32m    226\u001b[0m \u001b[1;33m\u001b[0m\u001b[0m\n\u001b[0;32m    227\u001b[0m     \u001b[1;32mdef\u001b[0m \u001b[0m__len__\u001b[0m\u001b[1;33m(\u001b[0m\u001b[0mself\u001b[0m\u001b[1;33m)\u001b[0m\u001b[1;33m:\u001b[0m\u001b[1;33m\u001b[0m\u001b[1;33m\u001b[0m\u001b[0m\n",
      "\u001b[1;32m~\\.conda\\envs\\diplodatos\\lib\\site-packages\\sklearn\\ensemble\\forest.py\u001b[0m in \u001b[0;36m_parallel_build_trees\u001b[1;34m(tree, forest, X, y, sample_weight, tree_idx, n_trees, verbose, class_weight)\u001b[0m\n\u001b[0;32m    117\u001b[0m             \u001b[0mcurr_sample_weight\u001b[0m \u001b[1;33m*=\u001b[0m \u001b[0mcompute_sample_weight\u001b[0m\u001b[1;33m(\u001b[0m\u001b[1;34m'balanced'\u001b[0m\u001b[1;33m,\u001b[0m \u001b[0my\u001b[0m\u001b[1;33m,\u001b[0m \u001b[0mindices\u001b[0m\u001b[1;33m)\u001b[0m\u001b[1;33m\u001b[0m\u001b[1;33m\u001b[0m\u001b[0m\n\u001b[0;32m    118\u001b[0m \u001b[1;33m\u001b[0m\u001b[0m\n\u001b[1;32m--> 119\u001b[1;33m         \u001b[0mtree\u001b[0m\u001b[1;33m.\u001b[0m\u001b[0mfit\u001b[0m\u001b[1;33m(\u001b[0m\u001b[0mX\u001b[0m\u001b[1;33m,\u001b[0m \u001b[0my\u001b[0m\u001b[1;33m,\u001b[0m \u001b[0msample_weight\u001b[0m\u001b[1;33m=\u001b[0m\u001b[0mcurr_sample_weight\u001b[0m\u001b[1;33m,\u001b[0m \u001b[0mcheck_input\u001b[0m\u001b[1;33m=\u001b[0m\u001b[1;32mFalse\u001b[0m\u001b[1;33m)\u001b[0m\u001b[1;33m\u001b[0m\u001b[1;33m\u001b[0m\u001b[0m\n\u001b[0m\u001b[0;32m    120\u001b[0m     \u001b[1;32melse\u001b[0m\u001b[1;33m:\u001b[0m\u001b[1;33m\u001b[0m\u001b[1;33m\u001b[0m\u001b[0m\n\u001b[0;32m    121\u001b[0m         \u001b[0mtree\u001b[0m\u001b[1;33m.\u001b[0m\u001b[0mfit\u001b[0m\u001b[1;33m(\u001b[0m\u001b[0mX\u001b[0m\u001b[1;33m,\u001b[0m \u001b[0my\u001b[0m\u001b[1;33m,\u001b[0m \u001b[0msample_weight\u001b[0m\u001b[1;33m=\u001b[0m\u001b[0msample_weight\u001b[0m\u001b[1;33m,\u001b[0m \u001b[0mcheck_input\u001b[0m\u001b[1;33m=\u001b[0m\u001b[1;32mFalse\u001b[0m\u001b[1;33m)\u001b[0m\u001b[1;33m\u001b[0m\u001b[1;33m\u001b[0m\u001b[0m\n",
      "\u001b[1;32m~\\.conda\\envs\\diplodatos\\lib\\site-packages\\sklearn\\tree\\tree.py\u001b[0m in \u001b[0;36mfit\u001b[1;34m(self, X, y, sample_weight, check_input, X_idx_sorted)\u001b[0m\n\u001b[0;32m   1140\u001b[0m             \u001b[0msample_weight\u001b[0m\u001b[1;33m=\u001b[0m\u001b[0msample_weight\u001b[0m\u001b[1;33m,\u001b[0m\u001b[1;33m\u001b[0m\u001b[1;33m\u001b[0m\u001b[0m\n\u001b[0;32m   1141\u001b[0m             \u001b[0mcheck_input\u001b[0m\u001b[1;33m=\u001b[0m\u001b[0mcheck_input\u001b[0m\u001b[1;33m,\u001b[0m\u001b[1;33m\u001b[0m\u001b[1;33m\u001b[0m\u001b[0m\n\u001b[1;32m-> 1142\u001b[1;33m             X_idx_sorted=X_idx_sorted)\n\u001b[0m\u001b[0;32m   1143\u001b[0m         \u001b[1;32mreturn\u001b[0m \u001b[0mself\u001b[0m\u001b[1;33m\u001b[0m\u001b[1;33m\u001b[0m\u001b[0m\n\u001b[0;32m   1144\u001b[0m \u001b[1;33m\u001b[0m\u001b[0m\n",
      "\u001b[1;32m~\\.conda\\envs\\diplodatos\\lib\\site-packages\\sklearn\\tree\\tree.py\u001b[0m in \u001b[0;36mfit\u001b[1;34m(self, X, y, sample_weight, check_input, X_idx_sorted)\u001b[0m\n\u001b[0;32m    364\u001b[0m                                            min_impurity_split)\n\u001b[0;32m    365\u001b[0m \u001b[1;33m\u001b[0m\u001b[0m\n\u001b[1;32m--> 366\u001b[1;33m         \u001b[0mbuilder\u001b[0m\u001b[1;33m.\u001b[0m\u001b[0mbuild\u001b[0m\u001b[1;33m(\u001b[0m\u001b[0mself\u001b[0m\u001b[1;33m.\u001b[0m\u001b[0mtree_\u001b[0m\u001b[1;33m,\u001b[0m \u001b[0mX\u001b[0m\u001b[1;33m,\u001b[0m \u001b[0my\u001b[0m\u001b[1;33m,\u001b[0m \u001b[0msample_weight\u001b[0m\u001b[1;33m,\u001b[0m \u001b[0mX_idx_sorted\u001b[0m\u001b[1;33m)\u001b[0m\u001b[1;33m\u001b[0m\u001b[1;33m\u001b[0m\u001b[0m\n\u001b[0m\u001b[0;32m    367\u001b[0m \u001b[1;33m\u001b[0m\u001b[0m\n\u001b[0;32m    368\u001b[0m         \u001b[1;32mif\u001b[0m \u001b[0mself\u001b[0m\u001b[1;33m.\u001b[0m\u001b[0mn_outputs_\u001b[0m \u001b[1;33m==\u001b[0m \u001b[1;36m1\u001b[0m\u001b[1;33m:\u001b[0m\u001b[1;33m\u001b[0m\u001b[1;33m\u001b[0m\u001b[0m\n",
      "\u001b[1;31mKeyboardInterrupt\u001b[0m: "
     ]
    }
   ],
   "source": [
    "from sklearn.ensemble import RandomForestRegressor\n",
    "from sklearn.model_selection import RandomizedSearchCV\n",
    "\n",
    "# Number of trees in random forest\n",
    "n_estimators = [int(x) for x in np.linspace(start = 200, stop = 2000, num = 10)]\n",
    "# Number of features to consider at every split\n",
    "max_features = ['auto', 'sqrt']\n",
    "# Maximum number of levels in tree\n",
    "max_depth = [int(x) for x in np.linspace(10, 110, num = 11)]\n",
    "max_depth.append(None)\n",
    "# Minimum number of samples required to split a node\n",
    "min_samples_split = [2, 5, 10]\n",
    "# Minimum number of samples required at each leaf node\n",
    "min_samples_leaf = [1, 2, 4]\n",
    "# Method of selecting samples for training each tree\n",
    "bootstrap = [True, False]\n",
    "# Create the random grid\n",
    "random_grid = {'n_estimators': n_estimators,\n",
    "               'max_features': max_features,\n",
    "               'max_depth': max_depth,\n",
    "               'min_samples_split': min_samples_split,\n",
    "               'min_samples_leaf': min_samples_leaf,\n",
    "               'bootstrap': bootstrap}\n",
    "\n",
    "# Use the random grid to search for best hyperparameters\n",
    "# First create the base model to tune\n",
    "rf = RandomForestRegressor(random_state = 42)\n",
    "# Random search of parameters, using 3 fold cross validation, \n",
    "# search across 100 different combinations, and use all available cores\n",
    "rf_random = RandomizedSearchCV(estimator = rf, param_distributions = random_grid, n_iter = 100, cv = 3, verbose=2, random_state=42, n_jobs = -1)\n",
    "# Fit the random search model\n",
    "rf_random.fit(X_train, y_train)\n",
    "\n",
    "\n",
    "print(\"Mejor conjunto de parámetros:\")\n",
    "print(rf_random.best_params_, end=\"\\n\\n\")\n",
    "    \n",
    "print(\"Mejor Estimador:\")\n",
    "print(rf_random.best_estimator_, end=\"\\n\\n\")\n",
    "    \n",
    "print(\"Mejor Score:\")\n",
    "print(rf_random.best_score_, end=\"\\n\\n\")\n",
    "print(r2_score(y_train,rf_random.predict(X_train)), end=\"\\n\\n\")\n"
   ]
  },
  {
   "cell_type": "code",
   "execution_count": 42,
   "metadata": {
    "scrolled": true
   },
   "outputs": [
    {
     "name": "stderr",
     "output_type": "stream",
     "text": [
      "C:\\Users\\maria.navarro\\AppData\\Local\\Continuum\\anaconda3\\lib\\site-packages\\sklearn\\model_selection\\_search.py:266: UserWarning: The total space of parameters 80 is smaller than n_iter=100. Running 80 iterations. For exhaustive searches, use GridSearchCV.\n",
      "  % (grid_size, self.n_iter, grid_size), UserWarning)\n",
      "[Parallel(n_jobs=-1)]: Using backend LokyBackend with 8 concurrent workers.\n"
     ]
    },
    {
     "name": "stdout",
     "output_type": "stream",
     "text": [
      "Fitting 3 folds for each of 80 candidates, totalling 240 fits\n"
     ]
    },
    {
     "name": "stderr",
     "output_type": "stream",
     "text": [
      "[Parallel(n_jobs=-1)]: Done  25 tasks      | elapsed:    5.4s\n",
      "[Parallel(n_jobs=-1)]: Done 146 tasks      | elapsed:    8.1s\n"
     ]
    },
    {
     "name": "stdout",
     "output_type": "stream",
     "text": [
      "Mejor conjunto de parámetros:\n",
      "{'n_estimators': 52, 'max_samples': 10, 'bootstrap': True}\n",
      "\n",
      "Mejor Estimador:\n",
      "BaggingRegressor(base_estimator=None, bootstrap=True, bootstrap_features=False,\n",
      "                 max_features=1.0, max_samples=10, n_estimators=52, n_jobs=None,\n",
      "                 oob_score=False, random_state=42, verbose=0, warm_start=False)\n",
      "\n",
      "Mejor Score:\n",
      "0.6658172322131308\n",
      "\n",
      "0.612024925373515\n",
      "\n"
     ]
    },
    {
     "name": "stderr",
     "output_type": "stream",
     "text": [
      "[Parallel(n_jobs=-1)]: Done 240 out of 240 | elapsed:   10.6s finished\n"
     ]
    }
   ],
   "source": [
    "from sklearn.ensemble import BaggingRegressor\n",
    "from sklearn.model_selection import RandomizedSearchCV\n",
    "\n",
    "# Number of trees in random forest\n",
    "n_estimators = [int(x) for x in np.linspace(start = 10, stop = 200, num = 10)]\n",
    "# Minimum number of samples required to split a node\n",
    "max_samples = [1,2, 5, 10]\n",
    "# Method of selecting samples for training each tree\n",
    "bootstrap = [True, False]\n",
    "# Create the random grid\n",
    "random_grid_br = {'n_estimators': n_estimators,\n",
    "               'max_samples': max_samples,\n",
    "               'bootstrap': bootstrap}\n",
    "\n",
    "# Use the random grid to search for best hyperparameters\n",
    "# First create the base model to tune\n",
    "br = BaggingRegressor(random_state = 42)\n",
    "# Random search of parameters, using 3 fold cross validation, \n",
    "# search across 100 different combinations, and use all available cores\n",
    "br_random = RandomizedSearchCV(estimator = br, param_distributions = random_grid_br, n_iter = 100, cv = 3, verbose=2, random_state=42, n_jobs = -1)\n",
    "# Fit the random search model\n",
    "br_random.fit(X_train, y_train)\n",
    "\n",
    "\n",
    "print(\"Mejor conjunto de parámetros:\")\n",
    "print(br_random.best_params_, end=\"\\n\\n\")\n",
    "    \n",
    "print(\"Mejor Estimador:\")\n",
    "print(br_random.best_estimator_, end=\"\\n\\n\")\n",
    "    \n",
    "print(\"Mejor Score:\")\n",
    "print(br_random.best_score_, end=\"\\n\\n\")\n",
    "print(r2_score(y_train,br_random.predict(X_train)), end=\"\\n\\n\")"
   ]
  },
  {
   "cell_type": "code",
   "execution_count": 43,
   "metadata": {},
   "outputs": [
    {
     "name": "stdout",
     "output_type": "stream",
     "text": [
      "Fitting 3 folds for each of 100 candidates, totalling 300 fits\n"
     ]
    },
    {
     "name": "stderr",
     "output_type": "stream",
     "text": [
      "[Parallel(n_jobs=-1)]: Using backend LokyBackend with 8 concurrent workers.\n",
      "[Parallel(n_jobs=-1)]: Done  25 tasks      | elapsed:   11.4s\n",
      "[Parallel(n_jobs=-1)]: Done 146 tasks      | elapsed: 24.2min\n",
      "[Parallel(n_jobs=-1)]: Done 300 out of 300 | elapsed: 63.0min finished\n"
     ]
    },
    {
     "name": "stdout",
     "output_type": "stream",
     "text": [
      "Mejor conjunto de parámetros:\n",
      "{'n_estimators': 600, 'min_samples_split': 5, 'min_samples_leaf': 2, 'max_features': 'auto', 'max_depth': 110, 'criterion': 'mse', 'bootstrap': False}\n",
      "\n",
      "Mejor Estimador:\n",
      "ExtraTreesRegressor(bootstrap=False, criterion='mse', max_depth=110,\n",
      "                    max_features='auto', max_leaf_nodes=None,\n",
      "                    min_impurity_decrease=0.0, min_impurity_split=None,\n",
      "                    min_samples_leaf=2, min_samples_split=5,\n",
      "                    min_weight_fraction_leaf=0.0, n_estimators=600, n_jobs=None,\n",
      "                    oob_score=False, random_state=42, verbose=0,\n",
      "                    warm_start=False)\n",
      "\n",
      "Mejor Score:\n",
      "0.9580962487707595\n",
      "\n",
      "0.9884365087753302\n",
      "\n"
     ]
    }
   ],
   "source": [
    "from sklearn.ensemble import ExtraTreesRegressor\n",
    "from sklearn.model_selection import RandomizedSearchCV\n",
    "\n",
    "# Number of trees in random forest\n",
    "n_estimators = [int(x) for x in np.linspace(start = 200, stop = 2000, num = 10)]\n",
    "criterion = ['mse','mae','friedman_mse']\n",
    "# Number of features to consider at every split\n",
    "max_features = ['auto', 'sqrt']\n",
    "# Maximum number of levels in tree\n",
    "max_depth = [int(x) for x in np.linspace(10, 110, num = 11)]\n",
    "max_depth.append(None)\n",
    "# Minimum number of samples required to split a node\n",
    "min_samples_split = [2, 5, 10]\n",
    "# Minimum number of samples required at each leaf node\n",
    "min_samples_leaf = [1, 2, 4]\n",
    "# Method of selecting samples for training each tree\n",
    "bootstrap = [True, False]\n",
    "# Create the random grid\n",
    "random_grid_etr = {'n_estimators': n_estimators,\n",
    "               'criterion': criterion,\n",
    "               'max_features': max_features,\n",
    "               'max_depth': max_depth,\n",
    "               'min_samples_split': min_samples_split,\n",
    "               'min_samples_leaf': min_samples_leaf,\n",
    "               'bootstrap': bootstrap}\n",
    "\n",
    "# Use the random grid to search for best hyperparameters\n",
    "# First create the base model to tune\n",
    "etr = ExtraTreesRegressor(random_state = 42)\n",
    "# Random search of parameters, using 3 fold cross validation, \n",
    "# search across 100 different combinations, and use all available cores\n",
    "etr_random = RandomizedSearchCV(estimator = etr, param_distributions = random_grid_etr, n_iter = 100, cv = 3, verbose=2, random_state=42, n_jobs = -1)\n",
    "# Fit the random search model\n",
    "etr_random.fit(X_train, y_train)\n",
    "\n",
    "\n",
    "print(\"Mejor conjunto de parámetros:\")\n",
    "print(etr_random.best_params_, end=\"\\n\\n\")\n",
    "    \n",
    "print(\"Mejor Estimador:\")\n",
    "print(etr_random.best_estimator_, end=\"\\n\\n\")\n",
    "    \n",
    "print(\"Mejor Score:\")\n",
    "print(etr_random.best_score_, end=\"\\n\\n\")\n",
    "print(r2_score(y_train,etr_random.predict(X_train)), end=\"\\n\\n\")"
   ]
  },
  {
   "cell_type": "markdown",
   "metadata": {},
   "source": [
    "## Hasta aca dejaría de incluir"
   ]
  },
  {
   "cell_type": "markdown",
   "metadata": {},
   "source": [
    "# Ejercicio 3: Métricas sobre el conjunto de evaluación."
   ]
  },
  {
   "cell_type": "markdown",
   "metadata": {},
   "source": [
    "Análizar como varia la función de coste según se modifican los hiperparametros, i.e, la profundidad de los mismos, etc.\n",
    "\n",
    "Graficar los valores de la función costo en ambos conjuntos, de entrenamiento (o training) y evaluación (o test)."
   ]
  },
  {
   "cell_type": "markdown",
   "metadata": {},
   "source": [
    "# Ejercicio 4: Realizar lo mismo ahora con un modelo de KNN"
   ]
  },
  {
   "cell_type": "markdown",
   "metadata": {},
   "source": [
    "Entrenar un KNN y analizar su comportamiento como en el modelo anterior."
   ]
  },
  {
   "cell_type": "code",
   "execution_count": 12,
   "metadata": {},
   "outputs": [],
   "source": [
    "from math import sqrt\n",
    "import matplotlib.pyplot as plt\n",
    "from sklearn import neighbors\n",
    "from sklearn.metrics import mean_squared_error \n",
    "\n",
    "%matplotlib inline"
   ]
  },
  {
   "cell_type": "markdown",
   "metadata": {},
   "source": [
    "Se arma una rutina para probar con distintos valores de K y evaluar el RMSE buscando el mínimo:"
   ]
  },
  {
   "cell_type": "code",
   "execution_count": 29,
   "metadata": {},
   "outputs": [
    {
     "name": "stdout",
     "output_type": "stream",
     "text": [
      "Valor de RMSE para k=  1 es: 40802.79628067377\n",
      "Valor de RMSE para k=  2 es: 37538.896058284474\n",
      "Valor de RMSE para k=  3 es: 34722.83113377103\n",
      "Valor de RMSE para k=  4 es: 34811.23856192836\n",
      "Valor de RMSE para k=  5 es: 34625.17966323373\n",
      "Valor de RMSE para k=  6 es: 34397.54856199747\n",
      "Valor de RMSE para k=  7 es: 34734.53344386213\n",
      "Valor de RMSE para k=  8 es: 35489.21244499648\n",
      "Valor de RMSE para k=  9 es: 36065.1238487866\n",
      "Valor de RMSE para k=  10 es: 36468.943788047436\n",
      "Valor de RMSE para k=  11 es: 36436.96277333004\n",
      "Valor de RMSE para k=  12 es: 36841.492934483715\n",
      "Valor de RMSE para k=  13 es: 37193.50862473248\n",
      "Valor de RMSE para k=  14 es: 37437.6745309394\n",
      "Valor de RMSE para k=  15 es: 37988.0258595961\n"
     ]
    }
   ],
   "source": [
    "valor_rmse = []\n",
    "for K in range(15):\n",
    "    K = K+1\n",
    "    model = neighbors.KNeighborsRegressor(n_neighbors = K)\n",
    "\n",
    "    model.fit(X_train, y_train) \n",
    "    pred=model.predict(X_valid)\n",
    "    error = sqrt(mean_squared_error(y_valid,pred)) \n",
    "    valor_rmse.append(error) \n",
    "    print('Valor de RMSE para k= ' , K , 'es:', error)"
   ]
  },
  {
   "cell_type": "markdown",
   "metadata": {},
   "source": [
    "Graficando los distintos valores de RMSE para cada K, se puede observar que se minimiza el RMSE con K=5:"
   ]
  },
  {
   "cell_type": "code",
   "execution_count": 25,
   "metadata": {},
   "outputs": [
    {
     "data": {
      "text/plain": [
       "<matplotlib.legend.Legend at 0x1308a1db1d0>"
      ]
     },
     "execution_count": 25,
     "metadata": {},
     "output_type": "execute_result"
    },
    {
     "data": {
      "image/png": "[encoded data removed]",
      "text/plain": [
       "<Figure size 432x288 with 1 Axes>"
      ]
     },
     "metadata": {
      "needs_background": "light"
     },
     "output_type": "display_data"
    }
   ],
   "source": [
    "grafo_rmse = pd.DataFrame(valor_rmse)\n",
    "grafo_rmse.plot()\n",
    "plt.title(\"RMSE vs K\")\n",
    "plt.legend(())"
   ]
  },
  {
   "cell_type": "markdown",
   "metadata": {},
   "source": [
    "A continuación se aplica una búsqueda exhaustiva para buscar optimizar los demás parámetros y verificar si obtenemos que el K óptimo es igual a 5 como nos indica el gráfico anterior"
   ]
  },
  {
   "cell_type": "code",
   "execution_count": 35,
   "metadata": {},
   "outputs": [
    {
     "name": "stdout",
     "output_type": "stream",
     "text": [
      "Mejores Parámetros {'algorithm': 'ball_tree', 'leaf_size': 5, 'n_neighbors': 3, 'weights': 'distance'}\n",
      "Mejor score: 0.947967391222243\n"
     ]
    }
   ],
   "source": [
    "params = {'n_neighbors':[2,3,4,5,6,7,8,9,10,11,12,13,14,15],\n",
    "          'weights': ['uniform', 'distance'],\n",
    "          'leaf_size':[1,2,3,5],\n",
    "          'algorithm':['auto', 'ball_tree','kd_tree','brute']}\n",
    "\n",
    "knn = neighbors.KNeighborsRegressor()\n",
    "\n",
    "knn_model = GridSearchCV(knn, params, cv=5)\n",
    "knn_model.fit(X_train,y_train)\n",
    "\n",
    "print('Mejores Parámetros', knn_model.best_params_)\n",
    "\n",
    "print('Mejor score:',knn_model.best_score_)\n",
    "\n"
   ]
  },
  {
   "cell_type": "markdown",
   "metadata": {},
   "source": [
    "# Informe final"
   ]
  },
  {
   "cell_type": "markdown",
   "metadata": {},
   "source": [
    "Presentar un informe final con los datos inferidos del dataset utilizando herramientas gráficas y escritas teniendo en cuenta los destinatarios. En este caso colegas de la diplomatura para preparar el informe con un background adecuado al destinatario."
   ]
  }
 ],
 "metadata": {
  "kernelspec": {
   "display_name": "Python 3",
   "language": "python",
   "name": "python3"
  },
  "language_info": {
   "codemirror_mode": {
    "name": "ipython",
    "version": 3
   },
   "file_extension": ".py",
   "mimetype": "text/x-python",
   "name": "python",
   "nbconvert_exporter": "python",
   "pygments_lexer": "ipython3",
   "version": "3.6.7"
  }
 },
 "nbformat": 4,
 "nbformat_minor": 2
}
