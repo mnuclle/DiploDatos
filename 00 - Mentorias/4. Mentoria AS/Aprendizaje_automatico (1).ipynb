{
 "cells": [
  {
   "cell_type": "markdown",
   "metadata": {},
   "source": [
    "# Proyecto: Análisis del mercado inmobiliario de la Ciudad de Buenos Aires"
   ]
  },
  {
   "cell_type": "markdown",
   "metadata": {},
   "source": [
    "Mentor: Javier Lezama."
   ]
  },
  {
   "cell_type": "markdown",
   "metadata": {},
   "source": [
    "javitolez@gmail.com"
   ]
  },
  {
   "cell_type": "markdown",
   "metadata": {},
   "source": [
    "En este proyecto vamos a trabajar con un dataset de propiedades en venta publicadas en el portal www.Properati.com.ar."
   ]
  },
  {
   "cell_type": "markdown",
   "metadata": {},
   "source": [
    "# El dataset: propiedades en venta en Ciudad de Buenos Aires."
   ]
  },
  {
   "cell_type": "markdown",
   "metadata": {},
   "source": [
    "En este proyecto, trabajaremos con una muestra del conjunto de datos de propiedades en venta mencionado. En este dataset, cada fila es una propiedad en venta. \n",
    "\n",
    "#Los atributos\n",
    "\n",
    "A continuación vamos a describir los atributos que consideramos en esta muestra:\n",
    "* id: id de la propiedad\n",
    "* created_on: fecha en la que la propiedad ingresó al sitio\n",
    "* operation: alquiler (rent) o venta (sell)\n",
    "* property_type: tipo de propiedad (casa, departamento, ph, etcétera)\n",
    "* place_with_parent_names: nombre del lugar donde se encuentra la propiedad según el publicador\n",
    "* lat-lon: coordenadas concatenadas\n",
    "* lat: latitud\n",
    "* lon: longitud\n",
    "* price: precio en la moneda especificada en currency\n",
    "* currency: divisa en la que está expresada la publicación\n",
    "* price_aprox_usd: precio aproximado en dólares estadounidenses\n",
    "* surface_total_in_m2: superficie total (en metros cuadrados)\n",
    "* surface_covered_in_m2: superficie cubierta (en metros cuadrados)\n",
    "* price_usd_per_m2: precio por metro cuadrado en dólares (precio dólares / superficie)\n",
    "* floor: número de piso (si corresponde)\n",
    "* rooms: cantidad de ambientes\n",
    "* expenses: expensas (si corresponde)\n",
    "* barrio: barrio según cartografía oficial\n",
    "* properati_url: url de la publicación en Properati"
   ]
  },
  {
   "cell_type": "markdown",
   "metadata": {},
   "source": [
    "Objetivos del practico aprendizaje automático:\n",
    "\n",
    "El objetivo de este práctico es trabajar con el mismo dateset trabajado en el práctico dos, trabajar con diferentes modelos de regresión no trabajados antes y lo visto en el módulo de clases.\n",
    "Para eso trabajaremos con el dataset resultante del practico dos para armar diferentes modelos para predecir el precio de las propiedades en dólares."
   ]
  },
  {
   "cell_type": "markdown",
   "metadata": {},
   "source": [
    "# Manos a la obra\n"
   ]
  },
  {
   "cell_type": "markdown",
   "metadata": {},
   "source": [
    "Partiremos con el dataset resultante del práctico dos."
   ]
  },
  {
   "cell_type": "code",
   "execution_count": 1,
   "metadata": {},
   "outputs": [],
   "source": [
    "# Import the required packages\n",
    "import os\n",
    "\n",
    "import numpy as np\n",
    "import pandas as pd\n",
    "import matplotlib.pyplot as plt\n",
    "\n",
    "\n",
    "#from ml.visualization import plot_confusion_matrix, plot_learning_curve\n",
    "from sklearn.datasets import load_wine\n",
    "from sklearn.linear_model import SGDClassifier\n",
    "from sklearn.model_selection import train_test_split\n",
    "from sklearn.metrics import accuracy_score, classification_report, confusion_matrix\n",
    "from sklearn.model_selection import GridSearchCV, train_test_split\n",
    "\n",
    "np.random.seed(1234) # Para mayor determinismo\n",
    "\n"
   ]
  },
  {
   "cell_type": "code",
   "execution_count": 2,
   "metadata": {},
   "outputs": [
    {
     "name": "stdout",
     "output_type": "stream",
     "text": [
      "<class 'pandas.core.frame.DataFrame'>\n",
      "RangeIndex: 7716 entries, 0 to 7715\n",
      "Data columns (total 79 columns):\n",
      "Unnamed: 0                                                                       7716 non-null int64\n",
      "created_on                                                                       7716 non-null object\n",
      "operation                                                                        7716 non-null object\n",
      "property_type                                                                    7716 non-null int64\n",
      "place_with_parent_names                                                          7716 non-null object\n",
      "lat-lon                                                                          7716 non-null object\n",
      "lat                                                                              7716 non-null float64\n",
      "lon                                                                              7716 non-null float64\n",
      "price_aprox_usd                                                                  7716 non-null float64\n",
      "surface_total_in_m2                                                              7716 non-null float64\n",
      "surface_covered_in_m2                                                            7716 non-null float64\n",
      "price_usd_per_m2                                                                 7716 non-null float64\n",
      "rooms                                                                            7716 non-null float64\n",
      "properati_url                                                                    7716 non-null object\n",
      "comuna                                                                           7716 non-null float64\n",
      "barrio_cod                                                                       7716 non-null int64\n",
      "rooms_mean                                                                       7716 non-null float64\n",
      "operation_sell                                                                   7716 non-null int64\n",
      "place_with_parent_names_|Argentina|Capital Federal|                              7716 non-null int64\n",
      "place_with_parent_names_|Argentina|Capital Federal|Abasto|                       7716 non-null int64\n",
      "place_with_parent_names_|Argentina|Capital Federal|Agronomía|                    7716 non-null int64\n",
      "place_with_parent_names_|Argentina|Capital Federal|Almagro|                      7716 non-null int64\n",
      "place_with_parent_names_|Argentina|Capital Federal|Balvanera|                    7716 non-null int64\n",
      "place_with_parent_names_|Argentina|Capital Federal|Barracas|                     7716 non-null int64\n",
      "place_with_parent_names_|Argentina|Capital Federal|Barrio Norte|                 7716 non-null int64\n",
      "place_with_parent_names_|Argentina|Capital Federal|Belgrano|                     7716 non-null int64\n",
      "place_with_parent_names_|Argentina|Capital Federal|Boca|                         7716 non-null int64\n",
      "place_with_parent_names_|Argentina|Capital Federal|Boedo|                        7716 non-null int64\n",
      "place_with_parent_names_|Argentina|Capital Federal|Caballito|                    7716 non-null int64\n",
      "place_with_parent_names_|Argentina|Capital Federal|Catalinas|                    7716 non-null int64\n",
      "place_with_parent_names_|Argentina|Capital Federal|Centro / Microcentro|         7716 non-null int64\n",
      "place_with_parent_names_|Argentina|Capital Federal|Chacarita|                    7716 non-null int64\n",
      "place_with_parent_names_|Argentina|Capital Federal|Coghlan|                      7716 non-null int64\n",
      "place_with_parent_names_|Argentina|Capital Federal|Colegiales|                   7716 non-null int64\n",
      "place_with_parent_names_|Argentina|Capital Federal|Congreso|                     7716 non-null int64\n",
      "place_with_parent_names_|Argentina|Capital Federal|Constitución|                 7716 non-null int64\n",
      "place_with_parent_names_|Argentina|Capital Federal|Floresta|                     7716 non-null int64\n",
      "place_with_parent_names_|Argentina|Capital Federal|Flores|                       7716 non-null int64\n",
      "place_with_parent_names_|Argentina|Capital Federal|Las Cañitas|                  7716 non-null int64\n",
      "place_with_parent_names_|Argentina|Capital Federal|Liniers|                      7716 non-null int64\n",
      "place_with_parent_names_|Argentina|Capital Federal|Mataderos|                    7716 non-null int64\n",
      "place_with_parent_names_|Argentina|Capital Federal|Monserrat|                    7716 non-null int64\n",
      "place_with_parent_names_|Argentina|Capital Federal|Monte Castro|                 7716 non-null int64\n",
      "place_with_parent_names_|Argentina|Capital Federal|Nuñez|                        7716 non-null int64\n",
      "place_with_parent_names_|Argentina|Capital Federal|Once|                         7716 non-null int64\n",
      "place_with_parent_names_|Argentina|Capital Federal|Palermo|                      7716 non-null int64\n",
      "place_with_parent_names_|Argentina|Capital Federal|Palermo|Palermo Chico|        7716 non-null int64\n",
      "place_with_parent_names_|Argentina|Capital Federal|Palermo|Palermo Hollywood|    7716 non-null int64\n",
      "place_with_parent_names_|Argentina|Capital Federal|Palermo|Palermo Soho|         7716 non-null int64\n",
      "place_with_parent_names_|Argentina|Capital Federal|Palermo|Palermo Viejo|        7716 non-null int64\n",
      "place_with_parent_names_|Argentina|Capital Federal|Parque Avellaneda|            7716 non-null int64\n",
      "place_with_parent_names_|Argentina|Capital Federal|Parque Centenario|            7716 non-null int64\n",
      "place_with_parent_names_|Argentina|Capital Federal|Parque Chacabuco|             7716 non-null int64\n",
      "place_with_parent_names_|Argentina|Capital Federal|Parque Chas|                  7716 non-null int64\n",
      "place_with_parent_names_|Argentina|Capital Federal|Parque Patricios|             7716 non-null int64\n",
      "place_with_parent_names_|Argentina|Capital Federal|Paternal|                     7716 non-null int64\n",
      "place_with_parent_names_|Argentina|Capital Federal|Pompeya|                      7716 non-null int64\n",
      "place_with_parent_names_|Argentina|Capital Federal|Puerto Madero|                7716 non-null int64\n",
      "place_with_parent_names_|Argentina|Capital Federal|Recoleta|                     7716 non-null int64\n",
      "place_with_parent_names_|Argentina|Capital Federal|Retiro|                       7716 non-null int64\n",
      "place_with_parent_names_|Argentina|Capital Federal|Saavedra|                     7716 non-null int64\n",
      "place_with_parent_names_|Argentina|Capital Federal|San Cristobal|                7716 non-null int64\n",
      "place_with_parent_names_|Argentina|Capital Federal|San Nicolás|                  7716 non-null int64\n",
      "place_with_parent_names_|Argentina|Capital Federal|San Telmo|                    7716 non-null int64\n",
      "place_with_parent_names_|Argentina|Capital Federal|Tribunales|                   7716 non-null int64\n",
      "place_with_parent_names_|Argentina|Capital Federal|Velez Sarsfield|              7716 non-null int64\n",
      "place_with_parent_names_|Argentina|Capital Federal|Versalles|                    7716 non-null int64\n",
      "place_with_parent_names_|Argentina|Capital Federal|Villa Crespo|                 7716 non-null int64\n",
      "place_with_parent_names_|Argentina|Capital Federal|Villa Devoto|                 7716 non-null int64\n",
      "place_with_parent_names_|Argentina|Capital Federal|Villa General Mitre|          7716 non-null int64\n",
      "place_with_parent_names_|Argentina|Capital Federal|Villa Lugano|                 7716 non-null int64\n",
      "place_with_parent_names_|Argentina|Capital Federal|Villa Luro|                   7716 non-null int64\n",
      "place_with_parent_names_|Argentina|Capital Federal|Villa Ortuzar|                7716 non-null int64\n",
      "place_with_parent_names_|Argentina|Capital Federal|Villa Pueyrredón|             7716 non-null int64\n",
      "place_with_parent_names_|Argentina|Capital Federal|Villa Real|                   7716 non-null int64\n",
      "place_with_parent_names_|Argentina|Capital Federal|Villa Santa Rita|             7716 non-null int64\n",
      "place_with_parent_names_|Argentina|Capital Federal|Villa Urquiza|                7716 non-null int64\n",
      "place_with_parent_names_|Argentina|Capital Federal|Villa del Parque|             7716 non-null int64\n",
      "price_m2                                                                         7716 non-null float64\n",
      "dtypes: float64(10), int64(64), object(5)\n",
      "memory usage: 4.7+ MB\n"
     ]
    }
   ],
   "source": [
    "df_prop = pd.read_csv('df_bin.csv')\n",
    "df_prop.info()"
   ]
  },
  {
   "cell_type": "code",
   "execution_count": 3,
   "metadata": {
    "scrolled": true
   },
   "outputs": [
    {
     "data": {
      "text/html": [
       "<div>\n",
       "<style scoped>\n",
       "    .dataframe tbody tr th:only-of-type {\n",
       "        vertical-align: middle;\n",
       "    }\n",
       "\n",
       "    .dataframe tbody tr th {\n",
       "        vertical-align: top;\n",
       "    }\n",
       "\n",
       "    .dataframe thead th {\n",
       "        text-align: right;\n",
       "    }\n",
       "</style>\n",
       "<table border=\"1\" class=\"dataframe\">\n",
       "  <thead>\n",
       "    <tr style=\"text-align: right;\">\n",
       "      <th></th>\n",
       "      <th>Unnamed: 0</th>\n",
       "      <th>created_on</th>\n",
       "      <th>operation</th>\n",
       "      <th>property_type</th>\n",
       "      <th>place_with_parent_names</th>\n",
       "      <th>lat-lon</th>\n",
       "      <th>lat</th>\n",
       "      <th>lon</th>\n",
       "      <th>price_aprox_usd</th>\n",
       "      <th>surface_total_in_m2</th>\n",
       "      <th>...</th>\n",
       "      <th>place_with_parent_names_|Argentina|Capital Federal|Villa General Mitre|</th>\n",
       "      <th>place_with_parent_names_|Argentina|Capital Federal|Villa Lugano|</th>\n",
       "      <th>place_with_parent_names_|Argentina|Capital Federal|Villa Luro|</th>\n",
       "      <th>place_with_parent_names_|Argentina|Capital Federal|Villa Ortuzar|</th>\n",
       "      <th>place_with_parent_names_|Argentina|Capital Federal|Villa Pueyrredón|</th>\n",
       "      <th>place_with_parent_names_|Argentina|Capital Federal|Villa Real|</th>\n",
       "      <th>place_with_parent_names_|Argentina|Capital Federal|Villa Santa Rita|</th>\n",
       "      <th>place_with_parent_names_|Argentina|Capital Federal|Villa Urquiza|</th>\n",
       "      <th>place_with_parent_names_|Argentina|Capital Federal|Villa del Parque|</th>\n",
       "      <th>price_m2</th>\n",
       "    </tr>\n",
       "  </thead>\n",
       "  <tbody>\n",
       "    <tr>\n",
       "      <th>0</th>\n",
       "      <td>18</td>\n",
       "      <td>2017-08-29</td>\n",
       "      <td>sell</td>\n",
       "      <td>1</td>\n",
       "      <td>|Argentina|Capital Federal|Palermo|</td>\n",
       "      <td>-34.588912403,-58.4134942185</td>\n",
       "      <td>-34.588912</td>\n",
       "      <td>-58.413494</td>\n",
       "      <td>340000.0</td>\n",
       "      <td>130.0</td>\n",
       "      <td>...</td>\n",
       "      <td>0</td>\n",
       "      <td>0</td>\n",
       "      <td>0</td>\n",
       "      <td>0</td>\n",
       "      <td>0</td>\n",
       "      <td>0</td>\n",
       "      <td>0</td>\n",
       "      <td>0</td>\n",
       "      <td>0</td>\n",
       "      <td>2615.384615</td>\n",
       "    </tr>\n",
       "    <tr>\n",
       "      <th>1</th>\n",
       "      <td>20</td>\n",
       "      <td>2017-08-29</td>\n",
       "      <td>sell</td>\n",
       "      <td>1</td>\n",
       "      <td>|Argentina|Capital Federal|Palermo|</td>\n",
       "      <td>-34.5950139,-58.4273915</td>\n",
       "      <td>-34.595014</td>\n",
       "      <td>-58.427392</td>\n",
       "      <td>180000.0</td>\n",
       "      <td>70.0</td>\n",
       "      <td>...</td>\n",
       "      <td>0</td>\n",
       "      <td>0</td>\n",
       "      <td>0</td>\n",
       "      <td>0</td>\n",
       "      <td>0</td>\n",
       "      <td>0</td>\n",
       "      <td>0</td>\n",
       "      <td>0</td>\n",
       "      <td>0</td>\n",
       "      <td>2571.428571</td>\n",
       "    </tr>\n",
       "    <tr>\n",
       "      <th>2</th>\n",
       "      <td>22</td>\n",
       "      <td>2017-08-30</td>\n",
       "      <td>sell</td>\n",
       "      <td>2</td>\n",
       "      <td>|Argentina|Capital Federal|Palermo|Palermo Hol...</td>\n",
       "      <td>-34.5793535,-58.4364489</td>\n",
       "      <td>-34.579353</td>\n",
       "      <td>-58.436449</td>\n",
       "      <td>1200000.0</td>\n",
       "      <td>532.0</td>\n",
       "      <td>...</td>\n",
       "      <td>0</td>\n",
       "      <td>0</td>\n",
       "      <td>0</td>\n",
       "      <td>0</td>\n",
       "      <td>0</td>\n",
       "      <td>0</td>\n",
       "      <td>0</td>\n",
       "      <td>0</td>\n",
       "      <td>0</td>\n",
       "      <td>2255.639098</td>\n",
       "    </tr>\n",
       "    <tr>\n",
       "      <th>3</th>\n",
       "      <td>25</td>\n",
       "      <td>2017-08-30</td>\n",
       "      <td>sell</td>\n",
       "      <td>0</td>\n",
       "      <td>|Argentina|Capital Federal|Palermo|Palermo Soho|</td>\n",
       "      <td>-34.5897765,-58.428558</td>\n",
       "      <td>-34.589776</td>\n",
       "      <td>-58.428558</td>\n",
       "      <td>219000.0</td>\n",
       "      <td>72.0</td>\n",
       "      <td>...</td>\n",
       "      <td>0</td>\n",
       "      <td>0</td>\n",
       "      <td>0</td>\n",
       "      <td>0</td>\n",
       "      <td>0</td>\n",
       "      <td>0</td>\n",
       "      <td>0</td>\n",
       "      <td>0</td>\n",
       "      <td>0</td>\n",
       "      <td>3041.666667</td>\n",
       "    </tr>\n",
       "  </tbody>\n",
       "</table>\n",
       "<p>4 rows × 79 columns</p>\n",
       "</div>"
      ],
      "text/plain": [
       "   Unnamed: 0  created_on operation  property_type  \\\n",
       "0          18  2017-08-29      sell              1   \n",
       "1          20  2017-08-29      sell              1   \n",
       "2          22  2017-08-30      sell              2   \n",
       "3          25  2017-08-30      sell              0   \n",
       "\n",
       "                             place_with_parent_names  \\\n",
       "0                |Argentina|Capital Federal|Palermo|   \n",
       "1                |Argentina|Capital Federal|Palermo|   \n",
       "2  |Argentina|Capital Federal|Palermo|Palermo Hol...   \n",
       "3   |Argentina|Capital Federal|Palermo|Palermo Soho|   \n",
       "\n",
       "                        lat-lon        lat        lon  price_aprox_usd  \\\n",
       "0  -34.588912403,-58.4134942185 -34.588912 -58.413494         340000.0   \n",
       "1       -34.5950139,-58.4273915 -34.595014 -58.427392         180000.0   \n",
       "2       -34.5793535,-58.4364489 -34.579353 -58.436449        1200000.0   \n",
       "3        -34.5897765,-58.428558 -34.589776 -58.428558         219000.0   \n",
       "\n",
       "   surface_total_in_m2  ...  \\\n",
       "0                130.0  ...   \n",
       "1                 70.0  ...   \n",
       "2                532.0  ...   \n",
       "3                 72.0  ...   \n",
       "\n",
       "   place_with_parent_names_|Argentina|Capital Federal|Villa General Mitre|  \\\n",
       "0                                                  0                         \n",
       "1                                                  0                         \n",
       "2                                                  0                         \n",
       "3                                                  0                         \n",
       "\n",
       "   place_with_parent_names_|Argentina|Capital Federal|Villa Lugano|  \\\n",
       "0                                                  0                  \n",
       "1                                                  0                  \n",
       "2                                                  0                  \n",
       "3                                                  0                  \n",
       "\n",
       "   place_with_parent_names_|Argentina|Capital Federal|Villa Luro|  \\\n",
       "0                                                  0                \n",
       "1                                                  0                \n",
       "2                                                  0                \n",
       "3                                                  0                \n",
       "\n",
       "  place_with_parent_names_|Argentina|Capital Federal|Villa Ortuzar|  \\\n",
       "0                                                  0                  \n",
       "1                                                  0                  \n",
       "2                                                  0                  \n",
       "3                                                  0                  \n",
       "\n",
       "   place_with_parent_names_|Argentina|Capital Federal|Villa Pueyrredón|  \\\n",
       "0                                                  0                      \n",
       "1                                                  0                      \n",
       "2                                                  0                      \n",
       "3                                                  0                      \n",
       "\n",
       "   place_with_parent_names_|Argentina|Capital Federal|Villa Real|  \\\n",
       "0                                                  0                \n",
       "1                                                  0                \n",
       "2                                                  0                \n",
       "3                                                  0                \n",
       "\n",
       "   place_with_parent_names_|Argentina|Capital Federal|Villa Santa Rita|  \\\n",
       "0                                                  0                      \n",
       "1                                                  0                      \n",
       "2                                                  0                      \n",
       "3                                                  0                      \n",
       "\n",
       "   place_with_parent_names_|Argentina|Capital Federal|Villa Urquiza|  \\\n",
       "0                                                  0                   \n",
       "1                                                  0                   \n",
       "2                                                  0                   \n",
       "3                                                  0                   \n",
       "\n",
       "   place_with_parent_names_|Argentina|Capital Federal|Villa del Parque|  \\\n",
       "0                                                  0                      \n",
       "1                                                  0                      \n",
       "2                                                  0                      \n",
       "3                                                  0                      \n",
       "\n",
       "      price_m2  \n",
       "0  2615.384615  \n",
       "1  2571.428571  \n",
       "2  2255.639098  \n",
       "3  3041.666667  \n",
       "\n",
       "[4 rows x 79 columns]"
      ]
     },
     "execution_count": 3,
     "metadata": {},
     "output_type": "execute_result"
    }
   ],
   "source": [
    "df_prop.head(4)"
   ]
  },
  {
   "cell_type": "code",
   "execution_count": 24,
   "metadata": {},
   "outputs": [
    {
     "data": {
      "text/html": [
       "<div>\n",
       "<style scoped>\n",
       "    .dataframe tbody tr th:only-of-type {\n",
       "        vertical-align: middle;\n",
       "    }\n",
       "\n",
       "    .dataframe tbody tr th {\n",
       "        vertical-align: top;\n",
       "    }\n",
       "\n",
       "    .dataframe thead th {\n",
       "        text-align: right;\n",
       "    }\n",
       "</style>\n",
       "<table border=\"1\" class=\"dataframe\">\n",
       "  <thead>\n",
       "    <tr style=\"text-align: right;\">\n",
       "      <th></th>\n",
       "      <th>surface_total_in_m2</th>\n",
       "      <th>barrio_cod</th>\n",
       "      <th>property_type</th>\n",
       "      <th>rooms</th>\n",
       "      <th>surface_covered_in_m2</th>\n",
       "      <th>price_aprox_usd</th>\n",
       "    </tr>\n",
       "  </thead>\n",
       "  <tbody>\n",
       "    <tr>\n",
       "      <th>0</th>\n",
       "      <td>130.0</td>\n",
       "      <td>20</td>\n",
       "      <td>1</td>\n",
       "      <td>4.000000</td>\n",
       "      <td>120.0</td>\n",
       "      <td>340000.00</td>\n",
       "    </tr>\n",
       "    <tr>\n",
       "      <th>1</th>\n",
       "      <td>70.0</td>\n",
       "      <td>20</td>\n",
       "      <td>1</td>\n",
       "      <td>2.422019</td>\n",
       "      <td>70.0</td>\n",
       "      <td>180000.00</td>\n",
       "    </tr>\n",
       "    <tr>\n",
       "      <th>2</th>\n",
       "      <td>532.0</td>\n",
       "      <td>20</td>\n",
       "      <td>2</td>\n",
       "      <td>6.000000</td>\n",
       "      <td>334.0</td>\n",
       "      <td>1200000.00</td>\n",
       "    </tr>\n",
       "    <tr>\n",
       "      <th>3</th>\n",
       "      <td>72.0</td>\n",
       "      <td>20</td>\n",
       "      <td>0</td>\n",
       "      <td>3.000000</td>\n",
       "      <td>72.0</td>\n",
       "      <td>219000.00</td>\n",
       "    </tr>\n",
       "    <tr>\n",
       "      <th>4</th>\n",
       "      <td>40.0</td>\n",
       "      <td>20</td>\n",
       "      <td>1</td>\n",
       "      <td>1.000000</td>\n",
       "      <td>36.0</td>\n",
       "      <td>119124.77</td>\n",
       "    </tr>\n",
       "  </tbody>\n",
       "</table>\n",
       "</div>"
      ],
      "text/plain": [
       "   surface_total_in_m2  barrio_cod  property_type     rooms  \\\n",
       "0                130.0          20              1  4.000000   \n",
       "1                 70.0          20              1  2.422019   \n",
       "2                532.0          20              2  6.000000   \n",
       "3                 72.0          20              0  3.000000   \n",
       "4                 40.0          20              1  1.000000   \n",
       "\n",
       "   surface_covered_in_m2  price_aprox_usd  \n",
       "0                  120.0        340000.00  \n",
       "1                   70.0        180000.00  \n",
       "2                  334.0       1200000.00  \n",
       "3                   72.0        219000.00  \n",
       "4                   36.0        119124.77  "
      ]
     },
     "execution_count": 24,
     "metadata": {},
     "output_type": "execute_result"
    }
   ],
   "source": [
    "df_prop = df_prop[['surface_total_in_m2','barrio_cod','property_type','rooms','surface_covered_in_m2','price_aprox_usd']]\n",
    "df_prop.head()"
   ]
  },
  {
   "cell_type": "markdown",
   "metadata": {},
   "source": [
    "# Ejercicio 1: División de datos en conjuntos de entrenamiento y evaluación."
   ]
  },
  {
   "cell_type": "markdown",
   "metadata": {},
   "source": [
    "La primer tarea consiste en dividir el conjunto de datos cargados en el apartado anterior en conjuntos de entrenamiento (o training) y evaluación (o test)."
   ]
  },
  {
   "cell_type": "markdown",
   "metadata": {},
   "source": [
    "Se separa el set de datos tomando el 80% para entrenamiento y el 20% para validación"
   ]
  },
  {
   "cell_type": "code",
   "execution_count": 26,
   "metadata": {},
   "outputs": [],
   "source": [
    "#x es el conjunto de features\n",
    "X = df_prop.drop('price_aprox_usd', axis=1)\n",
    "\n",
    "#y es la columna target que se desea predecir\n",
    "y = df_prop.price_aprox_usd\n",
    "\n",
    "from sklearn.model_selection import train_test_split\n",
    "#Random state sirve para sembrar una \"Seed\" de como se distribuyen los datos para el algoritmo\n",
    "X_train, X_valid, y_train, y_valid = train_test_split(X, y, test_size=0.2, random_state=42)\n",
    "\n",
    "#x_train tiene el 80% de los features (x)\n",
    "#x_valid tiene el 20% de los features (xx)\n",
    "#y_train tiene el 80% de la columna de target (y)\n",
    "#y_valid tiene el 20% de la columna de target (yy)"
   ]
  },
  {
   "cell_type": "code",
   "execution_count": 27,
   "metadata": {
    "scrolled": true
   },
   "outputs": [
    {
     "data": {
      "text/html": [
       "<div>\n",
       "<style scoped>\n",
       "    .dataframe tbody tr th:only-of-type {\n",
       "        vertical-align: middle;\n",
       "    }\n",
       "\n",
       "    .dataframe tbody tr th {\n",
       "        vertical-align: top;\n",
       "    }\n",
       "\n",
       "    .dataframe thead th {\n",
       "        text-align: right;\n",
       "    }\n",
       "</style>\n",
       "<table border=\"1\" class=\"dataframe\">\n",
       "  <thead>\n",
       "    <tr style=\"text-align: right;\">\n",
       "      <th></th>\n",
       "      <th>surface_total_in_m2</th>\n",
       "      <th>barrio_cod</th>\n",
       "      <th>property_type</th>\n",
       "      <th>rooms</th>\n",
       "      <th>surface_covered_in_m2</th>\n",
       "    </tr>\n",
       "  </thead>\n",
       "  <tbody>\n",
       "    <tr>\n",
       "      <th>0</th>\n",
       "      <td>130.0</td>\n",
       "      <td>20</td>\n",
       "      <td>1</td>\n",
       "      <td>4.000000</td>\n",
       "      <td>120.0</td>\n",
       "    </tr>\n",
       "    <tr>\n",
       "      <th>1</th>\n",
       "      <td>70.0</td>\n",
       "      <td>20</td>\n",
       "      <td>1</td>\n",
       "      <td>2.422019</td>\n",
       "      <td>70.0</td>\n",
       "    </tr>\n",
       "    <tr>\n",
       "      <th>2</th>\n",
       "      <td>532.0</td>\n",
       "      <td>20</td>\n",
       "      <td>2</td>\n",
       "      <td>6.000000</td>\n",
       "      <td>334.0</td>\n",
       "    </tr>\n",
       "    <tr>\n",
       "      <th>3</th>\n",
       "      <td>72.0</td>\n",
       "      <td>20</td>\n",
       "      <td>0</td>\n",
       "      <td>3.000000</td>\n",
       "      <td>72.0</td>\n",
       "    </tr>\n",
       "  </tbody>\n",
       "</table>\n",
       "</div>"
      ],
      "text/plain": [
       "   surface_total_in_m2  barrio_cod  property_type     rooms  \\\n",
       "0                130.0          20              1  4.000000   \n",
       "1                 70.0          20              1  2.422019   \n",
       "2                532.0          20              2  6.000000   \n",
       "3                 72.0          20              0  3.000000   \n",
       "\n",
       "   surface_covered_in_m2  \n",
       "0                  120.0  \n",
       "1                   70.0  \n",
       "2                  334.0  \n",
       "3                   72.0  "
      ]
     },
     "execution_count": 27,
     "metadata": {},
     "output_type": "execute_result"
    }
   ],
   "source": [
    "X.head(4)"
   ]
  },
  {
   "cell_type": "code",
   "execution_count": 22,
   "metadata": {},
   "outputs": [
    {
     "data": {
      "text/plain": [
       "5433     93000.0\n",
       "755     126000.0\n",
       "291      87000.0\n",
       "5890    349250.0\n",
       "Name: price_aprox_usd, dtype: float64"
      ]
     },
     "execution_count": 22,
     "metadata": {},
     "output_type": "execute_result"
    }
   ],
   "source": [
    "y_train.head(4)"
   ]
  },
  {
   "cell_type": "markdown",
   "metadata": {},
   "source": [
    "# Ejercicio 2: Árboles de decisión."
   ]
  },
  {
   "cell_type": "markdown",
   "metadata": {},
   "source": [
    "Entrenar un arbol de decisión de regresión para predecir el precio de las propiedades en dolares, variando sus hiperparametros tales como la profundidad, función de coste, etc."
   ]
  },
  {
   "cell_type": "code",
   "execution_count": 28,
   "metadata": {
    "scrolled": false
   },
   "outputs": [
    {
     "data": {
      "text/html": [
       "<div>\n",
       "<style scoped>\n",
       "    .dataframe tbody tr th:only-of-type {\n",
       "        vertical-align: middle;\n",
       "    }\n",
       "\n",
       "    .dataframe tbody tr th {\n",
       "        vertical-align: top;\n",
       "    }\n",
       "\n",
       "    .dataframe thead th {\n",
       "        text-align: right;\n",
       "    }\n",
       "</style>\n",
       "<table border=\"1\" class=\"dataframe\">\n",
       "  <thead>\n",
       "    <tr style=\"text-align: right;\">\n",
       "      <th></th>\n",
       "      <th>surface_total_in_m2</th>\n",
       "      <th>barrio_cod</th>\n",
       "      <th>property_type</th>\n",
       "      <th>rooms</th>\n",
       "      <th>surface_covered_in_m2</th>\n",
       "    </tr>\n",
       "  </thead>\n",
       "  <tbody>\n",
       "    <tr>\n",
       "      <th>5433</th>\n",
       "      <td>31.0</td>\n",
       "      <td>47</td>\n",
       "      <td>1</td>\n",
       "      <td>1.0</td>\n",
       "      <td>29.0</td>\n",
       "    </tr>\n",
       "    <tr>\n",
       "      <th>755</th>\n",
       "      <td>40.0</td>\n",
       "      <td>20</td>\n",
       "      <td>1</td>\n",
       "      <td>2.0</td>\n",
       "      <td>40.0</td>\n",
       "    </tr>\n",
       "    <tr>\n",
       "      <th>291</th>\n",
       "      <td>30.0</td>\n",
       "      <td>20</td>\n",
       "      <td>1</td>\n",
       "      <td>2.0</td>\n",
       "      <td>30.0</td>\n",
       "    </tr>\n",
       "    <tr>\n",
       "      <th>5890</th>\n",
       "      <td>157.0</td>\n",
       "      <td>1</td>\n",
       "      <td>0</td>\n",
       "      <td>4.0</td>\n",
       "      <td>107.0</td>\n",
       "    </tr>\n",
       "  </tbody>\n",
       "</table>\n",
       "</div>"
      ],
      "text/plain": [
       "      surface_total_in_m2  barrio_cod  property_type  rooms  \\\n",
       "5433                 31.0          47              1    1.0   \n",
       "755                  40.0          20              1    2.0   \n",
       "291                  30.0          20              1    2.0   \n",
       "5890                157.0           1              0    4.0   \n",
       "\n",
       "      surface_covered_in_m2  \n",
       "5433                   29.0  \n",
       "755                    40.0  \n",
       "291                    30.0  \n",
       "5890                  107.0  "
      ]
     },
     "execution_count": 28,
     "metadata": {},
     "output_type": "execute_result"
    }
   ],
   "source": [
    "X_train.head(4)"
   ]
  },
  {
   "cell_type": "code",
   "execution_count": 36,
   "metadata": {
    "scrolled": true
   },
   "outputs": [
    {
     "name": "stdout",
     "output_type": "stream",
     "text": [
      "Fitting 3 folds for each of 1782 candidates, totalling 5346 fits\n"
     ]
    },
    {
     "name": "stderr",
     "output_type": "stream",
     "text": [
      "[Parallel(n_jobs=2)]: Using backend LokyBackend with 2 concurrent workers.\n",
      "[Parallel(n_jobs=2)]: Done 227 tasks      | elapsed:    3.4s\n",
      "[Parallel(n_jobs=2)]: Done 2464 tasks      | elapsed:  1.0min\n",
      "[Parallel(n_jobs=2)]: Done 3104 tasks      | elapsed:  1.9min\n"
     ]
    },
    {
     "name": "stdout",
     "output_type": "stream",
     "text": [
      "Mejor conjunto de parámetros:\n",
      "{'criterion': 'mse', 'max_depth': 10, 'max_features': 'auto', 'min_samples_leaf': 4, 'min_samples_split': 2, 'splitter': 'best'}\n",
      "\n",
      "Mejor Estimador:\n",
      "DecisionTreeRegressor(criterion='mse', max_depth=10, max_features='auto',\n",
      "                      max_leaf_nodes=None, min_impurity_decrease=0.0,\n",
      "                      min_impurity_split=None, min_samples_leaf=4,\n",
      "                      min_samples_split=2, min_weight_fraction_leaf=0.0,\n",
      "                      presort=False, random_state=42, splitter='best')\n",
      "\n",
      "Mejor Score:\n",
      "0.9473393840523733\n",
      "\n",
      "0.9776252732071621\n",
      "\n"
     ]
    },
    {
     "name": "stderr",
     "output_type": "stream",
     "text": [
      "[Parallel(n_jobs=2)]: Done 5346 out of 5346 | elapsed:  2.6min finished\n"
     ]
    }
   ],
   "source": [
    "from sklearn import tree\n",
    "from sklearn.metrics import accuracy_score\n",
    "from sklearn.model_selection import RandomizedSearchCV\n",
    "from sklearn.model_selection import GridSearchCV\n",
    "from sklearn.tree import DecisionTreeRegressor\n",
    "from sklearn.metrics import r2_score\n",
    "\n",
    "criterion = ['mse','mae','friedman_mse']\n",
    "splitter = ['best','random']\n",
    "# Number of features to consider at every split\n",
    "max_features = ['auto', 'sqrt','log2']\n",
    "# Maximum number of levels in tree\n",
    "max_depth = [int(x) for x in np.linspace(10, 110, num = 11)]\n",
    "max_depth.append(None)\n",
    "# Minimum number of samples required to split a node\n",
    "min_samples_split = [2, 5, 10]\n",
    "# Minimum number of samples required at each leaf node\n",
    "min_samples_leaf = [1, 2, 4]\n",
    "\n",
    "random_grid_dtr = {'criterion': criterion,\n",
    "               'splitter': splitter,\n",
    "               'max_features': max_features,\n",
    "               'max_depth': [10, 20, 30, 40, 50, 60, 70, 80, 90, 100, None],\n",
    "               'min_samples_split': min_samples_split,\n",
    "               'min_samples_leaf': min_samples_leaf}\n",
    "\n",
    "\n",
    "dtr=DecisionTreeRegressor(random_state=42)\n",
    "\n",
    "dtr_random = GridSearchCV(dtr, \n",
    "                          random_grid_dtr, \n",
    "                          cv = 3, \n",
    "                          scoring='explained_variance',\n",
    "                          verbose=3,\n",
    "                          n_jobs =2)\n",
    "\n",
    "# Fit the random search model\n",
    "dtr_random.fit(X_train, y_train)\n",
    "\n",
    "  \n",
    "print(\"Mejor conjunto de parámetros:\")\n",
    "print(dtr_random.best_params_, end=\"\\n\\n\")\n",
    "    \n",
    "print(\"Mejor Estimador:\")\n",
    "print(dtr_random.best_estimator_, end=\"\\n\\n\")\n",
    "    \n",
    "print(\"Mejor Score:\")\n",
    "print(dtr_random.best_score_, end=\"\\n\\n\")\n",
    "print(r2_score(y_train,dtr_random.predict(X_train)), end=\"\\n\\n\")\n",
    "\n",
    "\n"
   ]
  },
  {
   "cell_type": "code",
   "execution_count": 35,
   "metadata": {},
   "outputs": [
    {
     "data": {
      "text/plain": [
       "0.9776252732071621"
      ]
     },
     "execution_count": 35,
     "metadata": {},
     "output_type": "execute_result"
    }
   ],
   "source": [
    "from sklearn.metrics import r2_score\n",
    "r2_score(y_train,dtr_random.predict(X_train))\n"
   ]
  },
  {
   "cell_type": "code",
   "execution_count": 37,
   "metadata": {
    "scrolled": true
   },
   "outputs": [
    {
     "name": "stdout",
     "output_type": "stream",
     "text": [
      "Fitting 3 folds for each of 100 candidates, totalling 300 fits\n"
     ]
    },
    {
     "name": "stderr",
     "output_type": "stream",
     "text": [
      "[Parallel(n_jobs=-1)]: Using backend LokyBackend with 8 concurrent workers.\n",
      "[Parallel(n_jobs=-1)]: Done  25 tasks      | elapsed:   44.2s\n",
      "[Parallel(n_jobs=-1)]: Done 146 tasks      | elapsed:  3.9min\n",
      "[Parallel(n_jobs=-1)]: Done 300 out of 300 | elapsed:  8.0min finished\n"
     ]
    },
    {
     "name": "stdout",
     "output_type": "stream",
     "text": [
      "Mejor conjunto de parámetros:\n",
      "{'n_estimators': 1400, 'min_samples_split': 2, 'min_samples_leaf': 2, 'max_features': 'auto', 'max_depth': 70, 'bootstrap': True}\n",
      "\n",
      "Mejor Estimador:\n",
      "RandomForestRegressor(bootstrap=True, criterion='mse', max_depth=70,\n",
      "                      max_features='auto', max_leaf_nodes=None,\n",
      "                      min_impurity_decrease=0.0, min_impurity_split=None,\n",
      "                      min_samples_leaf=2, min_samples_split=2,\n",
      "                      min_weight_fraction_leaf=0.0, n_estimators=1400,\n",
      "                      n_jobs=None, oob_score=False, random_state=42, verbose=0,\n",
      "                      warm_start=False)\n",
      "\n",
      "Mejor Score:\n",
      "0.9596363416818664\n",
      "\n",
      "0.9885616272135812\n",
      "\n"
     ]
    }
   ],
   "source": [
    "from sklearn.ensemble import RandomForestRegressor\n",
    "from sklearn.model_selection import RandomizedSearchCV\n",
    "\n",
    "# Number of trees in random forest\n",
    "n_estimators = [int(x) for x in np.linspace(start = 200, stop = 2000, num = 10)]\n",
    "# Number of features to consider at every split\n",
    "max_features = ['auto', 'sqrt']\n",
    "# Maximum number of levels in tree\n",
    "max_depth = [int(x) for x in np.linspace(10, 110, num = 11)]\n",
    "max_depth.append(None)\n",
    "# Minimum number of samples required to split a node\n",
    "min_samples_split = [2, 5, 10]\n",
    "# Minimum number of samples required at each leaf node\n",
    "min_samples_leaf = [1, 2, 4]\n",
    "# Method of selecting samples for training each tree\n",
    "bootstrap = [True, False]\n",
    "# Create the random grid\n",
    "random_grid = {'n_estimators': n_estimators,\n",
    "               'max_features': max_features,\n",
    "               'max_depth': max_depth,\n",
    "               'min_samples_split': min_samples_split,\n",
    "               'min_samples_leaf': min_samples_leaf,\n",
    "               'bootstrap': bootstrap}\n",
    "\n",
    "# Use the random grid to search for best hyperparameters\n",
    "# First create the base model to tune\n",
    "rf = RandomForestRegressor(random_state = 42)\n",
    "# Random search of parameters, using 3 fold cross validation, \n",
    "# search across 100 different combinations, and use all available cores\n",
    "rf_random = RandomizedSearchCV(estimator = rf, param_distributions = random_grid, n_iter = 100, cv = 3, verbose=2, random_state=42, n_jobs = -1)\n",
    "# Fit the random search model\n",
    "rf_random.fit(X_train, y_train)\n",
    "\n",
    "\n",
    "print(\"Mejor conjunto de parámetros:\")\n",
    "print(rf_random.best_params_, end=\"\\n\\n\")\n",
    "    \n",
    "print(\"Mejor Estimador:\")\n",
    "print(rf_random.best_estimator_, end=\"\\n\\n\")\n",
    "    \n",
    "print(\"Mejor Score:\")\n",
    "print(rf_random.best_score_, end=\"\\n\\n\")\n",
    "print(r2_score(y_train,rf_random.predict(X_train)), end=\"\\n\\n\")\n"
   ]
  },
  {
   "cell_type": "code",
   "execution_count": 42,
   "metadata": {
    "scrolled": true
   },
   "outputs": [
    {
     "name": "stderr",
     "output_type": "stream",
     "text": [
      "C:\\Users\\maria.navarro\\AppData\\Local\\Continuum\\anaconda3\\lib\\site-packages\\sklearn\\model_selection\\_search.py:266: UserWarning: The total space of parameters 80 is smaller than n_iter=100. Running 80 iterations. For exhaustive searches, use GridSearchCV.\n",
      "  % (grid_size, self.n_iter, grid_size), UserWarning)\n",
      "[Parallel(n_jobs=-1)]: Using backend LokyBackend with 8 concurrent workers.\n"
     ]
    },
    {
     "name": "stdout",
     "output_type": "stream",
     "text": [
      "Fitting 3 folds for each of 80 candidates, totalling 240 fits\n"
     ]
    },
    {
     "name": "stderr",
     "output_type": "stream",
     "text": [
      "[Parallel(n_jobs=-1)]: Done  25 tasks      | elapsed:    5.4s\n",
      "[Parallel(n_jobs=-1)]: Done 146 tasks      | elapsed:    8.1s\n"
     ]
    },
    {
     "name": "stdout",
     "output_type": "stream",
     "text": [
      "Mejor conjunto de parámetros:\n",
      "{'n_estimators': 52, 'max_samples': 10, 'bootstrap': True}\n",
      "\n",
      "Mejor Estimador:\n",
      "BaggingRegressor(base_estimator=None, bootstrap=True, bootstrap_features=False,\n",
      "                 max_features=1.0, max_samples=10, n_estimators=52, n_jobs=None,\n",
      "                 oob_score=False, random_state=42, verbose=0, warm_start=False)\n",
      "\n",
      "Mejor Score:\n",
      "0.6658172322131308\n",
      "\n",
      "0.612024925373515\n",
      "\n"
     ]
    },
    {
     "name": "stderr",
     "output_type": "stream",
     "text": [
      "[Parallel(n_jobs=-1)]: Done 240 out of 240 | elapsed:   10.6s finished\n"
     ]
    }
   ],
   "source": [
    "from sklearn.ensemble import BaggingRegressor\n",
    "from sklearn.model_selection import RandomizedSearchCV\n",
    "\n",
    "# Number of trees in random forest\n",
    "n_estimators = [int(x) for x in np.linspace(start = 10, stop = 200, num = 10)]\n",
    "# Minimum number of samples required to split a node\n",
    "max_samples = [1,2, 5, 10]\n",
    "# Method of selecting samples for training each tree\n",
    "bootstrap = [True, False]\n",
    "# Create the random grid\n",
    "random_grid_br = {'n_estimators': n_estimators,\n",
    "               'max_samples': max_samples,\n",
    "               'bootstrap': bootstrap}\n",
    "\n",
    "# Use the random grid to search for best hyperparameters\n",
    "# First create the base model to tune\n",
    "br = BaggingRegressor(random_state = 42)\n",
    "# Random search of parameters, using 3 fold cross validation, \n",
    "# search across 100 different combinations, and use all available cores\n",
    "br_random = RandomizedSearchCV(estimator = br, param_distributions = random_grid_br, n_iter = 100, cv = 3, verbose=2, random_state=42, n_jobs = -1)\n",
    "# Fit the random search model\n",
    "br_random.fit(X_train, y_train)\n",
    "\n",
    "\n",
    "print(\"Mejor conjunto de parámetros:\")\n",
    "print(br_random.best_params_, end=\"\\n\\n\")\n",
    "    \n",
    "print(\"Mejor Estimador:\")\n",
    "print(br_random.best_estimator_, end=\"\\n\\n\")\n",
    "    \n",
    "print(\"Mejor Score:\")\n",
    "print(br_random.best_score_, end=\"\\n\\n\")\n",
    "print(r2_score(y_train,br_random.predict(X_train)), end=\"\\n\\n\")"
   ]
  },
  {
   "cell_type": "code",
   "execution_count": 43,
   "metadata": {},
   "outputs": [
    {
     "name": "stdout",
     "output_type": "stream",
     "text": [
      "Fitting 3 folds for each of 100 candidates, totalling 300 fits\n"
     ]
    },
    {
     "name": "stderr",
     "output_type": "stream",
     "text": [
      "[Parallel(n_jobs=-1)]: Using backend LokyBackend with 8 concurrent workers.\n",
      "[Parallel(n_jobs=-1)]: Done  25 tasks      | elapsed:   11.4s\n",
      "[Parallel(n_jobs=-1)]: Done 146 tasks      | elapsed: 24.2min\n",
      "[Parallel(n_jobs=-1)]: Done 300 out of 300 | elapsed: 63.0min finished\n"
     ]
    },
    {
     "name": "stdout",
     "output_type": "stream",
     "text": [
      "Mejor conjunto de parámetros:\n",
      "{'n_estimators': 600, 'min_samples_split': 5, 'min_samples_leaf': 2, 'max_features': 'auto', 'max_depth': 110, 'criterion': 'mse', 'bootstrap': False}\n",
      "\n",
      "Mejor Estimador:\n",
      "ExtraTreesRegressor(bootstrap=False, criterion='mse', max_depth=110,\n",
      "                    max_features='auto', max_leaf_nodes=None,\n",
      "                    min_impurity_decrease=0.0, min_impurity_split=None,\n",
      "                    min_samples_leaf=2, min_samples_split=5,\n",
      "                    min_weight_fraction_leaf=0.0, n_estimators=600, n_jobs=None,\n",
      "                    oob_score=False, random_state=42, verbose=0,\n",
      "                    warm_start=False)\n",
      "\n",
      "Mejor Score:\n",
      "0.9580962487707595\n",
      "\n",
      "0.9884365087753302\n",
      "\n"
     ]
    }
   ],
   "source": [
    "from sklearn.ensemble import ExtraTreesRegressor\n",
    "from sklearn.model_selection import RandomizedSearchCV\n",
    "\n",
    "# Number of trees in random forest\n",
    "n_estimators = [int(x) for x in np.linspace(start = 200, stop = 2000, num = 10)]\n",
    "criterion = ['mse','mae','friedman_mse']\n",
    "# Number of features to consider at every split\n",
    "max_features = ['auto', 'sqrt']\n",
    "# Maximum number of levels in tree\n",
    "max_depth = [int(x) for x in np.linspace(10, 110, num = 11)]\n",
    "max_depth.append(None)\n",
    "# Minimum number of samples required to split a node\n",
    "min_samples_split = [2, 5, 10]\n",
    "# Minimum number of samples required at each leaf node\n",
    "min_samples_leaf = [1, 2, 4]\n",
    "# Method of selecting samples for training each tree\n",
    "bootstrap = [True, False]\n",
    "# Create the random grid\n",
    "random_grid_etr = {'n_estimators': n_estimators,\n",
    "               'criterion': criterion,\n",
    "               'max_features': max_features,\n",
    "               'max_depth': max_depth,\n",
    "               'min_samples_split': min_samples_split,\n",
    "               'min_samples_leaf': min_samples_leaf,\n",
    "               'bootstrap': bootstrap}\n",
    "\n",
    "# Use the random grid to search for best hyperparameters\n",
    "# First create the base model to tune\n",
    "etr = ExtraTreesRegressor(random_state = 42)\n",
    "# Random search of parameters, using 3 fold cross validation, \n",
    "# search across 100 different combinations, and use all available cores\n",
    "etr_random = RandomizedSearchCV(estimator = etr, param_distributions = random_grid_etr, n_iter = 100, cv = 3, verbose=2, random_state=42, n_jobs = -1)\n",
    "# Fit the random search model\n",
    "etr_random.fit(X_train, y_train)\n",
    "\n",
    "\n",
    "print(\"Mejor conjunto de parámetros:\")\n",
    "print(etr_random.best_params_, end=\"\\n\\n\")\n",
    "    \n",
    "print(\"Mejor Estimador:\")\n",
    "print(etr_random.best_estimator_, end=\"\\n\\n\")\n",
    "    \n",
    "print(\"Mejor Score:\")\n",
    "print(etr_random.best_score_, end=\"\\n\\n\")\n",
    "print(r2_score(y_train,etr_random.predict(X_train)), end=\"\\n\\n\")"
   ]
  },
  {
   "cell_type": "markdown",
   "metadata": {},
   "source": [
    "# Ejercicio 3: Métricas sobre el conjunto de evaluación."
   ]
  },
  {
   "cell_type": "markdown",
   "metadata": {},
   "source": [
    "Análizar como varia la función de coste según se modifican los hiperparametros, i.e, la profundidad de los mismos, etc.\n",
    "\n",
    "Graficar los valores de la función costo en ambos conjuntos, de entrenamiento (o training) y evaluación (o test)."
   ]
  },
  {
   "cell_type": "markdown",
   "metadata": {},
   "source": [
    "# Ejercicio 4: Realizar lo mismo ahora con un modelo de KNN"
   ]
  },
  {
   "cell_type": "markdown",
   "metadata": {},
   "source": [
    "Entrenar un KNN y analizar su comportamiento como en el modelo anterior."
   ]
  },
  {
   "cell_type": "markdown",
   "metadata": {},
   "source": [
    "# Informe final"
   ]
  },
  {
   "cell_type": "markdown",
   "metadata": {},
   "source": [
    "Presentar un informe final con los datos inferidos del dataset utilizando herramientas gráficas y escritas teniendo en cuenta los destinatarios. En este caso colegas de la diplomatura para preparar el informe con un background adecuado al destinatario."
   ]
  }
 ],
 "metadata": {
  "kernelspec": {
   "display_name": "Python 3",
   "language": "python",
   "name": "python3"
  },
  "language_info": {
   "codemirror_mode": {
    "name": "ipython",
    "version": 3
   },
   "file_extension": ".py",
   "mimetype": "text/x-python",
   "name": "python",
   "nbconvert_exporter": "python",
   "pygments_lexer": "ipython3",
   "version": "3.7.3"
  }
 },
 "nbformat": 4,
 "nbformat_minor": 2
}
