{
 "cells": [
  {
   "cell_type": "markdown",
   "metadata": {},
   "source": [
    "# Proyecto: Análisis del mercado inmobiliario de la Ciudad de Buenos Aires"
   ]
  },
  {
   "cell_type": "markdown",
   "metadata": {},
   "source": [
    "Mentor: Javier Lezama."
   ]
  },
  {
   "cell_type": "markdown",
   "metadata": {},
   "source": [
    "javitolez@gmail.com"
   ]
  },
  {
   "cell_type": "markdown",
   "metadata": {},
   "source": [
    "En este proyecto vamos a trabajar con un dataset de propiedades en venta publicadas en el portal www.Properati.com.ar."
   ]
  },
  {
   "cell_type": "markdown",
   "metadata": {},
   "source": [
    "# El dataset: propiedades en venta en Ciudad de Buenos Aires."
   ]
  },
  {
   "cell_type": "markdown",
   "metadata": {},
   "source": [
    "En este proyecto, trabajaremos con una muestra del conjunto de datos de propiedades en venta mencionado. En este dataset, cada fila es una propiedad en venta. \n",
    "\n",
    "#Los atributos\n",
    "\n",
    "A continuación vamos a describir los atributos que consideramos en esta muestra:\n",
    "* id: id de la propiedad\n",
    "* created_on: fecha en la que la propiedad ingresó al sitio\n",
    "* operation: alquiler (rent) o venta (sell)\n",
    "* property_type: tipo de propiedad (casa, departamento, ph, etcétera)\n",
    "* place_with_parent_names: nombre del lugar donde se encuentra la propiedad según el publicador\n",
    "* lat-lon: coordenadas concatenadas\n",
    "* lat: latitud\n",
    "* lon: longitud\n",
    "* price: precio en la moneda especificada en currency\n",
    "* currency: divisa en la que está expresada la publicación\n",
    "* price_aprox_usd: precio aproximado en dólares estadounidenses\n",
    "* surface_total_in_m2: superficie total (en metros cuadrados)\n",
    "* surface_covered_in_m2: superficie cubierta (en metros cuadrados)\n",
    "* price_usd_per_m2: precio por metro cuadrado en dólares (precio dólares / superficie)\n",
    "* floor: número de piso (si corresponde)\n",
    "* rooms: cantidad de ambientes\n",
    "* expenses: expensas (si corresponde)\n",
    "* barrio: barrio según cartografía oficial\n",
    "* properati_url: url de la publicación en Properati"
   ]
  },
  {
   "cell_type": "markdown",
   "metadata": {},
   "source": [
    "Objetivos del practico introducción al aprendizaje automático:\n",
    "\n",
    "El objetivo de este practico es trabajar con el mismo dateset trabajado en el práctico dos, específicamente el objetivo es que se introduzcan en el desarrollo de un esquema para hacer tareas de aprendizaje automático: selección de un modelo, ajuste de hiperparámetros y evaluación.\n",
    "\n",
    "Para eso trabajaremos con el dataset resultante del practico dos para armar nuestros primeros modelos para predecir el precio de las propiedades en dólares."
   ]
  },
  {
   "cell_type": "markdown",
   "metadata": {},
   "source": [
    "# Manos a la obra"
   ]
  },
  {
   "cell_type": "markdown",
   "metadata": {},
   "source": [
    "Partiremos con el dataset resultante del práctico dos. El práctico está basado en el práctico final de la materia introducción al aprendizaje automatico del año 2018."
   ]
  },
  {
   "cell_type": "code",
   "execution_count": 115,
   "metadata": {},
   "outputs": [],
   "source": [
    "import matplotlib.pyplot as plt\n",
    "import numpy as np\n",
    "import pandas as pd\n",
    "import seaborn as sns\n",
    "\n",
    "from matplotlib.colors import ListedColormap\n",
    "from sklearn.datasets import load_boston, load_breast_cancer, load_iris\n",
    "from sklearn.linear_model import LinearRegression, LogisticRegression, Perceptron, Ridge\n",
    "from sklearn.metrics import accuracy_score, confusion_matrix, mean_squared_error\n",
    "from sklearn.preprocessing import PolynomialFeatures\n",
    "\n",
    "np.random.seed(1234)  # Setup seed to be more deterministic\n",
    "\n",
    "%matplotlib inline"
   ]
  },
  {
   "cell_type": "code",
   "execution_count": 116,
   "metadata": {},
   "outputs": [
    {
     "name": "stdout",
     "output_type": "stream",
     "text": [
      "<class 'pandas.core.frame.DataFrame'>\n",
      "RangeIndex: 7716 entries, 0 to 7715\n",
      "Data columns (total 79 columns):\n",
      "Unnamed: 0                                                                       7716 non-null int64\n",
      "created_on                                                                       7716 non-null object\n",
      "operation                                                                        7716 non-null object\n",
      "property_type                                                                    7716 non-null int64\n",
      "place_with_parent_names                                                          7716 non-null object\n",
      "lat-lon                                                                          7716 non-null object\n",
      "lat                                                                              7716 non-null float64\n",
      "lon                                                                              7716 non-null float64\n",
      "price_aprox_usd                                                                  7716 non-null float64\n",
      "surface_total_in_m2                                                              7716 non-null float64\n",
      "surface_covered_in_m2                                                            7716 non-null float64\n",
      "price_usd_per_m2                                                                 7716 non-null float64\n",
      "rooms                                                                            7716 non-null float64\n",
      "properati_url                                                                    7716 non-null object\n",
      "comuna                                                                           7716 non-null float64\n",
      "barrio_cod                                                                       7716 non-null int64\n",
      "rooms_mean                                                                       7716 non-null float64\n",
      "operation_sell                                                                   7716 non-null int64\n",
      "place_with_parent_names_|Argentina|Capital Federal|                              7716 non-null int64\n",
      "place_with_parent_names_|Argentina|Capital Federal|Abasto|                       7716 non-null int64\n",
      "place_with_parent_names_|Argentina|Capital Federal|Agronomía|                    7716 non-null int64\n",
      "place_with_parent_names_|Argentina|Capital Federal|Almagro|                      7716 non-null int64\n",
      "place_with_parent_names_|Argentina|Capital Federal|Balvanera|                    7716 non-null int64\n",
      "place_with_parent_names_|Argentina|Capital Federal|Barracas|                     7716 non-null int64\n",
      "place_with_parent_names_|Argentina|Capital Federal|Barrio Norte|                 7716 non-null int64\n",
      "place_with_parent_names_|Argentina|Capital Federal|Belgrano|                     7716 non-null int64\n",
      "place_with_parent_names_|Argentina|Capital Federal|Boca|                         7716 non-null int64\n",
      "place_with_parent_names_|Argentina|Capital Federal|Boedo|                        7716 non-null int64\n",
      "place_with_parent_names_|Argentina|Capital Federal|Caballito|                    7716 non-null int64\n",
      "place_with_parent_names_|Argentina|Capital Federal|Catalinas|                    7716 non-null int64\n",
      "place_with_parent_names_|Argentina|Capital Federal|Centro / Microcentro|         7716 non-null int64\n",
      "place_with_parent_names_|Argentina|Capital Federal|Chacarita|                    7716 non-null int64\n",
      "place_with_parent_names_|Argentina|Capital Federal|Coghlan|                      7716 non-null int64\n",
      "place_with_parent_names_|Argentina|Capital Federal|Colegiales|                   7716 non-null int64\n",
      "place_with_parent_names_|Argentina|Capital Federal|Congreso|                     7716 non-null int64\n",
      "place_with_parent_names_|Argentina|Capital Federal|Constitución|                 7716 non-null int64\n",
      "place_with_parent_names_|Argentina|Capital Federal|Floresta|                     7716 non-null int64\n",
      "place_with_parent_names_|Argentina|Capital Federal|Flores|                       7716 non-null int64\n",
      "place_with_parent_names_|Argentina|Capital Federal|Las Cañitas|                  7716 non-null int64\n",
      "place_with_parent_names_|Argentina|Capital Federal|Liniers|                      7716 non-null int64\n",
      "place_with_parent_names_|Argentina|Capital Federal|Mataderos|                    7716 non-null int64\n",
      "place_with_parent_names_|Argentina|Capital Federal|Monserrat|                    7716 non-null int64\n",
      "place_with_parent_names_|Argentina|Capital Federal|Monte Castro|                 7716 non-null int64\n",
      "place_with_parent_names_|Argentina|Capital Federal|Nuñez|                        7716 non-null int64\n",
      "place_with_parent_names_|Argentina|Capital Federal|Once|                         7716 non-null int64\n",
      "place_with_parent_names_|Argentina|Capital Federal|Palermo|                      7716 non-null int64\n",
      "place_with_parent_names_|Argentina|Capital Federal|Palermo|Palermo Chico|        7716 non-null int64\n",
      "place_with_parent_names_|Argentina|Capital Federal|Palermo|Palermo Hollywood|    7716 non-null int64\n",
      "place_with_parent_names_|Argentina|Capital Federal|Palermo|Palermo Soho|         7716 non-null int64\n",
      "place_with_parent_names_|Argentina|Capital Federal|Palermo|Palermo Viejo|        7716 non-null int64\n",
      "place_with_parent_names_|Argentina|Capital Federal|Parque Avellaneda|            7716 non-null int64\n",
      "place_with_parent_names_|Argentina|Capital Federal|Parque Centenario|            7716 non-null int64\n",
      "place_with_parent_names_|Argentina|Capital Federal|Parque Chacabuco|             7716 non-null int64\n",
      "place_with_parent_names_|Argentina|Capital Federal|Parque Chas|                  7716 non-null int64\n",
      "place_with_parent_names_|Argentina|Capital Federal|Parque Patricios|             7716 non-null int64\n",
      "place_with_parent_names_|Argentina|Capital Federal|Paternal|                     7716 non-null int64\n",
      "place_with_parent_names_|Argentina|Capital Federal|Pompeya|                      7716 non-null int64\n",
      "place_with_parent_names_|Argentina|Capital Federal|Puerto Madero|                7716 non-null int64\n",
      "place_with_parent_names_|Argentina|Capital Federal|Recoleta|                     7716 non-null int64\n",
      "place_with_parent_names_|Argentina|Capital Federal|Retiro|                       7716 non-null int64\n",
      "place_with_parent_names_|Argentina|Capital Federal|Saavedra|                     7716 non-null int64\n",
      "place_with_parent_names_|Argentina|Capital Federal|San Cristobal|                7716 non-null int64\n",
      "place_with_parent_names_|Argentina|Capital Federal|San Nicolás|                  7716 non-null int64\n",
      "place_with_parent_names_|Argentina|Capital Federal|San Telmo|                    7716 non-null int64\n",
      "place_with_parent_names_|Argentina|Capital Federal|Tribunales|                   7716 non-null int64\n",
      "place_with_parent_names_|Argentina|Capital Federal|Velez Sarsfield|              7716 non-null int64\n",
      "place_with_parent_names_|Argentina|Capital Federal|Versalles|                    7716 non-null int64\n",
      "place_with_parent_names_|Argentina|Capital Federal|Villa Crespo|                 7716 non-null int64\n",
      "place_with_parent_names_|Argentina|Capital Federal|Villa Devoto|                 7716 non-null int64\n",
      "place_with_parent_names_|Argentina|Capital Federal|Villa General Mitre|          7716 non-null int64\n",
      "place_with_parent_names_|Argentina|Capital Federal|Villa Lugano|                 7716 non-null int64\n",
      "place_with_parent_names_|Argentina|Capital Federal|Villa Luro|                   7716 non-null int64\n",
      "place_with_parent_names_|Argentina|Capital Federal|Villa Ortuzar|                7716 non-null int64\n",
      "place_with_parent_names_|Argentina|Capital Federal|Villa Pueyrredón|             7716 non-null int64\n",
      "place_with_parent_names_|Argentina|Capital Federal|Villa Real|                   7716 non-null int64\n",
      "place_with_parent_names_|Argentina|Capital Federal|Villa Santa Rita|             7716 non-null int64\n",
      "place_with_parent_names_|Argentina|Capital Federal|Villa Urquiza|                7716 non-null int64\n",
      "place_with_parent_names_|Argentina|Capital Federal|Villa del Parque|             7716 non-null int64\n",
      "price_m2                                                                         7716 non-null float64\n",
      "dtypes: float64(10), int64(64), object(5)\n",
      "memory usage: 4.7+ MB\n"
     ]
    }
   ],
   "source": [
    "df_prop = pd.read_csv('df_bin.csv')\n",
    "df_prop.info()"
   ]
  },
  {
   "cell_type": "markdown",
   "metadata": {},
   "source": [
    "# Ejercicio 1: División de datos en conjuntos de entrenamiento y evaluación."
   ]
  },
  {
   "cell_type": "markdown",
   "metadata": {},
   "source": [
    "La primer tarea consiste en dividir el conjunto de datos cargados en el apartado anterior en conjuntos de entrenamiento (o training) y evaluación (o test)."
   ]
  },
  {
   "cell_type": "markdown",
   "metadata": {},
   "source": [
    "Se define un dataframe con los features que se consideran importantes para la definición del precio de la propiedad"
   ]
  },
  {
   "cell_type": "code",
   "execution_count": 117,
   "metadata": {},
   "outputs": [
    {
     "data": {
      "text/html": [
       "<div>\n",
       "<style scoped>\n",
       "    .dataframe tbody tr th:only-of-type {\n",
       "        vertical-align: middle;\n",
       "    }\n",
       "\n",
       "    .dataframe tbody tr th {\n",
       "        vertical-align: top;\n",
       "    }\n",
       "\n",
       "    .dataframe thead th {\n",
       "        text-align: right;\n",
       "    }\n",
       "</style>\n",
       "<table border=\"1\" class=\"dataframe\">\n",
       "  <thead>\n",
       "    <tr style=\"text-align: right;\">\n",
       "      <th></th>\n",
       "      <th>surface_total_in_m2</th>\n",
       "      <th>barrio_cod</th>\n",
       "      <th>property_type</th>\n",
       "      <th>price_aprox_usd</th>\n",
       "    </tr>\n",
       "  </thead>\n",
       "  <tbody>\n",
       "    <tr>\n",
       "      <th>0</th>\n",
       "      <td>130.0</td>\n",
       "      <td>20</td>\n",
       "      <td>1</td>\n",
       "      <td>340000.00</td>\n",
       "    </tr>\n",
       "    <tr>\n",
       "      <th>1</th>\n",
       "      <td>70.0</td>\n",
       "      <td>20</td>\n",
       "      <td>1</td>\n",
       "      <td>180000.00</td>\n",
       "    </tr>\n",
       "    <tr>\n",
       "      <th>2</th>\n",
       "      <td>532.0</td>\n",
       "      <td>20</td>\n",
       "      <td>2</td>\n",
       "      <td>1200000.00</td>\n",
       "    </tr>\n",
       "    <tr>\n",
       "      <th>3</th>\n",
       "      <td>72.0</td>\n",
       "      <td>20</td>\n",
       "      <td>0</td>\n",
       "      <td>219000.00</td>\n",
       "    </tr>\n",
       "    <tr>\n",
       "      <th>4</th>\n",
       "      <td>40.0</td>\n",
       "      <td>20</td>\n",
       "      <td>1</td>\n",
       "      <td>119124.77</td>\n",
       "    </tr>\n",
       "  </tbody>\n",
       "</table>\n",
       "</div>"
      ],
      "text/plain": [
       "   surface_total_in_m2  barrio_cod  property_type  price_aprox_usd\n",
       "0                130.0          20              1        340000.00\n",
       "1                 70.0          20              1        180000.00\n",
       "2                532.0          20              2       1200000.00\n",
       "3                 72.0          20              0        219000.00\n",
       "4                 40.0          20              1        119124.77"
      ]
     },
     "execution_count": 117,
     "metadata": {},
     "output_type": "execute_result"
    }
   ],
   "source": [
    "df_prop_gt = df_prop[['surface_total_in_m2','barrio_cod','property_type','price_aprox_usd']]\n",
    "df_prop_gt.head()"
   ]
  },
  {
   "cell_type": "markdown",
   "metadata": {},
   "source": [
    "Se separa el set de datos tomando el 80% para entrenamiento y el 20% para validación"
   ]
  },
  {
   "cell_type": "code",
   "execution_count": 118,
   "metadata": {},
   "outputs": [],
   "source": [
    "#Utilizamos aproximadamente 90% de los datos para entrenamiento y 20% para validación\n",
    "#entradas = len(df_prop)\n",
    "#data_div = round(entradas*0.9)\n",
    "\n",
    "#shuff_data = np.random.permutation(506)\n",
    "#shuff_train = shuff_data[:data_div]\n",
    "#shuff_val = shuff_data[data_div:]\n",
    "\n",
    "X = df_prop_gt.drop('price_aprox_usd', axis=1)\n",
    "y = df_prop_gt.price_aprox_usd\n",
    "\n",
    "from sklearn.model_selection import train_test_split\n",
    "#Random state sirve para sembrar una \"Seed\" de como se distribuyen los datos para el algoritmo\n",
    "X_train, X_valid, y_train, y_valid = train_test_split(X, y, test_size=0.2, random_state=42)\n",
    "\n",
    "# Necesario para poder hacer un regresor por feature\n",
    "#features_names = df_prop.columns\n",
    "#feature_map = {feature: idx for idx, feature in enumerate(features_names)}"
   ]
  },
  {
   "cell_type": "markdown",
   "metadata": {},
   "source": [
    "\n",
    "# Ejercicio 2: Elección de un modelo de regresión."
   ]
  },
  {
   "cell_type": "markdown",
   "metadata": {},
   "source": [
    "https://gist.github.com/lprowell/81ab813d84096290c5a833a8c7731355"
   ]
  },
  {
   "cell_type": "markdown",
   "metadata": {},
   "source": [
    "Basándose en lo visto en el teórico escojan y justifiquen un modelo de aprendizaje automático de regresión, para predecir el precio de las propiedades en dólares. Selección de regulizador, selección de la función de coste, etc."
   ]
  },
  {
   "cell_type": "code",
   "execution_count": 119,
   "metadata": {},
   "outputs": [
    {
     "name": "stdout",
     "output_type": "stream",
     "text": [
      "Media del error cuadrado para entrenamiento: 1386185771.41\n"
     ]
    }
   ],
   "source": [
    "# Entrenamos un clasificador utilizando sólo ese atributo sobre el conjunto de entrenamiento (X_train, y_train)\n",
    "#model = LinearRegression()\n",
    "model = Ridge(alpha=0.01)\n",
    "model.fit(X_train, y_train)\n",
    "\n",
    "# Evaluamos el desempeño del clasificador utilizando la media del error cuadrado (MSE o mean squared error)\n",
    "# sobre el conjunto de datos de entrenamiento (X_train, y_train) y lo comparamos con el de validación (X_val, y_val)\n",
    "# Mientras más cercano a cero mejor\n",
    "print('Media del error cuadrado para entrenamiento: %.2f' % \n",
    "      mean_squared_error(y_train, model.predict(X_train)))\n",
    "#print('Media del error cuadrado para validación: %.2f' %\n",
    "#      mean_squared_error(yy, model.predict(XX)))"
   ]
  },
  {
   "cell_type": "markdown",
   "metadata": {},
   "source": [
    "# Ejercicio 3: Selección de hiperparámetros."
   ]
  },
  {
   "cell_type": "markdown",
   "metadata": {},
   "source": [
    "Utilizando búsqueda exhaustiva (grid search) con 5-fold cross-validation y utilizando como métrica el área bajo la curva de ROC (o ROC-AUC), hagan una selección de los mejores hiperparámetros para su conjunto de datos y el modelo que hayan elegido en el apartado anterior."
   ]
  },
  {
   "cell_type": "code",
   "execution_count": 93,
   "metadata": {},
   "outputs": [],
   "source": [
    "from sklearn.metrics import accuracy_score\n",
    "from sklearn.model_selection import GridSearchCV"
   ]
  },
  {
   "cell_type": "markdown",
   "metadata": {},
   "source": [
    "### GridSearchCV Regresión Lineal"
   ]
  },
  {
   "cell_type": "code",
   "execution_count": 122,
   "metadata": {},
   "outputs": [
    {
     "name": "stdout",
     "output_type": "stream",
     "text": [
      "Fitting 2 folds for each of 13 candidates, totalling 26 fits\n"
     ]
    },
    {
     "name": "stderr",
     "output_type": "stream",
     "text": [
      "[Parallel(n_jobs=1)]: Using backend SequentialBackend with 1 concurrent workers.\n",
      "[Parallel(n_jobs=1)]: Done  26 out of  26 | elapsed:    0.1s finished\n",
      "C:\\Users\\Gabriel H\\.conda\\envs\\diplodatos\\lib\\site-packages\\sklearn\\utils\\deprecation.py:125: FutureWarning: You are accessing a training score ('split0_train_score'), which will not be available by default any more in 0.21. If you need training scores, please set return_train_score=True\n",
      "  warnings.warn(*warn_args, **warn_kwargs)\n",
      "C:\\Users\\Gabriel H\\.conda\\envs\\diplodatos\\lib\\site-packages\\sklearn\\utils\\deprecation.py:125: FutureWarning: You are accessing a training score ('split1_train_score'), which will not be available by default any more in 0.21. If you need training scores, please set return_train_score=True\n",
      "  warnings.warn(*warn_args, **warn_kwargs)\n",
      "C:\\Users\\Gabriel H\\.conda\\envs\\diplodatos\\lib\\site-packages\\sklearn\\utils\\deprecation.py:125: FutureWarning: You are accessing a training score ('mean_train_score'), which will not be available by default any more in 0.21. If you need training scores, please set return_train_score=True\n",
      "  warnings.warn(*warn_args, **warn_kwargs)\n",
      "C:\\Users\\Gabriel H\\.conda\\envs\\diplodatos\\lib\\site-packages\\sklearn\\utils\\deprecation.py:125: FutureWarning: You are accessing a training score ('std_train_score'), which will not be available by default any more in 0.21. If you need training scores, please set return_train_score=True\n",
      "  warnings.warn(*warn_args, **warn_kwargs)\n"
     ]
    },
    {
     "data": {
      "text/html": [
       "<div>\n",
       "<style scoped>\n",
       "    .dataframe tbody tr th:only-of-type {\n",
       "        vertical-align: middle;\n",
       "    }\n",
       "\n",
       "    .dataframe tbody tr th {\n",
       "        vertical-align: top;\n",
       "    }\n",
       "\n",
       "    .dataframe thead th {\n",
       "        text-align: right;\n",
       "    }\n",
       "</style>\n",
       "<table border=\"1\" class=\"dataframe\">\n",
       "  <thead>\n",
       "    <tr style=\"text-align: right;\">\n",
       "      <th></th>\n",
       "      <th>mean_fit_time</th>\n",
       "      <th>std_fit_time</th>\n",
       "      <th>mean_score_time</th>\n",
       "      <th>std_score_time</th>\n",
       "      <th>param_alpha</th>\n",
       "      <th>params</th>\n",
       "      <th>split0_test_score</th>\n",
       "      <th>split1_test_score</th>\n",
       "      <th>mean_test_score</th>\n",
       "      <th>std_test_score</th>\n",
       "      <th>rank_test_score</th>\n",
       "      <th>split0_train_score</th>\n",
       "      <th>split1_train_score</th>\n",
       "      <th>mean_train_score</th>\n",
       "      <th>std_train_score</th>\n",
       "    </tr>\n",
       "  </thead>\n",
       "  <tbody>\n",
       "    <tr>\n",
       "      <th>0</th>\n",
       "      <td>0.003944</td>\n",
       "      <td>6.839037e-04</td>\n",
       "      <td>0.001618</td>\n",
       "      <td>0.000619</td>\n",
       "      <td>25</td>\n",
       "      <td>{'alpha': 25}</td>\n",
       "      <td>-1.309485e+09</td>\n",
       "      <td>-1.475591e+09</td>\n",
       "      <td>-1.392538e+09</td>\n",
       "      <td>8.305284e+07</td>\n",
       "      <td>13</td>\n",
       "      <td>-1.466884e+09</td>\n",
       "      <td>-1.301259e+09</td>\n",
       "      <td>-1.384071e+09</td>\n",
       "      <td>8.281262e+07</td>\n",
       "    </tr>\n",
       "    <tr>\n",
       "      <th>1</th>\n",
       "      <td>0.002894</td>\n",
       "      <td>2.894163e-03</td>\n",
       "      <td>0.003248</td>\n",
       "      <td>0.000762</td>\n",
       "      <td>10</td>\n",
       "      <td>{'alpha': 10}</td>\n",
       "      <td>-1.309486e+09</td>\n",
       "      <td>-1.475589e+09</td>\n",
       "      <td>-1.392538e+09</td>\n",
       "      <td>8.305164e+07</td>\n",
       "      <td>12</td>\n",
       "      <td>-1.466884e+09</td>\n",
       "      <td>-1.301259e+09</td>\n",
       "      <td>-1.384071e+09</td>\n",
       "      <td>8.281260e+07</td>\n",
       "    </tr>\n",
       "    <tr>\n",
       "      <th>2</th>\n",
       "      <td>0.001553</td>\n",
       "      <td>5.550385e-04</td>\n",
       "      <td>0.003906</td>\n",
       "      <td>0.000104</td>\n",
       "      <td>4</td>\n",
       "      <td>{'alpha': 4}</td>\n",
       "      <td>-1.309486e+09</td>\n",
       "      <td>-1.475589e+09</td>\n",
       "      <td>-1.392538e+09</td>\n",
       "      <td>8.305115e+07</td>\n",
       "      <td>11</td>\n",
       "      <td>-1.466884e+09</td>\n",
       "      <td>-1.301259e+09</td>\n",
       "      <td>-1.384071e+09</td>\n",
       "      <td>8.281260e+07</td>\n",
       "    </tr>\n",
       "    <tr>\n",
       "      <th>3</th>\n",
       "      <td>0.004162</td>\n",
       "      <td>1.666546e-04</td>\n",
       "      <td>0.002495</td>\n",
       "      <td>0.001499</td>\n",
       "      <td>2</td>\n",
       "      <td>{'alpha': 2}</td>\n",
       "      <td>-1.309487e+09</td>\n",
       "      <td>-1.475589e+09</td>\n",
       "      <td>-1.392538e+09</td>\n",
       "      <td>8.305098e+07</td>\n",
       "      <td>10</td>\n",
       "      <td>-1.466884e+09</td>\n",
       "      <td>-1.301259e+09</td>\n",
       "      <td>-1.384071e+09</td>\n",
       "      <td>8.281260e+07</td>\n",
       "    </tr>\n",
       "    <tr>\n",
       "      <th>4</th>\n",
       "      <td>0.003614</td>\n",
       "      <td>1.620173e-03</td>\n",
       "      <td>0.002523</td>\n",
       "      <td>0.001526</td>\n",
       "      <td>1</td>\n",
       "      <td>{'alpha': 1.0}</td>\n",
       "      <td>-1.309487e+09</td>\n",
       "      <td>-1.475588e+09</td>\n",
       "      <td>-1.392538e+09</td>\n",
       "      <td>8.305090e+07</td>\n",
       "      <td>9</td>\n",
       "      <td>-1.466884e+09</td>\n",
       "      <td>-1.301259e+09</td>\n",
       "      <td>-1.384071e+09</td>\n",
       "      <td>8.281260e+07</td>\n",
       "    </tr>\n",
       "    <tr>\n",
       "      <th>5</th>\n",
       "      <td>0.002587</td>\n",
       "      <td>1.589537e-03</td>\n",
       "      <td>0.000580</td>\n",
       "      <td>0.000580</td>\n",
       "      <td>0.8</td>\n",
       "      <td>{'alpha': 0.8}</td>\n",
       "      <td>-1.309487e+09</td>\n",
       "      <td>-1.475588e+09</td>\n",
       "      <td>-1.392538e+09</td>\n",
       "      <td>8.305089e+07</td>\n",
       "      <td>8</td>\n",
       "      <td>-1.466884e+09</td>\n",
       "      <td>-1.301259e+09</td>\n",
       "      <td>-1.384071e+09</td>\n",
       "      <td>8.281260e+07</td>\n",
       "    </tr>\n",
       "    <tr>\n",
       "      <th>6</th>\n",
       "      <td>0.003544</td>\n",
       "      <td>4.632473e-04</td>\n",
       "      <td>0.002497</td>\n",
       "      <td>0.001499</td>\n",
       "      <td>0.5</td>\n",
       "      <td>{'alpha': 0.5}</td>\n",
       "      <td>-1.309487e+09</td>\n",
       "      <td>-1.475588e+09</td>\n",
       "      <td>-1.392538e+09</td>\n",
       "      <td>8.305086e+07</td>\n",
       "      <td>7</td>\n",
       "      <td>-1.466884e+09</td>\n",
       "      <td>-1.301259e+09</td>\n",
       "      <td>-1.384071e+09</td>\n",
       "      <td>8.281260e+07</td>\n",
       "    </tr>\n",
       "    <tr>\n",
       "      <th>7</th>\n",
       "      <td>0.003995</td>\n",
       "      <td>2.384186e-07</td>\n",
       "      <td>0.004068</td>\n",
       "      <td>0.000074</td>\n",
       "      <td>0.3</td>\n",
       "      <td>{'alpha': 0.3}</td>\n",
       "      <td>-1.309487e+09</td>\n",
       "      <td>-1.475588e+09</td>\n",
       "      <td>-1.392538e+09</td>\n",
       "      <td>8.305084e+07</td>\n",
       "      <td>6</td>\n",
       "      <td>-1.466884e+09</td>\n",
       "      <td>-1.301259e+09</td>\n",
       "      <td>-1.384071e+09</td>\n",
       "      <td>8.281260e+07</td>\n",
       "    </tr>\n",
       "    <tr>\n",
       "      <th>8</th>\n",
       "      <td>0.004001</td>\n",
       "      <td>3.933907e-06</td>\n",
       "      <td>0.000000</td>\n",
       "      <td>0.000000</td>\n",
       "      <td>0.2</td>\n",
       "      <td>{'alpha': 0.2}</td>\n",
       "      <td>-1.309487e+09</td>\n",
       "      <td>-1.475588e+09</td>\n",
       "      <td>-1.392538e+09</td>\n",
       "      <td>8.305084e+07</td>\n",
       "      <td>5</td>\n",
       "      <td>-1.466884e+09</td>\n",
       "      <td>-1.301259e+09</td>\n",
       "      <td>-1.384071e+09</td>\n",
       "      <td>8.281260e+07</td>\n",
       "    </tr>\n",
       "    <tr>\n",
       "      <th>9</th>\n",
       "      <td>0.003590</td>\n",
       "      <td>4.153252e-04</td>\n",
       "      <td>0.000726</td>\n",
       "      <td>0.000726</td>\n",
       "      <td>0.1</td>\n",
       "      <td>{'alpha': 0.1}</td>\n",
       "      <td>-1.309487e+09</td>\n",
       "      <td>-1.475588e+09</td>\n",
       "      <td>-1.392538e+09</td>\n",
       "      <td>8.305083e+07</td>\n",
       "      <td>4</td>\n",
       "      <td>-1.466884e+09</td>\n",
       "      <td>-1.301259e+09</td>\n",
       "      <td>-1.384071e+09</td>\n",
       "      <td>8.281260e+07</td>\n",
       "    </tr>\n",
       "    <tr>\n",
       "      <th>10</th>\n",
       "      <td>0.004098</td>\n",
       "      <td>8.988380e-05</td>\n",
       "      <td>0.000499</td>\n",
       "      <td>0.000499</td>\n",
       "      <td>0.05</td>\n",
       "      <td>{'alpha': 0.05}</td>\n",
       "      <td>-1.309487e+09</td>\n",
       "      <td>-1.475588e+09</td>\n",
       "      <td>-1.392538e+09</td>\n",
       "      <td>8.305082e+07</td>\n",
       "      <td>3</td>\n",
       "      <td>-1.466884e+09</td>\n",
       "      <td>-1.301259e+09</td>\n",
       "      <td>-1.384071e+09</td>\n",
       "      <td>8.281260e+07</td>\n",
       "    </tr>\n",
       "    <tr>\n",
       "      <th>11</th>\n",
       "      <td>0.004834</td>\n",
       "      <td>5.636215e-04</td>\n",
       "      <td>0.000499</td>\n",
       "      <td>0.000499</td>\n",
       "      <td>0.02</td>\n",
       "      <td>{'alpha': 0.02}</td>\n",
       "      <td>-1.309487e+09</td>\n",
       "      <td>-1.475588e+09</td>\n",
       "      <td>-1.392538e+09</td>\n",
       "      <td>8.305082e+07</td>\n",
       "      <td>2</td>\n",
       "      <td>-1.466884e+09</td>\n",
       "      <td>-1.301259e+09</td>\n",
       "      <td>-1.384071e+09</td>\n",
       "      <td>8.281260e+07</td>\n",
       "    </tr>\n",
       "    <tr>\n",
       "      <th>12</th>\n",
       "      <td>0.004647</td>\n",
       "      <td>6.554127e-04</td>\n",
       "      <td>0.001026</td>\n",
       "      <td>0.001026</td>\n",
       "      <td>0.01</td>\n",
       "      <td>{'alpha': 0.01}</td>\n",
       "      <td>-1.309487e+09</td>\n",
       "      <td>-1.475588e+09</td>\n",
       "      <td>-1.392538e+09</td>\n",
       "      <td>8.305082e+07</td>\n",
       "      <td>1</td>\n",
       "      <td>-1.466884e+09</td>\n",
       "      <td>-1.301259e+09</td>\n",
       "      <td>-1.384071e+09</td>\n",
       "      <td>8.281260e+07</td>\n",
       "    </tr>\n",
       "  </tbody>\n",
       "</table>\n",
       "</div>"
      ],
      "text/plain": [
       "    mean_fit_time  std_fit_time  mean_score_time  std_score_time param_alpha  \\\n",
       "0        0.003944  6.839037e-04         0.001618        0.000619          25   \n",
       "1        0.002894  2.894163e-03         0.003248        0.000762          10   \n",
       "2        0.001553  5.550385e-04         0.003906        0.000104           4   \n",
       "3        0.004162  1.666546e-04         0.002495        0.001499           2   \n",
       "4        0.003614  1.620173e-03         0.002523        0.001526           1   \n",
       "5        0.002587  1.589537e-03         0.000580        0.000580         0.8   \n",
       "6        0.003544  4.632473e-04         0.002497        0.001499         0.5   \n",
       "7        0.003995  2.384186e-07         0.004068        0.000074         0.3   \n",
       "8        0.004001  3.933907e-06         0.000000        0.000000         0.2   \n",
       "9        0.003590  4.153252e-04         0.000726        0.000726         0.1   \n",
       "10       0.004098  8.988380e-05         0.000499        0.000499        0.05   \n",
       "11       0.004834  5.636215e-04         0.000499        0.000499        0.02   \n",
       "12       0.004647  6.554127e-04         0.001026        0.001026        0.01   \n",
       "\n",
       "             params  split0_test_score  split1_test_score  mean_test_score  \\\n",
       "0     {'alpha': 25}      -1.309485e+09      -1.475591e+09    -1.392538e+09   \n",
       "1     {'alpha': 10}      -1.309486e+09      -1.475589e+09    -1.392538e+09   \n",
       "2      {'alpha': 4}      -1.309486e+09      -1.475589e+09    -1.392538e+09   \n",
       "3      {'alpha': 2}      -1.309487e+09      -1.475589e+09    -1.392538e+09   \n",
       "4    {'alpha': 1.0}      -1.309487e+09      -1.475588e+09    -1.392538e+09   \n",
       "5    {'alpha': 0.8}      -1.309487e+09      -1.475588e+09    -1.392538e+09   \n",
       "6    {'alpha': 0.5}      -1.309487e+09      -1.475588e+09    -1.392538e+09   \n",
       "7    {'alpha': 0.3}      -1.309487e+09      -1.475588e+09    -1.392538e+09   \n",
       "8    {'alpha': 0.2}      -1.309487e+09      -1.475588e+09    -1.392538e+09   \n",
       "9    {'alpha': 0.1}      -1.309487e+09      -1.475588e+09    -1.392538e+09   \n",
       "10  {'alpha': 0.05}      -1.309487e+09      -1.475588e+09    -1.392538e+09   \n",
       "11  {'alpha': 0.02}      -1.309487e+09      -1.475588e+09    -1.392538e+09   \n",
       "12  {'alpha': 0.01}      -1.309487e+09      -1.475588e+09    -1.392538e+09   \n",
       "\n",
       "    std_test_score  rank_test_score  split0_train_score  split1_train_score  \\\n",
       "0     8.305284e+07               13       -1.466884e+09       -1.301259e+09   \n",
       "1     8.305164e+07               12       -1.466884e+09       -1.301259e+09   \n",
       "2     8.305115e+07               11       -1.466884e+09       -1.301259e+09   \n",
       "3     8.305098e+07               10       -1.466884e+09       -1.301259e+09   \n",
       "4     8.305090e+07                9       -1.466884e+09       -1.301259e+09   \n",
       "5     8.305089e+07                8       -1.466884e+09       -1.301259e+09   \n",
       "6     8.305086e+07                7       -1.466884e+09       -1.301259e+09   \n",
       "7     8.305084e+07                6       -1.466884e+09       -1.301259e+09   \n",
       "8     8.305084e+07                5       -1.466884e+09       -1.301259e+09   \n",
       "9     8.305083e+07                4       -1.466884e+09       -1.301259e+09   \n",
       "10    8.305082e+07                3       -1.466884e+09       -1.301259e+09   \n",
       "11    8.305082e+07                2       -1.466884e+09       -1.301259e+09   \n",
       "12    8.305082e+07                1       -1.466884e+09       -1.301259e+09   \n",
       "\n",
       "    mean_train_score  std_train_score  \n",
       "0      -1.384071e+09     8.281262e+07  \n",
       "1      -1.384071e+09     8.281260e+07  \n",
       "2      -1.384071e+09     8.281260e+07  \n",
       "3      -1.384071e+09     8.281260e+07  \n",
       "4      -1.384071e+09     8.281260e+07  \n",
       "5      -1.384071e+09     8.281260e+07  \n",
       "6      -1.384071e+09     8.281260e+07  \n",
       "7      -1.384071e+09     8.281260e+07  \n",
       "8      -1.384071e+09     8.281260e+07  \n",
       "9      -1.384071e+09     8.281260e+07  \n",
       "10     -1.384071e+09     8.281260e+07  \n",
       "11     -1.384071e+09     8.281260e+07  \n",
       "12     -1.384071e+09     8.281260e+07  "
      ]
     },
     "execution_count": 122,
     "metadata": {},
     "output_type": "execute_result"
    }
   ],
   "source": [
    "params={'alpha': [25,10,4,2,1.0,0.8,0.5,0.3,0.2,0.1,0.05,0.02,0.01]}\n",
    "rdg_reg = Ridge()\n",
    "\n",
    "model = GridSearchCV(rdg_reg,params,cv=2,verbose = 1, scoring = 'neg_mean_squared_error')         \n",
    "model.fit(X_train, y_train)\n",
    "\n",
    "pd.DataFrame(model.cv_results_)\n",
    "\n",
    "#print(\"# Exploración de hiperparámetros para función de coste \\\"%s\\\"\" % loss, end=\"\\n\\n\")\n",
    "    \n",
    "#print(\"Mejor conjunto de parámetros:\")\n",
    "#print(model.best_params_, end=\"\\n\\n\")\n",
    "\n"
   ]
  },
  {
   "cell_type": "markdown",
   "metadata": {},
   "source": [
    "### GridSearchCV Regresión Polinomial"
   ]
  },
  {
   "cell_type": "code",
   "execution_count": null,
   "metadata": {},
   "outputs": [],
   "source": []
  },
  {
   "cell_type": "code",
   "execution_count": null,
   "metadata": {},
   "outputs": [],
   "source": []
  },
  {
   "cell_type": "code",
   "execution_count": null,
   "metadata": {},
   "outputs": [],
   "source": []
  },
  {
   "cell_type": "markdown",
   "metadata": {},
   "source": [
    "# Ejercicio 4: Métricas sobre el conjunto de evaluación"
   ]
  },
  {
   "cell_type": "markdown",
   "metadata": {},
   "source": [
    "Una vez encontrados los mejores hiperparámetros para el modelo seleccionado en los apartados anteriores se evalúa el modelo final entrenado sobre el conjunto de datos de evaluación seleccionado en el ejercicio 1. Pueden utilizar las métricas que crean convenientes."
   ]
  },
  {
   "cell_type": "markdown",
   "metadata": {},
   "source": [
    "# Informe final"
   ]
  },
  {
   "cell_type": "markdown",
   "metadata": {},
   "source": [
    "Presentar un informe final con los datos inferidos del dataset utilizando herramientas gráficas y escritas teniendo en cuenta los destinatarios. En este caso colegas de la diplomatura para preparar el informe con un background adecuado al destinatario."
   ]
  },
  {
   "cell_type": "code",
   "execution_count": null,
   "metadata": {},
   "outputs": [],
   "source": []
  }
 ],
 "metadata": {
  "kernelspec": {
   "display_name": "Python 3",
   "language": "python",
   "name": "python3"
  },
  "language_info": {
   "codemirror_mode": {
    "name": "ipython",
    "version": 3
   },
   "file_extension": ".py",
   "mimetype": "text/x-python",
   "name": "python",
   "nbconvert_exporter": "python",
   "pygments_lexer": "ipython3",
   "version": "3.6.7"
  }
 },
 "nbformat": 4,
 "nbformat_minor": 2
}
