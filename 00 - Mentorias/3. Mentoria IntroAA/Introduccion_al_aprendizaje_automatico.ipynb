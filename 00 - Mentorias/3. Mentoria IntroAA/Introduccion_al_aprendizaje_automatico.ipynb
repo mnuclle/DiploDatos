{
 "cells": [
  {
   "cell_type": "markdown",
   "metadata": {},
   "source": [
    "# Proyecto: Análisis del mercado inmobiliario de la Ciudad de Buenos Aires"
   ]
  },
  {
   "cell_type": "markdown",
   "metadata": {},
   "source": [
    "Mentor: Javier Lezama."
   ]
  },
  {
   "cell_type": "markdown",
   "metadata": {},
   "source": [
    "javitolez@gmail.com"
   ]
  },
  {
   "cell_type": "markdown",
   "metadata": {},
   "source": [
    "En este proyecto vamos a trabajar con un dataset de propiedades en venta publicadas en el portal www.Properati.com.ar."
   ]
  },
  {
   "cell_type": "markdown",
   "metadata": {},
   "source": [
    "# El dataset: propiedades en venta en Ciudad de Buenos Aires."
   ]
  },
  {
   "cell_type": "markdown",
   "metadata": {},
   "source": [
    "En este proyecto, trabajaremos con una muestra del conjunto de datos de propiedades en venta mencionado. En este dataset, cada fila es una propiedad en venta. \n",
    "\n",
    "#Los atributos\n",
    "\n",
    "A continuación vamos a describir los atributos que consideramos en esta muestra:\n",
    "* id: id de la propiedad\n",
    "* created_on: fecha en la que la propiedad ingresó al sitio\n",
    "* operation: alquiler (rent) o venta (sell)\n",
    "* property_type: tipo de propiedad (casa, departamento, ph, etcétera)\n",
    "* place_with_parent_names: nombre del lugar donde se encuentra la propiedad según el publicador\n",
    "* lat-lon: coordenadas concatenadas\n",
    "* lat: latitud\n",
    "* lon: longitud\n",
    "* price: precio en la moneda especificada en currency\n",
    "* currency: divisa en la que está expresada la publicación\n",
    "* price_aprox_usd: precio aproximado en dólares estadounidenses\n",
    "* surface_total_in_m2: superficie total (en metros cuadrados)\n",
    "* surface_covered_in_m2: superficie cubierta (en metros cuadrados)\n",
    "* price_usd_per_m2: precio por metro cuadrado en dólares (precio dólares / superficie)\n",
    "* floor: número de piso (si corresponde)\n",
    "* rooms: cantidad de ambientes\n",
    "* expenses: expensas (si corresponde)\n",
    "* barrio: barrio según cartografía oficial\n",
    "* properati_url: url de la publicación en Properati"
   ]
  },
  {
   "cell_type": "markdown",
   "metadata": {},
   "source": [
    "Objetivos del practico introducción al aprendizaje automático:\n",
    "\n",
    "El objetivo de este practico es trabajar con el mismo dateset trabajado en el práctico dos, específicamente el objetivo es que se introduzcan en el desarrollo de un esquema para hacer tareas de aprendizaje automático: selección de un modelo, ajuste de hiperparámetros y evaluación.\n",
    "\n",
    "Para eso trabajaremos con el dataset resultante del practico dos para armar nuestros primeros modelos para predecir el precio de las propiedades en dólares."
   ]
  },
  {
   "cell_type": "markdown",
   "metadata": {},
   "source": [
    "# Manos a la obra"
   ]
  },
  {
   "cell_type": "markdown",
   "metadata": {},
   "source": [
    "Partiremos con el dataset resultante del práctico dos. El práctico está basado en el práctico final de la materia introducción al aprendizaje automatico del año 2018."
   ]
  },
  {
   "cell_type": "code",
   "execution_count": 1,
   "metadata": {},
   "outputs": [],
   "source": [
    "import matplotlib.pyplot as plt\n",
    "import numpy as np\n",
    "import pandas as pd\n",
    "import seaborn as sns\n",
    "\n",
    "from matplotlib.colors import ListedColormap\n",
    "from sklearn.datasets import load_boston, load_breast_cancer, load_iris\n",
    "from sklearn import linear_model , metrics\n",
    "from sklearn.linear_model import LinearRegression\n",
    "from sklearn.metrics import accuracy_score, confusion_matrix, mean_squared_error, r2_score\n",
    "from sklearn.preprocessing import PolynomialFeatures\n",
    "from sklearn.pipeline import make_pipeline\n",
    "\n",
    "np.random.seed(1234)  # Setup seed to be more deterministic\n",
    "\n",
    "%matplotlib inline"
   ]
  },
  {
   "cell_type": "code",
   "execution_count": 2,
   "metadata": {},
   "outputs": [
    {
     "name": "stdout",
     "output_type": "stream",
     "text": [
      "<class 'pandas.core.frame.DataFrame'>\n",
      "RangeIndex: 7716 entries, 0 to 7715\n",
      "Data columns (total 79 columns):\n",
      "Unnamed: 0                                                                       7716 non-null int64\n",
      "created_on                                                                       7716 non-null object\n",
      "operation                                                                        7716 non-null object\n",
      "property_type                                                                    7716 non-null int64\n",
      "place_with_parent_names                                                          7716 non-null object\n",
      "lat-lon                                                                          7716 non-null object\n",
      "lat                                                                              7716 non-null float64\n",
      "lon                                                                              7716 non-null float64\n",
      "price_aprox_usd                                                                  7716 non-null float64\n",
      "surface_total_in_m2                                                              7716 non-null float64\n",
      "surface_covered_in_m2                                                            7716 non-null float64\n",
      "price_usd_per_m2                                                                 7716 non-null float64\n",
      "rooms                                                                            7716 non-null float64\n",
      "properati_url                                                                    7716 non-null object\n",
      "comuna                                                                           7716 non-null float64\n",
      "barrio_cod                                                                       7716 non-null int64\n",
      "rooms_mean                                                                       7716 non-null float64\n",
      "operation_sell                                                                   7716 non-null int64\n",
      "place_with_parent_names_|Argentina|Capital Federal|                              7716 non-null int64\n",
      "place_with_parent_names_|Argentina|Capital Federal|Abasto|                       7716 non-null int64\n",
      "place_with_parent_names_|Argentina|Capital Federal|Agronomía|                    7716 non-null int64\n",
      "place_with_parent_names_|Argentina|Capital Federal|Almagro|                      7716 non-null int64\n",
      "place_with_parent_names_|Argentina|Capital Federal|Balvanera|                    7716 non-null int64\n",
      "place_with_parent_names_|Argentina|Capital Federal|Barracas|                     7716 non-null int64\n",
      "place_with_parent_names_|Argentina|Capital Federal|Barrio Norte|                 7716 non-null int64\n",
      "place_with_parent_names_|Argentina|Capital Federal|Belgrano|                     7716 non-null int64\n",
      "place_with_parent_names_|Argentina|Capital Federal|Boca|                         7716 non-null int64\n",
      "place_with_parent_names_|Argentina|Capital Federal|Boedo|                        7716 non-null int64\n",
      "place_with_parent_names_|Argentina|Capital Federal|Caballito|                    7716 non-null int64\n",
      "place_with_parent_names_|Argentina|Capital Federal|Catalinas|                    7716 non-null int64\n",
      "place_with_parent_names_|Argentina|Capital Federal|Centro / Microcentro|         7716 non-null int64\n",
      "place_with_parent_names_|Argentina|Capital Federal|Chacarita|                    7716 non-null int64\n",
      "place_with_parent_names_|Argentina|Capital Federal|Coghlan|                      7716 non-null int64\n",
      "place_with_parent_names_|Argentina|Capital Federal|Colegiales|                   7716 non-null int64\n",
      "place_with_parent_names_|Argentina|Capital Federal|Congreso|                     7716 non-null int64\n",
      "place_with_parent_names_|Argentina|Capital Federal|Constitución|                 7716 non-null int64\n",
      "place_with_parent_names_|Argentina|Capital Federal|Floresta|                     7716 non-null int64\n",
      "place_with_parent_names_|Argentina|Capital Federal|Flores|                       7716 non-null int64\n",
      "place_with_parent_names_|Argentina|Capital Federal|Las Cañitas|                  7716 non-null int64\n",
      "place_with_parent_names_|Argentina|Capital Federal|Liniers|                      7716 non-null int64\n",
      "place_with_parent_names_|Argentina|Capital Federal|Mataderos|                    7716 non-null int64\n",
      "place_with_parent_names_|Argentina|Capital Federal|Monserrat|                    7716 non-null int64\n",
      "place_with_parent_names_|Argentina|Capital Federal|Monte Castro|                 7716 non-null int64\n",
      "place_with_parent_names_|Argentina|Capital Federal|Nuñez|                        7716 non-null int64\n",
      "place_with_parent_names_|Argentina|Capital Federal|Once|                         7716 non-null int64\n",
      "place_with_parent_names_|Argentina|Capital Federal|Palermo|                      7716 non-null int64\n",
      "place_with_parent_names_|Argentina|Capital Federal|Palermo|Palermo Chico|        7716 non-null int64\n",
      "place_with_parent_names_|Argentina|Capital Federal|Palermo|Palermo Hollywood|    7716 non-null int64\n",
      "place_with_parent_names_|Argentina|Capital Federal|Palermo|Palermo Soho|         7716 non-null int64\n",
      "place_with_parent_names_|Argentina|Capital Federal|Palermo|Palermo Viejo|        7716 non-null int64\n",
      "place_with_parent_names_|Argentina|Capital Federal|Parque Avellaneda|            7716 non-null int64\n",
      "place_with_parent_names_|Argentina|Capital Federal|Parque Centenario|            7716 non-null int64\n",
      "place_with_parent_names_|Argentina|Capital Federal|Parque Chacabuco|             7716 non-null int64\n",
      "place_with_parent_names_|Argentina|Capital Federal|Parque Chas|                  7716 non-null int64\n",
      "place_with_parent_names_|Argentina|Capital Federal|Parque Patricios|             7716 non-null int64\n",
      "place_with_parent_names_|Argentina|Capital Federal|Paternal|                     7716 non-null int64\n",
      "place_with_parent_names_|Argentina|Capital Federal|Pompeya|                      7716 non-null int64\n",
      "place_with_parent_names_|Argentina|Capital Federal|Puerto Madero|                7716 non-null int64\n",
      "place_with_parent_names_|Argentina|Capital Federal|Recoleta|                     7716 non-null int64\n",
      "place_with_parent_names_|Argentina|Capital Federal|Retiro|                       7716 non-null int64\n",
      "place_with_parent_names_|Argentina|Capital Federal|Saavedra|                     7716 non-null int64\n",
      "place_with_parent_names_|Argentina|Capital Federal|San Cristobal|                7716 non-null int64\n",
      "place_with_parent_names_|Argentina|Capital Federal|San Nicolás|                  7716 non-null int64\n",
      "place_with_parent_names_|Argentina|Capital Federal|San Telmo|                    7716 non-null int64\n",
      "place_with_parent_names_|Argentina|Capital Federal|Tribunales|                   7716 non-null int64\n",
      "place_with_parent_names_|Argentina|Capital Federal|Velez Sarsfield|              7716 non-null int64\n",
      "place_with_parent_names_|Argentina|Capital Federal|Versalles|                    7716 non-null int64\n",
      "place_with_parent_names_|Argentina|Capital Federal|Villa Crespo|                 7716 non-null int64\n",
      "place_with_parent_names_|Argentina|Capital Federal|Villa Devoto|                 7716 non-null int64\n",
      "place_with_parent_names_|Argentina|Capital Federal|Villa General Mitre|          7716 non-null int64\n",
      "place_with_parent_names_|Argentina|Capital Federal|Villa Lugano|                 7716 non-null int64\n",
      "place_with_parent_names_|Argentina|Capital Federal|Villa Luro|                   7716 non-null int64\n",
      "place_with_parent_names_|Argentina|Capital Federal|Villa Ortuzar|                7716 non-null int64\n",
      "place_with_parent_names_|Argentina|Capital Federal|Villa Pueyrredón|             7716 non-null int64\n",
      "place_with_parent_names_|Argentina|Capital Federal|Villa Real|                   7716 non-null int64\n",
      "place_with_parent_names_|Argentina|Capital Federal|Villa Santa Rita|             7716 non-null int64\n",
      "place_with_parent_names_|Argentina|Capital Federal|Villa Urquiza|                7716 non-null int64\n",
      "place_with_parent_names_|Argentina|Capital Federal|Villa del Parque|             7716 non-null int64\n",
      "price_m2                                                                         7716 non-null float64\n",
      "dtypes: float64(10), int64(64), object(5)\n",
      "memory usage: 4.7+ MB\n"
     ]
    }
   ],
   "source": [
    "df_prop = pd.read_csv('df_bin.csv')\n",
    "df_prop.info()"
   ]
  },
  {
   "cell_type": "markdown",
   "metadata": {},
   "source": [
    "# Ejercicio 1: División de datos en conjuntos de entrenamiento y evaluación."
   ]
  },
  {
   "cell_type": "markdown",
   "metadata": {},
   "source": [
    "La primer tarea consiste en dividir el conjunto de datos cargados en el apartado anterior en conjuntos de entrenamiento (o training) y evaluación (o test)."
   ]
  },
  {
   "cell_type": "markdown",
   "metadata": {},
   "source": [
    "Se define un dataframe con los features que se consideran importantes para la definición del precio de la propiedad"
   ]
  },
  {
   "cell_type": "code",
   "execution_count": 3,
   "metadata": {},
   "outputs": [
    {
     "data": {
      "text/html": [
       "<div>\n",
       "<style scoped>\n",
       "    .dataframe tbody tr th:only-of-type {\n",
       "        vertical-align: middle;\n",
       "    }\n",
       "\n",
       "    .dataframe tbody tr th {\n",
       "        vertical-align: top;\n",
       "    }\n",
       "\n",
       "    .dataframe thead th {\n",
       "        text-align: right;\n",
       "    }\n",
       "</style>\n",
       "<table border=\"1\" class=\"dataframe\">\n",
       "  <thead>\n",
       "    <tr style=\"text-align: right;\">\n",
       "      <th></th>\n",
       "      <th>surface_total_in_m2</th>\n",
       "      <th>barrio_cod</th>\n",
       "      <th>property_type</th>\n",
       "      <th>rooms</th>\n",
       "      <th>surface_covered_in_m2</th>\n",
       "      <th>price_aprox_usd</th>\n",
       "    </tr>\n",
       "  </thead>\n",
       "  <tbody>\n",
       "    <tr>\n",
       "      <th>0</th>\n",
       "      <td>130.0</td>\n",
       "      <td>20</td>\n",
       "      <td>1</td>\n",
       "      <td>4.000000</td>\n",
       "      <td>120.0</td>\n",
       "      <td>340000.00</td>\n",
       "    </tr>\n",
       "    <tr>\n",
       "      <th>1</th>\n",
       "      <td>70.0</td>\n",
       "      <td>20</td>\n",
       "      <td>1</td>\n",
       "      <td>2.422019</td>\n",
       "      <td>70.0</td>\n",
       "      <td>180000.00</td>\n",
       "    </tr>\n",
       "    <tr>\n",
       "      <th>2</th>\n",
       "      <td>532.0</td>\n",
       "      <td>20</td>\n",
       "      <td>2</td>\n",
       "      <td>6.000000</td>\n",
       "      <td>334.0</td>\n",
       "      <td>1200000.00</td>\n",
       "    </tr>\n",
       "    <tr>\n",
       "      <th>3</th>\n",
       "      <td>72.0</td>\n",
       "      <td>20</td>\n",
       "      <td>0</td>\n",
       "      <td>3.000000</td>\n",
       "      <td>72.0</td>\n",
       "      <td>219000.00</td>\n",
       "    </tr>\n",
       "    <tr>\n",
       "      <th>4</th>\n",
       "      <td>40.0</td>\n",
       "      <td>20</td>\n",
       "      <td>1</td>\n",
       "      <td>1.000000</td>\n",
       "      <td>36.0</td>\n",
       "      <td>119124.77</td>\n",
       "    </tr>\n",
       "  </tbody>\n",
       "</table>\n",
       "</div>"
      ],
      "text/plain": [
       "   surface_total_in_m2  barrio_cod  property_type     rooms  \\\n",
       "0                130.0          20              1  4.000000   \n",
       "1                 70.0          20              1  2.422019   \n",
       "2                532.0          20              2  6.000000   \n",
       "3                 72.0          20              0  3.000000   \n",
       "4                 40.0          20              1  1.000000   \n",
       "\n",
       "   surface_covered_in_m2  price_aprox_usd  \n",
       "0                  120.0        340000.00  \n",
       "1                   70.0        180000.00  \n",
       "2                  334.0       1200000.00  \n",
       "3                   72.0        219000.00  \n",
       "4                   36.0        119124.77  "
      ]
     },
     "execution_count": 3,
     "metadata": {},
     "output_type": "execute_result"
    }
   ],
   "source": [
    "df_prop_gt = df_prop[['surface_total_in_m2','barrio_cod','property_type','rooms','surface_covered_in_m2','price_aprox_usd']]\n",
    "df_prop_gt.head()"
   ]
  },
  {
   "cell_type": "markdown",
   "metadata": {},
   "source": [
    "Se separa el set de datos tomando el 80% para entrenamiento y el 20% para validación"
   ]
  },
  {
   "cell_type": "code",
   "execution_count": 12,
   "metadata": {},
   "outputs": [],
   "source": [
    "#Utilizamos aproximadamente 90% de los datos para entrenamiento y 20% para validación\n",
    "#entradas = len(df_prop)\n",
    "#data_div = round(entradas*0.9)\n",
    "\n",
    "#shuff_data = np.random.permutation(506)\n",
    "#shuff_train = shuff_data[:data_div]\n",
    "#shuff_val = shuff_data[data_div:]\n",
    "\n",
    "X = df_prop_gt.drop('price_aprox_usd', axis=1)\n",
    "y = df_prop_gt.price_aprox_usd\n",
    "\n",
    "from sklearn.model_selection import train_test_split\n",
    "#Random state sirve para sembrar una \"Seed\" de como se distribuyen los datos para el algoritmo\n",
    "X_train, X_valid, y_train, y_valid = train_test_split(X, y, test_size=0.2, random_state=42)\n",
    "\n",
    "# Necesario para poder hacer un regresor por feature\n",
    "#features_names = df_prop.columns\n",
    "#feature_map = {feature: idx for idx, feature in enumerate(features_names)}"
   ]
  },
  {
   "cell_type": "markdown",
   "metadata": {},
   "source": [
    "\n",
    "# Ejercicio 2: Elección de un modelo de regresión."
   ]
  },
  {
   "cell_type": "markdown",
   "metadata": {},
   "source": [
    "https://gist.github.com/lprowell/81ab813d84096290c5a833a8c7731355"
   ]
  },
  {
   "cell_type": "markdown",
   "metadata": {},
   "source": [
    "Basándose en lo visto en el teórico escojan y justifiquen un modelo de aprendizaje automático de regresión, para predecir el precio de las propiedades en dólares. Selección de regulizador, selección de la función de coste, etc."
   ]
  },
  {
   "cell_type": "markdown",
   "metadata": {},
   "source": [
    "- Elección Modelo Regresión Lineal"
   ]
  },
  {
   "cell_type": "code",
   "execution_count": 5,
   "metadata": {},
   "outputs": [
    {
     "name": "stdout",
     "output_type": "stream",
     "text": [
      "Media del error cuadrado para entrenamiento: 1381303235.87\n",
      "Media del error cuadrado para validación: 1190908525.00\n"
     ]
    }
   ],
   "source": [
    "# Entrenamos un clasificador utilizando sólo ese atributo sobre el conjunto de entrenamiento (X_train, y_train)\n",
    "#model = LinearRegression()\n",
    "model = linear_model.Ridge(alpha=0.1)\n",
    "model.fit(X_train, y_train)\n",
    "\n",
    "# Evaluamos el desempeño del clasificador utilizando la media del error cuadrado (MSE o mean squared error)\n",
    "# sobre el conjunto de datos de entrenamiento (X_train, y_train) y lo comparamos con el de validación (X_val, y_val)\n",
    "# Mientras más cercano a cero mejor\n",
    "print('Media del error cuadrado para entrenamiento: %.2f' % \n",
    "      mean_squared_error(y_train, model.predict(X_train)))\n",
    "print('Media del error cuadrado para validación: %.2f' %\n",
    "      mean_squared_error(y_valid, model.predict(X_valid)))"
   ]
  },
  {
   "cell_type": "code",
   "execution_count": 6,
   "metadata": {},
   "outputs": [
    {
     "name": "stdout",
     "output_type": "stream",
     "text": [
      "Media del error cuadrado para entrenamiento: 1381303236.00\n",
      "Media del error cuadrado para validación: 1190908496.52\n"
     ]
    }
   ],
   "source": [
    "# Entrenamos un clasificador utilizando sólo ese atributo sobre el conjunto de entrenamiento (X_train, y_train)\n",
    "#model = LinearRegression()\n",
    "model = linear_model.Lasso(alpha=0.1)\n",
    "model.fit(X_train, y_train)\n",
    "\n",
    "# Evaluamos el desempeño del clasificador utilizando la media del error cuadrado (MSE o mean squared error)\n",
    "# sobre el conjunto de datos de entrenamiento (X_train, y_train) y lo comparamos con el de validación (X_val, y_val)\n",
    "# Mientras más cercano a cero mejor\n",
    "print('Media del error cuadrado para entrenamiento: %.2f' % \n",
    "      mean_squared_error(y_train, model.predict(X_train)))\n",
    "print('Media del error cuadrado para validación: %.2f' %\n",
    "      mean_squared_error(y_valid, model.predict(X_valid)))"
   ]
  },
  {
   "cell_type": "code",
   "execution_count": 38,
   "metadata": {},
   "outputs": [
    {
     "name": "stdout",
     "output_type": "stream",
     "text": [
      "Media del error cuadrado para entrenamiento: 1381303235.86\n",
      "Media del error cuadrado para validación: 1190908612.83\n"
     ]
    }
   ],
   "source": [
    "# Entrenamos un clasificador utilizando sólo ese atributo sobre el conjunto de entrenamiento (X_train, y_train)\n",
    "#model = LinearRegression()\n",
    "model = linear_model.LinearRegression()\n",
    "model.fit(X_train, y_train)\n",
    "\n",
    "# Evaluamos el desempeño del clasificador utilizando la media del error cuadrado (MSE o mean squared error)\n",
    "# sobre el conjunto de datos de entrenamiento (X_train, y_train) y lo comparamos con el de validación (X_val, y_val)\n",
    "# Mientras más cercano a cero mejor\n",
    "print('Media del error cuadrado para entrenamiento: %.2f' % \n",
    "      mean_squared_error(y_train, model.predict(X_train)))\n",
    "print('Media del error cuadrado para validación: %.2f' %\n",
    "      mean_squared_error(y_valid, model.predict(X_valid)))"
   ]
  },
  {
   "cell_type": "markdown",
   "metadata": {},
   "source": [
    "- Elección Modelo Regresión Polinomial"
   ]
  },
  {
   "cell_type": "code",
   "execution_count": 7,
   "metadata": {},
   "outputs": [
    {
     "name": "stdout",
     "output_type": "stream",
     "text": [
      "Media del error cuadrado para entrenamiento: 1242441149.22\n",
      "Media del error cuadrado para validación: 1171208356.38\n"
     ]
    },
    {
     "name": "stderr",
     "output_type": "stream",
     "text": [
      "C:\\Users\\Gabriel H\\.conda\\envs\\diplodatos\\lib\\site-packages\\sklearn\\linear_model\\ridge.py:125: LinAlgWarning: scipy.linalg.solve\n",
      "Ill-conditioned matrix detected. Result is not guaranteed to be accurate.\n",
      "Reciprocal condition number2.489736e-17\n",
      "  overwrite_a=True).T\n"
     ]
    }
   ],
   "source": [
    "polynomial_degree = 2 # TODO: Grado del polinomio.\n",
    "alpha = 0.1 #TODO: Parámetro de regularización. También denominado como parámetro `lambda`.\n",
    "\n",
    "poly_features = PolynomialFeatures(polynomial_degree)\n",
    "poly_features.fit(X_train)\n",
    "X_poly_train = poly_features.transform(X_train)\n",
    "X_poly_val = poly_features.transform(X_valid)\n",
    "\n",
    "model = linear_model.Ridge(alpha=alpha)\n",
    "model.fit(X_poly_train, y_train)\n",
    "\n",
    "print('Media del error cuadrado para entrenamiento: %.2f' % \n",
    "      mean_squared_error(y_train, model.predict(X_poly_train)))\n",
    "print('Media del error cuadrado para validación: %.2f' %\n",
    "      mean_squared_error(y_valid, model.predict(X_poly_val)))"
   ]
  },
  {
   "cell_type": "code",
   "execution_count": 8,
   "metadata": {},
   "outputs": [
    {
     "name": "stdout",
     "output_type": "stream",
     "text": [
      "Media del error cuadrado para entrenamiento: 1244541724.98\n",
      "Media del error cuadrado para validación: 1185016668.36\n"
     ]
    },
    {
     "name": "stderr",
     "output_type": "stream",
     "text": [
      "C:\\Users\\Gabriel H\\.conda\\envs\\diplodatos\\lib\\site-packages\\sklearn\\linear_model\\coordinate_descent.py:492: ConvergenceWarning: Objective did not converge. You might want to increase the number of iterations. Fitting data with very small alpha may cause precision problems.\n",
      "  ConvergenceWarning)\n"
     ]
    }
   ],
   "source": [
    "polynomial_degree = 2 # TODO: Grado del polinomio.\n",
    "alpha = 0.1 #TODO: Parámetro de regularización. También denominado como parámetro `lambda`.\n",
    "\n",
    "poly_features = PolynomialFeatures(polynomial_degree)\n",
    "poly_features.fit(X_train)\n",
    "X_poly_train = poly_features.transform(X_train)\n",
    "X_poly_val = poly_features.transform(X_valid)\n",
    "\n",
    "model = linear_model.Lasso(alpha=alpha)\n",
    "model.fit(X_poly_train, y_train)\n",
    "\n",
    "print('Media del error cuadrado para entrenamiento: %.2f' % \n",
    "      mean_squared_error(y_train, model.predict(X_poly_train)))\n",
    "print('Media del error cuadrado para validación: %.2f' %\n",
    "      mean_squared_error(y_valid, model.predict(X_poly_val)))"
   ]
  },
  {
   "cell_type": "code",
   "execution_count": 9,
   "metadata": {},
   "outputs": [
    {
     "name": "stdout",
     "output_type": "stream",
     "text": [
      "Media del error cuadrado para entrenamiento: 1242441108.04\n",
      "Media del error cuadrado para validación: 1171223092.99\n"
     ]
    }
   ],
   "source": [
    "polynomial_degree = 2 # TODO: Grado del polinomio.\n",
    "\n",
    "poly_features = PolynomialFeatures(polynomial_degree)\n",
    "poly_features.fit(X_train)\n",
    "X_poly_train = poly_features.transform(X_train)\n",
    "X_poly_val = poly_features.transform(X_valid)\n",
    "\n",
    "model = linear_model.LinearRegression()\n",
    "model.fit(X_poly_train, y_train)\n",
    "\n",
    "print('Media del error cuadrado para entrenamiento: %.2f' % \n",
    "      mean_squared_error(y_train, model.predict(X_poly_train)))\n",
    "print('Media del error cuadrado para validación: %.2f' %\n",
    "      mean_squared_error(y_valid, model.predict(X_poly_val)))"
   ]
  },
  {
   "cell_type": "markdown",
   "metadata": {},
   "source": [
    "# Ejercicio 3: Selección de hiperparámetros."
   ]
  },
  {
   "cell_type": "markdown",
   "metadata": {},
   "source": [
    "Utilizando búsqueda exhaustiva (grid search) con 5-fold cross-validation y utilizando como métrica el área bajo la curva de ROC (o ROC-AUC), hagan una selección de los mejores hiperparámetros para su conjunto de datos y el modelo que hayan elegido en el apartado anterior."
   ]
  },
  {
   "cell_type": "code",
   "execution_count": 13,
   "metadata": {},
   "outputs": [],
   "source": [
    "from sklearn.metrics import accuracy_score\n",
    "from sklearn.model_selection import GridSearchCV"
   ]
  },
  {
   "cell_type": "markdown",
   "metadata": {},
   "source": [
    "### GridSearchCV Regresión Lineal"
   ]
  },
  {
   "cell_type": "code",
   "execution_count": 20,
   "metadata": {},
   "outputs": [
    {
     "name": "stdout",
     "output_type": "stream",
     "text": [
      "Fitting 5 folds for each of 16 candidates, totalling 80 fits\n"
     ]
    },
    {
     "name": "stderr",
     "output_type": "stream",
     "text": [
      "[Parallel(n_jobs=1)]: Using backend SequentialBackend with 1 concurrent workers.\n"
     ]
    },
    {
     "name": "stdout",
     "output_type": "stream",
     "text": [
      "-1396847524.5321035\n",
      "500\n"
     ]
    },
    {
     "name": "stderr",
     "output_type": "stream",
     "text": [
      "[Parallel(n_jobs=1)]: Done  80 out of  80 | elapsed:    0.3s finished\n"
     ]
    }
   ],
   "source": [
    "params={'alpha': [500,100,50,25,10,4,2,1.0,0.8,0.5,0.3,0.2,0.1,0.05,0.02,0.01]}\n",
    "estimators = linear_model.Ridge()\n",
    "\n",
    "model = GridSearchCV(estimators,params,cv=5,verbose = 1, scoring = 'neg_mean_squared_error')         \n",
    "model.fit(X_train, y_train)\n",
    "\n",
    "#Acá arme un dataframe con los resultados, pero la clave sería ver el reporte que armó el profe en clase \n",
    "#pd.DataFrame(model.cv_results_)\n",
    "\n",
    "#print(\"# Exploración de hiperparámetros para función de coste \\\"%s\\\"\" % loss, end=\"\\n\\n\")\n",
    "\n",
    "#https://machinelearningmastery.com/how-to-tune-algorithm-parameters-with-scikit-learn/\n",
    "#print(\"Mejor conjunto de parámetros:\")\n",
    "print(model.best_score_)\n",
    "print(model.best_estimator_.alpha)\n"
   ]
  },
  {
   "cell_type": "markdown",
   "metadata": {},
   "source": [
    "### GridSearchCV Regresión Polinomial"
   ]
  },
  {
   "cell_type": "code",
   "execution_count": 27,
   "metadata": {},
   "outputs": [],
   "source": [
    "from matplotlib import pyplot as plt\n",
    "import numpy as np\n",
    "from scipy import stats\n",
    "from sklearn.base import BaseEstimator\n"
   ]
  },
  {
   "cell_type": "code",
   "execution_count": 28,
   "metadata": {},
   "outputs": [
    {
     "name": "stdout",
     "output_type": "stream",
     "text": [
      "Media del error cuadrado para entrenamiento: 1381303235.86\n",
      "Media del error cuadrado para validación: 1190908612.83\n",
      "Media del error cuadrado para entrenamiento: 1242441108.04\n",
      "Media del error cuadrado para validación: 1171223092.99\n",
      "Media del error cuadrado para entrenamiento: 1060527371.85\n",
      "Media del error cuadrado para validación: 1430872670.30\n",
      "Media del error cuadrado para entrenamiento: 949188925.35\n",
      "Media del error cuadrado para validación: 5105420223.39\n",
      "Media del error cuadrado para entrenamiento: 1451565477.46\n",
      "Media del error cuadrado para validación: 138917023936713.67\n",
      "Media del error cuadrado para entrenamiento: 31111976874.91\n",
      "Media del error cuadrado para validación: 19445279789722632.00\n",
      "Media del error cuadrado para entrenamiento: 32042949762.42\n",
      "Media del error cuadrado para validación: 79625002589411824.00\n",
      "Media del error cuadrado para entrenamiento: 78316313720.32\n",
      "Media del error cuadrado para validación: 33542228253884724.00\n",
      "Media del error cuadrado para entrenamiento: 121975758758.77\n",
      "Media del error cuadrado para validación: 4947113359422367.00\n",
      "Media del error cuadrado para entrenamiento: 30985417377.11\n",
      "Media del error cuadrado para validación: 8375855627180.07\n",
      "Media del error cuadrado para entrenamiento: 54654624211.37\n",
      "Media del error cuadrado para validación: 129043478563391.09\n"
     ]
    }
   ],
   "source": [
    "for polynomial_degree in (1,2,3,4,5,6,7,8,9,10,11) : # TODO: Probar distintos grados del polinomio\n",
    "\n",
    "    poly_features = PolynomialFeatures(polynomial_degree)\n",
    "    poly_features.fit(X_train)\n",
    "    X_poly_train = poly_features.transform(X_train)\n",
    "    X_poly_val = poly_features.transform(X_valid)\n",
    "\n",
    "    model = LinearRegression()\n",
    "    model.fit(X_poly_train, y_train)\n",
    "\n",
    "    print('Media del error cuadrado para entrenamiento: %.2f' % \n",
    "      mean_squared_error(y_train, model.predict(X_poly_train)))\n",
    "    print('Media del error cuadrado para validación: %.2f' %\n",
    "      mean_squared_error(y_valid, model.predict(X_poly_val)))"
   ]
  },
  {
   "cell_type": "code",
   "execution_count": 33,
   "metadata": {},
   "outputs": [],
   "source": [
    "def PolynomialRegressionLasso(degree=2, **kwargs):\n",
    "    return make_pipeline(PolynomialFeatures(degree), LinearRegression(**kwargs))"
   ]
  },
  {
   "cell_type": "code",
   "execution_count": 34,
   "metadata": {
    "scrolled": true
   },
   "outputs": [
    {
     "ename": "NameError",
     "evalue": "name 'PolynomialRegression' is not defined",
     "output_type": "error",
     "traceback": [
      "\u001b[1;31m---------------------------------------------------------------------------\u001b[0m",
      "\u001b[1;31mNameError\u001b[0m                                 Traceback (most recent call last)",
      "\u001b[1;32m<ipython-input-34-2388186002f5>\u001b[0m in \u001b[0;36m<module>\u001b[1;34m\u001b[0m\n\u001b[0;32m      1\u001b[0m \u001b[0mparam_grid\u001b[0m \u001b[1;33m=\u001b[0m \u001b[1;33m{\u001b[0m\u001b[1;34m'polynomialfeatures__degree'\u001b[0m\u001b[1;33m:\u001b[0m \u001b[0mnp\u001b[0m\u001b[1;33m.\u001b[0m\u001b[0marange\u001b[0m\u001b[1;33m(\u001b[0m\u001b[1;36m9\u001b[0m\u001b[1;33m)\u001b[0m\u001b[1;33m}\u001b[0m\u001b[1;33m\u001b[0m\u001b[1;33m\u001b[0m\u001b[0m\n\u001b[0;32m      2\u001b[0m \u001b[1;33m\u001b[0m\u001b[0m\n\u001b[1;32m----> 3\u001b[1;33m poly_grid = GridSearchCV(PolynomialRegression(), param_grid, \n\u001b[0m\u001b[0;32m      4\u001b[0m                          \u001b[0mcv\u001b[0m\u001b[1;33m=\u001b[0m\u001b[1;36m5\u001b[0m\u001b[1;33m,\u001b[0m\u001b[1;33m\u001b[0m\u001b[1;33m\u001b[0m\u001b[0m\n\u001b[0;32m      5\u001b[0m                          \u001b[0mscoring\u001b[0m\u001b[1;33m=\u001b[0m\u001b[1;34m'neg_mean_squared_error'\u001b[0m\u001b[1;33m,\u001b[0m\u001b[1;33m\u001b[0m\u001b[1;33m\u001b[0m\u001b[0m\n",
      "\u001b[1;31mNameError\u001b[0m: name 'PolynomialRegression' is not defined"
     ]
    }
   ],
   "source": [
    "param_grid = {'polynomialfeatures__degree': np.arange(9)}\n",
    "\n",
    "poly_grid = GridSearchCV(PolynomialRegression(), param_grid, \n",
    "                         cv=5, \n",
    "                         scoring='neg_mean_squared_error', \n",
    "                         verbose=3,\n",
    "                         n_jobs =2\n",
    "                        ) \n",
    "\n",
    "poly_grid.fit(X_train, y_train)\n"
   ]
  },
  {
   "cell_type": "code",
   "execution_count": 31,
   "metadata": {},
   "outputs": [
    {
     "name": "stdout",
     "output_type": "stream",
     "text": [
      "# Exploración de hiperparámetros para función de coste mean_square\"%s\"\n",
      "\n",
      "\n",
      "Mejor conjunto de parámetros:\n"
     ]
    },
    {
     "ename": "NameError",
     "evalue": "name 'poly_grid' is not defined",
     "output_type": "error",
     "traceback": [
      "\u001b[1;31m---------------------------------------------------------------------------\u001b[0m",
      "\u001b[1;31mNameError\u001b[0m                                 Traceback (most recent call last)",
      "\u001b[1;32m<ipython-input-31-5a5a1e308919>\u001b[0m in \u001b[0;36m<module>\u001b[1;34m\u001b[0m\n\u001b[0;32m      2\u001b[0m \u001b[1;33m\u001b[0m\u001b[0m\n\u001b[0;32m      3\u001b[0m \u001b[0mprint\u001b[0m\u001b[1;33m(\u001b[0m\u001b[1;34m\"Mejor conjunto de parámetros:\"\u001b[0m\u001b[1;33m)\u001b[0m\u001b[1;33m\u001b[0m\u001b[1;33m\u001b[0m\u001b[0m\n\u001b[1;32m----> 4\u001b[1;33m \u001b[0mprint\u001b[0m\u001b[1;33m(\u001b[0m\u001b[0mpoly_grid\u001b[0m\u001b[1;33m.\u001b[0m\u001b[0mbest_params_\u001b[0m\u001b[1;33m,\u001b[0m \u001b[0mend\u001b[0m\u001b[1;33m=\u001b[0m\u001b[1;34m\"\\n\\n\"\u001b[0m\u001b[1;33m)\u001b[0m\u001b[1;33m\u001b[0m\u001b[1;33m\u001b[0m\u001b[0m\n\u001b[0m\u001b[0;32m      5\u001b[0m \u001b[1;33m\u001b[0m\u001b[0m\n\u001b[0;32m      6\u001b[0m \u001b[0mprint\u001b[0m\u001b[1;33m(\u001b[0m\u001b[1;34m\"Puntajes de la grilla:\"\u001b[0m\u001b[1;33m,\u001b[0m \u001b[0mend\u001b[0m\u001b[1;33m=\u001b[0m\u001b[1;34m\"\\n\\n\"\u001b[0m\u001b[1;33m)\u001b[0m\u001b[1;33m\u001b[0m\u001b[1;33m\u001b[0m\u001b[0m\n",
      "\u001b[1;31mNameError\u001b[0m: name 'poly_grid' is not defined"
     ]
    }
   ],
   "source": [
    "print(\"# Exploración de hiperparámetros para función de coste mean_square\\\"%s\\\"\\n\\n\")\n",
    "    \n",
    "print(\"Mejor conjunto de parámetros:\")\n",
    "print(poly_grid.best_params_, end=\"\\n\\n\")\n",
    "\n",
    "print(\"Puntajes de la grilla:\", end=\"\\n\\n\")\n",
    "means = poly_grid.cv_results_['mean_test_score']\n",
    "stds = poly_grid.cv_results_['std_test_score']\n",
    "for mean, std, params in zip(means, stds, poly_grid.cv_results_['params']):\n",
    "    print(\"Exactitud: %0.3f (+/-%0.03f) para los parámetros %r\" % (mean, std ** 2, params))\n",
    "print()"
   ]
  },
  {
   "cell_type": "code",
   "execution_count": 35,
   "metadata": {},
   "outputs": [],
   "source": [
    "from sklearn.linear_model import Ridge"
   ]
  },
  {
   "cell_type": "code",
   "execution_count": 36,
   "metadata": {},
   "outputs": [],
   "source": [
    "def PolynomialRegressionRidge(degree=2, alpha=1,random_state=42):\n",
    "    return make_pipeline(PolynomialFeatures(degree), Ridge(random_state,alpha))"
   ]
  },
  {
   "cell_type": "code",
   "execution_count": 39,
   "metadata": {},
   "outputs": [
    {
     "name": "stdout",
     "output_type": "stream",
     "text": [
      "Fitting 5 folds for each of 36 candidates, totalling 180 fits\n"
     ]
    },
    {
     "name": "stderr",
     "output_type": "stream",
     "text": [
      "[Parallel(n_jobs=2)]: Using backend LokyBackend with 2 concurrent workers.\n",
      "[Parallel(n_jobs=2)]: Done 180 out of 180 | elapsed:  1.8min finished\n",
      "C:\\Users\\Gabriel H\\.conda\\envs\\diplodatos\\lib\\site-packages\\sklearn\\model_selection\\_search.py:841: DeprecationWarning: The default of the `iid` parameter will change from True to False in version 0.22 and will be removed in 0.24. This will change numeric results when test-set sizes are unequal.\n",
      "  DeprecationWarning)\n"
     ]
    },
    {
     "data": {
      "text/plain": [
       "GridSearchCV(cv=5, error_score='raise-deprecating',\n",
       "       estimator=Pipeline(memory=None,\n",
       "     steps=[('polynomialfeatures', PolynomialFeatures(degree=2, include_bias=True, interaction_only=False)), ('ridge', Ridge(alpha=42, copy_X=True, fit_intercept=1, max_iter=None, normalize=False,\n",
       "   random_state=None, solver='auto', tol=0.001))]),\n",
       "       fit_params=None, iid='warn', n_jobs=2,\n",
       "       param_grid={'polynomialfeatures__degree': array([0, 1, 2, 3, 4, 5, 6, 7, 8]), 'ridge__alpha': [0.1, 0.01, 0.001, 1]},\n",
       "       pre_dispatch='2*n_jobs', refit=True, return_train_score='warn',\n",
       "       scoring='neg_mean_squared_error', verbose=3)"
      ]
     },
     "execution_count": 39,
     "metadata": {},
     "output_type": "execute_result"
    }
   ],
   "source": [
    "param_grid = {'polynomialfeatures__degree': np.arange(9),\n",
    "              'ridge__alpha': [0.1, 0.01, 0.001,1]\n",
    "             }\n",
    "\n",
    "poly_grid = GridSearchCV(PolynomialRegressionRidge(), param_grid, \n",
    "                         cv=5, \n",
    "                         scoring='neg_mean_squared_error', \n",
    "                         verbose=3,\n",
    "                         n_jobs =2\n",
    "                        ) \n",
    "\n",
    "poly_grid.fit(X_train, y_train)"
   ]
  },
  {
   "cell_type": "code",
   "execution_count": 68,
   "metadata": {},
   "outputs": [
    {
     "name": "stdout",
     "output_type": "stream",
     "text": [
      "# Exploración de hiperparámetros para función de coste mean_square\"%s\"\n",
      "\n",
      "\n",
      "Mejor conjunto de parámetros:\n",
      "{'polynomialfeatures__degree': 1, 'ridge__alpha': 1}\n",
      "\n",
      "Puntajes de la grilla:\n",
      "\n",
      "Exactitud: -34755673853.317 (+/-3123301732792002560.000) para los parámetros {'polynomialfeatures__degree': 0, 'ridge__alpha': 0.1}\n",
      "Exactitud: -34755673853.317 (+/-3123301732792002560.000) para los parámetros {'polynomialfeatures__degree': 0, 'ridge__alpha': 0.01}\n",
      "Exactitud: -34755673853.317 (+/-3123301732792002560.000) para los parámetros {'polynomialfeatures__degree': 0, 'ridge__alpha': 0.001}\n",
      "Exactitud: -34755673853.317 (+/-3123301732792002560.000) para los parámetros {'polynomialfeatures__degree': 0, 'ridge__alpha': 1}\n",
      "Exactitud: -1398589603.164 (+/-8129831462108328.000) para los parámetros {'polynomialfeatures__degree': 1, 'ridge__alpha': 0.1}\n",
      "Exactitud: -1398590012.836 (+/-8129908262872359.000) para los parámetros {'polynomialfeatures__degree': 1, 'ridge__alpha': 0.01}\n",
      "Exactitud: -1398590053.807 (+/-8129915943177611.000) para los parámetros {'polynomialfeatures__degree': 1, 'ridge__alpha': 0.001}\n",
      "Exactitud: -1398585509.881 (+/-8129063683123860.000) para los parámetros {'polynomialfeatures__degree': 1, 'ridge__alpha': 1}\n",
      "Exactitud: -1598939033.090 (+/-123263539755680976.000) para los parámetros {'polynomialfeatures__degree': 2, 'ridge__alpha': 0.1}\n",
      "Exactitud: -1598975406.890 (+/-123309513692618976.000) para los parámetros {'polynomialfeatures__degree': 2, 'ridge__alpha': 0.01}\n",
      "Exactitud: -1598979061.777 (+/-123314121908794752.000) para los parámetros {'polynomialfeatures__degree': 2, 'ridge__alpha': 0.001}\n",
      "Exactitud: -1598592206.178 (+/-122814348415269776.000) para los parámetros {'polynomialfeatures__degree': 2, 'ridge__alpha': 1}\n",
      "Exactitud: -3772151649949.758 (+/-54760409235066492234498048.000) para los parámetros {'polynomialfeatures__degree': 3, 'ridge__alpha': 0.1}\n",
      "Exactitud: -3772486954262.676 (+/-54771849777072594829180928.000) para los parámetros {'polynomialfeatures__degree': 3, 'ridge__alpha': 0.01}\n",
      "Exactitud: -3772520385983.303 (+/-54772992534328575029936128.000) para los parámetros {'polynomialfeatures__degree': 3, 'ridge__alpha': 0.001}\n",
      "Exactitud: -3768713210902.126 (+/-54644949267888974994604032.000) para los parámetros {'polynomialfeatures__degree': 3, 'ridge__alpha': 1}\n",
      "Exactitud: -2741114204343145.500 (+/-5658772449156778739836859187200.000) para los parámetros {'polynomialfeatures__degree': 4, 'ridge__alpha': 0.1}\n",
      "Exactitud: -2729775761209195.500 (+/-5576489270525449632477454794752.000) para los parámetros {'polynomialfeatures__degree': 4, 'ridge__alpha': 0.01}\n",
      "Exactitud: -2728156276048898.500 (+/-5567088862067838215503210348544.000) para los parámetros {'polynomialfeatures__degree': 4, 'ridge__alpha': 0.001}\n",
      "Exactitud: -2842870244392405.500 (+/-6364835003482166812688848519168.000) para los parámetros {'polynomialfeatures__degree': 4, 'ridge__alpha': 1}\n",
      "Exactitud: -18569649621135978921984.000 (+/-1375135260798535197184841511084639556913332224.000) para los parámetros {'polynomialfeatures__degree': 5, 'ridge__alpha': 0.1}\n",
      "Exactitud: -18570666152054562488320.000 (+/-1375286079747015464732015847976440321389101056.000) para los parámetros {'polynomialfeatures__degree': 5, 'ridge__alpha': 0.01}\n",
      "Exactitud: -18570767819093120647168.000 (+/-1375301164165995565115273681078247025025220608.000) para los parámetros {'polynomialfeatures__degree': 5, 'ridge__alpha': 0.001}\n",
      "Exactitud: -18559498239045571444736.000 (+/-1373629591280219285381095079232414656575307776.000) para los parámetros {'polynomialfeatures__degree': 5, 'ridge__alpha': 1}\n",
      "Exactitud: -1172664306925389957365235712.000 (+/-5479697429476285663383455338071237482670646017927413760.000) para los parámetros {'polynomialfeatures__degree': 6, 'ridge__alpha': 0.1}\n",
      "Exactitud: -1172664306927901104484122624.000 (+/-5479697429499805300020296762788899008787114973166829568.000) para los parámetros {'polynomialfeatures__degree': 6, 'ridge__alpha': 0.01}\n",
      "Exactitud: -1172664306928155366548045824.000 (+/-5479697429502185915459275648279288777540707623574175744.000) para los parámetros {'polynomialfeatures__degree': 6, 'ridge__alpha': 0.001}\n",
      "Exactitud: -1172664306900139947711266816.000 (+/-5479697429239812557574353729779707639978872471203872768.000) para los parámetros {'polynomialfeatures__degree': 6, 'ridge__alpha': 1}\n",
      "Exactitud: -3143786104864387639335333134336.000 (+/-39393990926855661817911451583810493165321642147484375231496192.000) para los parámetros {'polynomialfeatures__degree': 7, 'ridge__alpha': 0.1}\n",
      "Exactitud: -3143786104864387639335333134336.000 (+/-39393990926855661817911451583810493165321642147484375231496192.000) para los parámetros {'polynomialfeatures__degree': 7, 'ridge__alpha': 0.01}\n",
      "Exactitud: -3143786104864387639335333134336.000 (+/-39393990926855661817911451583810493165321642147484375231496192.000) para los parámetros {'polynomialfeatures__degree': 7, 'ridge__alpha': 0.001}\n",
      "Exactitud: -3143786104864387639335333134336.000 (+/-39393990926855661817911451583810493165321642147484375231496192.000) para los parámetros {'polynomialfeatures__degree': 7, 'ridge__alpha': 1}\n",
      "Exactitud: -15386574931927897530782049107968.000 (+/-944295414307123877242792961847175809906358940033891223321182208.000) para los parámetros {'polynomialfeatures__degree': 8, 'ridge__alpha': 0.1}\n",
      "Exactitud: -15386574931927897530782049107968.000 (+/-944295414307123877242792961847175809906358940033891223321182208.000) para los parámetros {'polynomialfeatures__degree': 8, 'ridge__alpha': 0.01}\n",
      "Exactitud: -15386574931927897530782049107968.000 (+/-944295414307123877242792961847175809906358940033891223321182208.000) para los parámetros {'polynomialfeatures__degree': 8, 'ridge__alpha': 0.001}\n",
      "Exactitud: -15386574931927897530782049107968.000 (+/-944295414307123877242792961847175809906358940033891223321182208.000) para los parámetros {'polynomialfeatures__degree': 8, 'ridge__alpha': 1}\n",
      "\n"
     ]
    }
   ],
   "source": [
    "print(\"# Exploración de hiperparámetros para función de coste mean_square\\\"%s\\\"\\n\\n\")\n",
    "    \n",
    "print(\"Mejor conjunto de parámetros:\")\n",
    "print(poly_grid.best_params_, end=\"\\n\\n\")\n",
    "\n",
    "print(\"Puntajes de la grilla:\", end=\"\\n\\n\")\n",
    "means = poly_grid.cv_results_['mean_test_score']\n",
    "stds = poly_grid.cv_results_['std_test_score']\n",
    "for mean, std, params in zip(means, stds, poly_grid.cv_results_['params']):\n",
    "    print(\"Exactitud: %0.3f (+/-%0.03f) para los parámetros %r\" % (mean, std ** 2, params))\n",
    "print()"
   ]
  },
  {
   "cell_type": "code",
   "execution_count": 72,
   "metadata": {},
   "outputs": [],
   "source": [
    "from sklearn.linear_model import Lasso"
   ]
  },
  {
   "cell_type": "code",
   "execution_count": 73,
   "metadata": {},
   "outputs": [],
   "source": [
    "def PolynomialRegressionLasso(degree=2, alpha=1,random_state=42):\n",
    "    return make_pipeline(PolynomialFeatures(degree), Lasso(random_state,alpha))"
   ]
  },
  {
   "cell_type": "code",
   "execution_count": 74,
   "metadata": {},
   "outputs": [
    {
     "name": "stdout",
     "output_type": "stream",
     "text": [
      "Fitting 5 folds for each of 36 candidates, totalling 180 fits\n"
     ]
    },
    {
     "name": "stderr",
     "output_type": "stream",
     "text": [
      "[Parallel(n_jobs=2)]: Using backend LokyBackend with 2 concurrent workers.\n",
      "/home/manuel/anaconda3/envs/diplodatos/lib/python3.7/site-packages/sklearn/externals/joblib/externals/loky/process_executor.py:706: UserWarning: A worker stopped while some jobs were given to the executor. This can be caused by a too short worker timeout or by a memory leak.\n",
      "  \"timeout or by a memory leak.\", UserWarning\n",
      "/home/manuel/anaconda3/envs/diplodatos/lib/python3.7/site-packages/sklearn/externals/joblib/externals/loky/process_executor.py:706: UserWarning: A worker stopped while some jobs were given to the executor. This can be caused by a too short worker timeout or by a memory leak.\n",
      "  \"timeout or by a memory leak.\", UserWarning\n",
      "[Parallel(n_jobs=2)]: Done  39 tasks      | elapsed:  1.1min\n",
      "[Parallel(n_jobs=2)]: Done 135 tasks      | elapsed:  5.0min\n",
      "[Parallel(n_jobs=2)]: Done 180 out of 180 | elapsed:  6.7min finished\n",
      "/home/manuel/anaconda3/envs/diplodatos/lib/python3.7/site-packages/sklearn/model_selection/_search.py:841: DeprecationWarning: The default of the `iid` parameter will change from True to False in version 0.22 and will be removed in 0.24. This will change numeric results when test-set sizes are unequal.\n",
      "  DeprecationWarning)\n"
     ]
    },
    {
     "data": {
      "text/plain": [
       "GridSearchCV(cv=5, error_score='raise-deprecating',\n",
       "       estimator=Pipeline(memory=None,\n",
       "     steps=[('polynomialfeatures', PolynomialFeatures(degree=2, include_bias=True, interaction_only=False)), ('lasso', Lasso(alpha=42, copy_X=True, fit_intercept=1, max_iter=1000, normalize=False,\n",
       "   positive=False, precompute=False, random_state=None, selection='cyclic',\n",
       "   tol=0.0001, warm_start=False))]),\n",
       "       fit_params=None, iid='warn', n_jobs=2,\n",
       "       param_grid={'polynomialfeatures__degree': array([0, 1, 2, 3, 4, 5, 6, 7, 8]), 'lasso__alpha': [0.1, 0.01, 0.001, 1]},\n",
       "       pre_dispatch='2*n_jobs', refit=True, return_train_score='warn',\n",
       "       scoring='neg_mean_squared_error', verbose=3)"
      ]
     },
     "execution_count": 74,
     "metadata": {},
     "output_type": "execute_result"
    }
   ],
   "source": [
    "param_grid = {'polynomialfeatures__degree': np.arange(9),\n",
    "              'lasso__alpha': [0.1, 0.01, 0.001,1]\n",
    "             }\n",
    "\n",
    "poly_grid = GridSearchCV(PolynomialRegressionLasso(), param_grid, \n",
    "                         cv=5, \n",
    "                         scoring='neg_mean_squared_error', \n",
    "                         verbose=3,\n",
    "                         n_jobs =2\n",
    "                        ) \n",
    "\n",
    "poly_grid.fit(X_train, y_train)"
   ]
  },
  {
   "cell_type": "code",
   "execution_count": 75,
   "metadata": {},
   "outputs": [
    {
     "name": "stdout",
     "output_type": "stream",
     "text": [
      "# Exploración de hiperparámetros para función de coste mean_square\"%s\"\n",
      "\n",
      "\n",
      "Mejor conjunto de parámetros:\n",
      "{'lasso__alpha': 1, 'polynomialfeatures__degree': 1}\n",
      "\n",
      "Puntajes de la grilla:\n",
      "\n",
      "Exactitud: -34755673853.317 (+/-3123301732792002560.000) para los parámetros {'lasso__alpha': 0.1, 'polynomialfeatures__degree': 0}\n",
      "Exactitud: -1398588524.460 (+/-8129787163895926.000) para los parámetros {'lasso__alpha': 0.1, 'polynomialfeatures__degree': 1}\n",
      "Exactitud: -1603654800.587 (+/-114380738380813248.000) para los parámetros {'lasso__alpha': 0.1, 'polynomialfeatures__degree': 2}\n",
      "Exactitud: -1996338199.294 (+/-698137667876569472.000) para los parámetros {'lasso__alpha': 0.1, 'polynomialfeatures__degree': 3}\n",
      "Exactitud: -2204793367.064 (+/-887717679641045376.000) para los parámetros {'lasso__alpha': 0.1, 'polynomialfeatures__degree': 4}\n",
      "Exactitud: -9600076482.782 (+/-242961871987110445056.000) para los parámetros {'lasso__alpha': 0.1, 'polynomialfeatures__degree': 5}\n",
      "Exactitud: -16045179189.593 (+/-821686957377161265152.000) para los parámetros {'lasso__alpha': 0.1, 'polynomialfeatures__degree': 6}\n",
      "Exactitud: -32591052412.493 (+/-3782799665624227774464.000) para los parámetros {'lasso__alpha': 0.1, 'polynomialfeatures__degree': 7}\n",
      "Exactitud: -42775811488.150 (+/-6602556183040764149760.000) para los parámetros {'lasso__alpha': 0.1, 'polynomialfeatures__degree': 8}\n",
      "Exactitud: -34755673853.317 (+/-3123301732792002560.000) para los parámetros {'lasso__alpha': 0.01, 'polynomialfeatures__degree': 0}\n",
      "Exactitud: -1398589904.822 (+/-8129903823106238.000) para los parámetros {'lasso__alpha': 0.01, 'polynomialfeatures__degree': 1}\n",
      "Exactitud: -1603661898.931 (+/-114383088018693680.000) para los parámetros {'lasso__alpha': 0.01, 'polynomialfeatures__degree': 2}\n",
      "Exactitud: -1996704816.070 (+/-699303544635557120.000) para los parámetros {'lasso__alpha': 0.01, 'polynomialfeatures__degree': 3}\n",
      "Exactitud: -2204323006.860 (+/-886061506622119040.000) para los parámetros {'lasso__alpha': 0.01, 'polynomialfeatures__degree': 4}\n",
      "Exactitud: -9597982934.748 (+/-242828454458865516544.000) para los parámetros {'lasso__alpha': 0.01, 'polynomialfeatures__degree': 5}\n",
      "Exactitud: -16043489122.695 (+/-821489278171614281728.000) para los parámetros {'lasso__alpha': 0.01, 'polynomialfeatures__degree': 6}\n",
      "Exactitud: -32590979775.032 (+/-3782773943959392616448.000) para los parámetros {'lasso__alpha': 0.01, 'polynomialfeatures__degree': 7}\n",
      "Exactitud: -42777004951.671 (+/-6602936070833279336448.000) para los parámetros {'lasso__alpha': 0.01, 'polynomialfeatures__degree': 8}\n",
      "Exactitud: -34755673853.317 (+/-3123301732792002560.000) para los parámetros {'lasso__alpha': 0.001, 'polynomialfeatures__degree': 0}\n",
      "Exactitud: -1398590042.992 (+/-8129915498502926.000) para los parámetros {'lasso__alpha': 0.001, 'polynomialfeatures__degree': 1}\n",
      "Exactitud: -1603662609.007 (+/-114383322969494864.000) para los parámetros {'lasso__alpha': 0.001, 'polynomialfeatures__degree': 2}\n",
      "Exactitud: -1996741493.160 (+/-699420226112703872.000) para los parámetros {'lasso__alpha': 0.001, 'polynomialfeatures__degree': 3}\n",
      "Exactitud: -2204276100.968 (+/-885896467736009216.000) para los parámetros {'lasso__alpha': 0.001, 'polynomialfeatures__degree': 4}\n",
      "Exactitud: -9597773672.425 (+/-242815115679063375872.000) para los parámetros {'lasso__alpha': 0.001, 'polynomialfeatures__degree': 5}\n",
      "Exactitud: -16043324027.684 (+/-821469959237422284800.000) para los parámetros {'lasso__alpha': 0.001, 'polynomialfeatures__degree': 6}\n",
      "Exactitud: -32590974406.672 (+/-3782771841036391546880.000) para los parámetros {'lasso__alpha': 0.001, 'polynomialfeatures__degree': 7}\n",
      "Exactitud: -42777126857.665 (+/-6602974893241451675648.000) para los parámetros {'lasso__alpha': 0.001, 'polynomialfeatures__degree': 8}\n",
      "Exactitud: -34755673853.317 (+/-3123301732792002560.000) para los parámetros {'lasso__alpha': 1, 'polynomialfeatures__degree': 0}\n",
      "Exactitud: -1398574702.346 (+/-8128618849852421.000) para los parámetros {'lasso__alpha': 1, 'polynomialfeatures__degree': 1}\n",
      "Exactitud: -1603584071.658 (+/-114357229147555296.000) para los parámetros {'lasso__alpha': 1, 'polynomialfeatures__degree': 2}\n",
      "Exactitud: -1992683265.096 (+/-686558772832311168.000) para los parámetros {'lasso__alpha': 1, 'polynomialfeatures__degree': 3}\n",
      "Exactitud: -2209568034.390 (+/-904601255059212288.000) para los parámetros {'lasso__alpha': 1, 'polynomialfeatures__degree': 4}\n",
      "Exactitud: -9621138980.213 (+/-244299935877299929088.000) para los parámetros {'lasso__alpha': 1, 'polynomialfeatures__degree': 5}\n",
      "Exactitud: -16066364384.149 (+/-824156889694208000000.000) para los parámetros {'lasso__alpha': 1, 'polynomialfeatures__degree': 6}\n",
      "Exactitud: -32595162103.370 (+/-3783879367517210148864.000) para los parámetros {'lasso__alpha': 1, 'polynomialfeatures__degree': 7}\n",
      "Exactitud: -42767581174.548 (+/-6599964851481880821760.000) para los parámetros {'lasso__alpha': 1, 'polynomialfeatures__degree': 8}\n",
      "\n"
     ]
    }
   ],
   "source": [
    "print(\"# Exploración de hiperparámetros para función de coste mean_square\\\"%s\\\"\\n\\n\")\n",
    "    \n",
    "print(\"Mejor conjunto de parámetros:\")\n",
    "print(poly_grid.best_params_, end=\"\\n\\n\")\n",
    "\n",
    "print(\"Puntajes de la grilla:\", end=\"\\n\\n\")\n",
    "means = poly_grid.cv_results_['mean_test_score']\n",
    "stds = poly_grid.cv_results_['std_test_score']\n",
    "for mean, std, params in zip(means, stds, poly_grid.cv_results_['params']):\n",
    "    print(\"Exactitud: %0.3f (+/-%0.03f) para los parámetros %r\" % (mean, std ** 2, params))\n",
    "print()"
   ]
  },
  {
   "cell_type": "code",
   "execution_count": null,
   "metadata": {},
   "outputs": [],
   "source": [
    "estimator = PolynomialRegression()\n",
    "degrees = np.arange(1, 10)\n",
    "cv_model = GridSearchCV(estimator,\n",
    "                        param_grid={'deg': degrees},\n",
    "                        scoring='mean_squared_error')\n",
    "cv_model.fit(X_train, y_train)"
   ]
  },
  {
   "cell_type": "markdown",
   "metadata": {},
   "source": [
    "# Ejercicio 4: Métricas sobre el conjunto de evaluación"
   ]
  },
  {
   "cell_type": "markdown",
   "metadata": {},
   "source": [
    "Una vez encontrados los mejores hiperparámetros para el modelo seleccionado en los apartados anteriores se evalúa el modelo final entrenado sobre el conjunto de datos de evaluación seleccionado en el ejercicio 1. Pueden utilizar las métricas que crean convenientes."
   ]
  },
  {
   "cell_type": "markdown",
   "metadata": {},
   "source": [
    "# Informe final"
   ]
  },
  {
   "cell_type": "markdown",
   "metadata": {},
   "source": [
    "Presentar un informe final con los datos inferidos del dataset utilizando herramientas gráficas y escritas teniendo en cuenta los destinatarios. En este caso colegas de la diplomatura para preparar el informe con un background adecuado al destinatario."
   ]
  },
  {
   "cell_type": "code",
   "execution_count": null,
   "metadata": {},
   "outputs": [],
   "source": []
  }
 ],
 "metadata": {
  "kernelspec": {
   "display_name": "Python 3",
   "language": "python",
   "name": "python3"
  },
  "language_info": {
   "codemirror_mode": {
    "name": "ipython",
    "version": 3
   },
   "file_extension": ".py",
   "mimetype": "text/x-python",
   "name": "python",
   "nbconvert_exporter": "python",
   "pygments_lexer": "ipython3",
   "version": "3.6.7"
  }
 },
 "nbformat": 4,
 "nbformat_minor": 2
}
